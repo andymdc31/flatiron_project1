{
 "cells": [
  {
   "cell_type": "markdown",
   "metadata": {},
   "source": [
    "# Final Project Submission\n",
    "\n",
    "Please fill out:\n",
    "* Student name: Andy Martin del Campo\n",
    "* Student pace: full time\n",
    "* Scheduled project review date/time: 9/11/19 @ 11 AM\n",
    "* Instructor name: Victor\n",
    "* Blog post URL:\n"
   ]
  },
  {
   "cell_type": "markdown",
   "metadata": {},
   "source": [
    "# Questions to ask\n",
    "\n",
    "1. What are the drawbacks of using IterativeImputer?\n",
    "\n",
    "2. What are the top 3 features you could use to predict a price based on this model?\n",
    "\n",
    "3. What is the worst feature in predicting price?"
   ]
  },
  {
   "cell_type": "markdown",
   "metadata": {
    "ExecuteTime": {
     "end_time": "2019-08-27T15:41:22.954588Z",
     "start_time": "2019-08-27T15:41:22.951596Z"
    }
   },
   "source": [
    "# Getting the data\n"
   ]
  },
  {
   "cell_type": "code",
   "execution_count": 1,
   "metadata": {
    "ExecuteTime": {
     "end_time": "2019-09-10T14:49:03.501805Z",
     "start_time": "2019-09-10T14:49:02.245829Z"
    }
   },
   "outputs": [],
   "source": [
    "import pandas as pd\n",
    "import numpy as np\n",
    "import matplotlib.pyplot as plt\n",
    "import seaborn as sns\n",
    "import statsmodels.api as sm\n",
    "%matplotlib inline\n",
    "from sklearn.experimental import enable_iterative_imputer\n",
    "from sklearn.impute import IterativeImputer\n",
    "from sklearn.model_selection import train_test_split\n",
    "from sklearn.linear_model import LinearRegression\n",
    "from sklearn.metrics import mean_squared_error\n",
    "\n",
    "#puts the CSV file into a pandas dataframe for viewing and manipulation\n",
    "df = pd.read_csv('kc_house_data.csv')"
   ]
  },
  {
   "cell_type": "code",
   "execution_count": 2,
   "metadata": {
    "ExecuteTime": {
     "end_time": "2019-09-10T14:49:03.951659Z",
     "start_time": "2019-09-10T14:49:03.934702Z"
    }
   },
   "outputs": [
    {
     "data": {
      "text/html": [
       "<div>\n",
       "<style scoped>\n",
       "    .dataframe tbody tr th:only-of-type {\n",
       "        vertical-align: middle;\n",
       "    }\n",
       "\n",
       "    .dataframe tbody tr th {\n",
       "        vertical-align: top;\n",
       "    }\n",
       "\n",
       "    .dataframe thead th {\n",
       "        text-align: right;\n",
       "    }\n",
       "</style>\n",
       "<table border=\"1\" class=\"dataframe\">\n",
       "  <thead>\n",
       "    <tr style=\"text-align: right;\">\n",
       "      <th></th>\n",
       "      <th>id</th>\n",
       "      <th>date</th>\n",
       "      <th>price</th>\n",
       "      <th>bedrooms</th>\n",
       "      <th>bathrooms</th>\n",
       "      <th>sqft_living</th>\n",
       "      <th>sqft_lot</th>\n",
       "      <th>floors</th>\n",
       "      <th>waterfront</th>\n",
       "      <th>view</th>\n",
       "      <th>...</th>\n",
       "      <th>grade</th>\n",
       "      <th>sqft_above</th>\n",
       "      <th>sqft_basement</th>\n",
       "      <th>yr_built</th>\n",
       "      <th>yr_renovated</th>\n",
       "      <th>zipcode</th>\n",
       "      <th>lat</th>\n",
       "      <th>long</th>\n",
       "      <th>sqft_living15</th>\n",
       "      <th>sqft_lot15</th>\n",
       "    </tr>\n",
       "  </thead>\n",
       "  <tbody>\n",
       "    <tr>\n",
       "      <th>0</th>\n",
       "      <td>7129300520</td>\n",
       "      <td>10/13/2014</td>\n",
       "      <td>221900.0</td>\n",
       "      <td>3</td>\n",
       "      <td>1.00</td>\n",
       "      <td>1180</td>\n",
       "      <td>5650</td>\n",
       "      <td>1.0</td>\n",
       "      <td>NaN</td>\n",
       "      <td>0.0</td>\n",
       "      <td>...</td>\n",
       "      <td>7</td>\n",
       "      <td>1180</td>\n",
       "      <td>0.0</td>\n",
       "      <td>1955</td>\n",
       "      <td>0.0</td>\n",
       "      <td>98178</td>\n",
       "      <td>47.5112</td>\n",
       "      <td>-122.257</td>\n",
       "      <td>1340</td>\n",
       "      <td>5650</td>\n",
       "    </tr>\n",
       "    <tr>\n",
       "      <th>1</th>\n",
       "      <td>6414100192</td>\n",
       "      <td>12/9/2014</td>\n",
       "      <td>538000.0</td>\n",
       "      <td>3</td>\n",
       "      <td>2.25</td>\n",
       "      <td>2570</td>\n",
       "      <td>7242</td>\n",
       "      <td>2.0</td>\n",
       "      <td>0.0</td>\n",
       "      <td>0.0</td>\n",
       "      <td>...</td>\n",
       "      <td>7</td>\n",
       "      <td>2170</td>\n",
       "      <td>400.0</td>\n",
       "      <td>1951</td>\n",
       "      <td>1991.0</td>\n",
       "      <td>98125</td>\n",
       "      <td>47.7210</td>\n",
       "      <td>-122.319</td>\n",
       "      <td>1690</td>\n",
       "      <td>7639</td>\n",
       "    </tr>\n",
       "    <tr>\n",
       "      <th>2</th>\n",
       "      <td>5631500400</td>\n",
       "      <td>2/25/2015</td>\n",
       "      <td>180000.0</td>\n",
       "      <td>2</td>\n",
       "      <td>1.00</td>\n",
       "      <td>770</td>\n",
       "      <td>10000</td>\n",
       "      <td>1.0</td>\n",
       "      <td>0.0</td>\n",
       "      <td>0.0</td>\n",
       "      <td>...</td>\n",
       "      <td>6</td>\n",
       "      <td>770</td>\n",
       "      <td>0.0</td>\n",
       "      <td>1933</td>\n",
       "      <td>NaN</td>\n",
       "      <td>98028</td>\n",
       "      <td>47.7379</td>\n",
       "      <td>-122.233</td>\n",
       "      <td>2720</td>\n",
       "      <td>8062</td>\n",
       "    </tr>\n",
       "    <tr>\n",
       "      <th>3</th>\n",
       "      <td>2487200875</td>\n",
       "      <td>12/9/2014</td>\n",
       "      <td>604000.0</td>\n",
       "      <td>4</td>\n",
       "      <td>3.00</td>\n",
       "      <td>1960</td>\n",
       "      <td>5000</td>\n",
       "      <td>1.0</td>\n",
       "      <td>0.0</td>\n",
       "      <td>0.0</td>\n",
       "      <td>...</td>\n",
       "      <td>7</td>\n",
       "      <td>1050</td>\n",
       "      <td>910.0</td>\n",
       "      <td>1965</td>\n",
       "      <td>0.0</td>\n",
       "      <td>98136</td>\n",
       "      <td>47.5208</td>\n",
       "      <td>-122.393</td>\n",
       "      <td>1360</td>\n",
       "      <td>5000</td>\n",
       "    </tr>\n",
       "    <tr>\n",
       "      <th>4</th>\n",
       "      <td>1954400510</td>\n",
       "      <td>2/18/2015</td>\n",
       "      <td>510000.0</td>\n",
       "      <td>3</td>\n",
       "      <td>2.00</td>\n",
       "      <td>1680</td>\n",
       "      <td>8080</td>\n",
       "      <td>1.0</td>\n",
       "      <td>0.0</td>\n",
       "      <td>0.0</td>\n",
       "      <td>...</td>\n",
       "      <td>8</td>\n",
       "      <td>1680</td>\n",
       "      <td>0.0</td>\n",
       "      <td>1987</td>\n",
       "      <td>0.0</td>\n",
       "      <td>98074</td>\n",
       "      <td>47.6168</td>\n",
       "      <td>-122.045</td>\n",
       "      <td>1800</td>\n",
       "      <td>7503</td>\n",
       "    </tr>\n",
       "  </tbody>\n",
       "</table>\n",
       "<p>5 rows × 21 columns</p>\n",
       "</div>"
      ],
      "text/plain": [
       "           id        date     price  bedrooms  bathrooms  sqft_living  \\\n",
       "0  7129300520  10/13/2014  221900.0         3       1.00         1180   \n",
       "1  6414100192   12/9/2014  538000.0         3       2.25         2570   \n",
       "2  5631500400   2/25/2015  180000.0         2       1.00          770   \n",
       "3  2487200875   12/9/2014  604000.0         4       3.00         1960   \n",
       "4  1954400510   2/18/2015  510000.0         3       2.00         1680   \n",
       "\n",
       "   sqft_lot  floors  waterfront  view  ...  grade  sqft_above  sqft_basement  \\\n",
       "0      5650     1.0         NaN   0.0  ...      7        1180            0.0   \n",
       "1      7242     2.0         0.0   0.0  ...      7        2170          400.0   \n",
       "2     10000     1.0         0.0   0.0  ...      6         770            0.0   \n",
       "3      5000     1.0         0.0   0.0  ...      7        1050          910.0   \n",
       "4      8080     1.0         0.0   0.0  ...      8        1680            0.0   \n",
       "\n",
       "  yr_built  yr_renovated  zipcode      lat     long  sqft_living15  sqft_lot15  \n",
       "0     1955           0.0    98178  47.5112 -122.257           1340        5650  \n",
       "1     1951        1991.0    98125  47.7210 -122.319           1690        7639  \n",
       "2     1933           NaN    98028  47.7379 -122.233           2720        8062  \n",
       "3     1965           0.0    98136  47.5208 -122.393           1360        5000  \n",
       "4     1987           0.0    98074  47.6168 -122.045           1800        7503  \n",
       "\n",
       "[5 rows x 21 columns]"
      ]
     },
     "execution_count": 2,
     "metadata": {},
     "output_type": "execute_result"
    }
   ],
   "source": [
    "#brief look at data\n",
    "df.head()"
   ]
  },
  {
   "cell_type": "code",
   "execution_count": 3,
   "metadata": {
    "ExecuteTime": {
     "end_time": "2019-09-10T14:49:05.744804Z",
     "start_time": "2019-09-10T14:49:05.733836Z"
    },
    "scrolled": true
   },
   "outputs": [
    {
     "name": "stdout",
     "output_type": "stream",
     "text": [
      "<class 'pandas.core.frame.DataFrame'>\n",
      "RangeIndex: 21597 entries, 0 to 21596\n",
      "Data columns (total 21 columns):\n",
      "id               21597 non-null int64\n",
      "date             21597 non-null object\n",
      "price            21597 non-null float64\n",
      "bedrooms         21597 non-null int64\n",
      "bathrooms        21597 non-null float64\n",
      "sqft_living      21597 non-null int64\n",
      "sqft_lot         21597 non-null int64\n",
      "floors           21597 non-null float64\n",
      "waterfront       19221 non-null float64\n",
      "view             21534 non-null float64\n",
      "condition        21597 non-null int64\n",
      "grade            21597 non-null int64\n",
      "sqft_above       21597 non-null int64\n",
      "sqft_basement    21597 non-null object\n",
      "yr_built         21597 non-null int64\n",
      "yr_renovated     17755 non-null float64\n",
      "zipcode          21597 non-null int64\n",
      "lat              21597 non-null float64\n",
      "long             21597 non-null float64\n",
      "sqft_living15    21597 non-null int64\n",
      "sqft_lot15       21597 non-null int64\n",
      "dtypes: float64(8), int64(11), object(2)\n",
      "memory usage: 3.5+ MB\n"
     ]
    }
   ],
   "source": [
    "#get info on columns\n",
    "df.info() "
   ]
  },
  {
   "cell_type": "markdown",
   "metadata": {
    "heading_collapsed": true
   },
   "source": [
    "## First Assumptions\n",
    "- A few features have missing values. \n",
    "\n",
    "- I can get rid of the id as long as there are not duplicates.\n",
    "\n",
    "- For this project i also won't be using the date.\n",
    "\n",
    "- Need to get everything in the right datatype."
   ]
  },
  {
   "cell_type": "markdown",
   "metadata": {},
   "source": [
    "# Cleaning the Data"
   ]
  },
  {
   "cell_type": "markdown",
   "metadata": {
    "ExecuteTime": {
     "end_time": "2019-08-28T22:06:14.338521Z",
     "start_time": "2019-08-28T22:06:14.318574Z"
    }
   },
   "source": [
    "## Check for duplicates"
   ]
  },
  {
   "cell_type": "code",
   "execution_count": 4,
   "metadata": {
    "ExecuteTime": {
     "end_time": "2019-09-10T14:49:46.526249Z",
     "start_time": "2019-09-10T14:49:46.506304Z"
    }
   },
   "outputs": [
    {
     "name": "stdout",
     "output_type": "stream",
     "text": [
      "Empty DataFrame\n",
      "Columns: [id, date, price, bedrooms, bathrooms, sqft_living, sqft_lot, floors, waterfront, view, condition, grade, sqft_above, sqft_basement, yr_built, yr_renovated, zipcode, lat, long, sqft_living15, sqft_lot15]\n",
      "Index: []\n",
      "\n",
      "[0 rows x 21 columns]\n"
     ]
    }
   ],
   "source": [
    "duplicates = df[df.duplicated()]\n",
    "print(duplicates)"
   ]
  },
  {
   "cell_type": "markdown",
   "metadata": {},
   "source": [
    "- For the 'id' column there are several houses which have been relisted at several points. It is okay that they have the same value since the rest of the listing information is different\n"
   ]
  },
  {
   "cell_type": "markdown",
   "metadata": {
    "ExecuteTime": {
     "end_time": "2019-08-28T22:10:08.599342Z",
     "start_time": "2019-08-28T22:10:08.597349Z"
    }
   },
   "source": [
    "## Changing the column type to be something that makes sense"
   ]
  },
  {
   "cell_type": "code",
   "execution_count": 5,
   "metadata": {
    "ExecuteTime": {
     "end_time": "2019-09-10T14:49:54.317568Z",
     "start_time": "2019-09-10T14:49:54.306572Z"
    }
   },
   "outputs": [
    {
     "name": "stdout",
     "output_type": "stream",
     "text": [
      "<class 'pandas.core.frame.DataFrame'>\n",
      "RangeIndex: 21597 entries, 0 to 21596\n",
      "Data columns (total 21 columns):\n",
      "id               21597 non-null int64\n",
      "date             21597 non-null object\n",
      "price            21597 non-null float64\n",
      "bedrooms         21597 non-null int64\n",
      "bathrooms        21597 non-null float64\n",
      "sqft_living      21597 non-null int64\n",
      "sqft_lot         21597 non-null int64\n",
      "floors           21597 non-null float64\n",
      "waterfront       19221 non-null float64\n",
      "view             21534 non-null float64\n",
      "condition        21597 non-null int64\n",
      "grade            21597 non-null int64\n",
      "sqft_above       21597 non-null int64\n",
      "sqft_basement    21597 non-null object\n",
      "yr_built         21597 non-null int64\n",
      "yr_renovated     17755 non-null float64\n",
      "zipcode          21597 non-null int64\n",
      "lat              21597 non-null float64\n",
      "long             21597 non-null float64\n",
      "sqft_living15    21597 non-null int64\n",
      "sqft_lot15       21597 non-null int64\n",
      "dtypes: float64(8), int64(11), object(2)\n",
      "memory usage: 3.5+ MB\n"
     ]
    }
   ],
   "source": [
    "df.info()"
   ]
  },
  {
   "cell_type": "code",
   "execution_count": 10,
   "metadata": {
    "ExecuteTime": {
     "end_time": "2019-09-10T14:50:37.071643Z",
     "start_time": "2019-09-10T14:50:37.064630Z"
    }
   },
   "outputs": [
    {
     "data": {
      "text/plain": [
       "0.0       13280\n",
       "600.0       217\n",
       "500.0       209\n",
       "700.0       208\n",
       "800.0       201\n",
       "400.0       184\n",
       "1000.0      148\n",
       "900.0       142\n",
       "300.0       142\n",
       "200.0       105\n",
       "750.0       104\n",
       "450.0       103\n",
       "530.0       103\n",
       "480.0       103\n",
       "720.0        98\n",
       "620.0        90\n",
       "580.0        84\n",
       "840.0        83\n",
       "420.0        81\n",
       "860.0        79\n",
       "670.0        78\n",
       "1100.0       78\n",
       "780.0        76\n",
       "550.0        76\n",
       "650.0        75\n",
       "240.0        74\n",
       "680.0        73\n",
       "380.0        73\n",
       "850.0        72\n",
       "360.0        72\n",
       "          ...  \n",
       "2600.0        1\n",
       "2610.0        1\n",
       "276.0         1\n",
       "274.0         1\n",
       "1245.0        1\n",
       "143.0         1\n",
       "266.0         1\n",
       "862.0         1\n",
       "2180.0        1\n",
       "415.0         1\n",
       "243.0         1\n",
       "1135.0        1\n",
       "1525.0        1\n",
       "3000.0        1\n",
       "172.0         1\n",
       "225.0         1\n",
       "518.0         1\n",
       "935.0         1\n",
       "1920.0        1\n",
       "1930.0        1\n",
       "1990.0        1\n",
       "588.0         1\n",
       "1548.0        1\n",
       "2390.0        1\n",
       "602.0         1\n",
       "915.0         1\n",
       "295.0         1\n",
       "1281.0        1\n",
       "2130.0        1\n",
       "906.0         1\n",
       "Name: sqft_basement, Length: 303, dtype: int64"
      ]
     },
     "execution_count": 10,
     "metadata": {},
     "output_type": "execute_result"
    }
   ],
   "source": [
    "df.sqft_basement.value_counts()"
   ]
  },
  {
   "cell_type": "code",
   "execution_count": 7,
   "metadata": {
    "ExecuteTime": {
     "end_time": "2019-09-10T14:50:27.049512Z",
     "start_time": "2019-09-10T14:50:27.041528Z"
    }
   },
   "outputs": [],
   "source": [
    "#Change sqft_basement from a string to a float\n",
    "#The issue is there are a lot of '?' used. First I will change these to 0 \n",
    "#values and then the data type to float\n",
    "df.sqft_basement = df.sqft_basement.replace('?', 0)\n",
    "\n",
    "df.sqft_basement = df.sqft_basement.astype('float64')"
   ]
  },
  {
   "cell_type": "code",
   "execution_count": 8,
   "metadata": {
    "ExecuteTime": {
     "end_time": "2019-09-10T14:50:29.356449Z",
     "start_time": "2019-09-10T14:50:29.344458Z"
    }
   },
   "outputs": [
    {
     "name": "stdout",
     "output_type": "stream",
     "text": [
      "<class 'pandas.core.frame.DataFrame'>\n",
      "RangeIndex: 21597 entries, 0 to 21596\n",
      "Data columns (total 21 columns):\n",
      "id               21597 non-null int64\n",
      "date             21597 non-null object\n",
      "price            21597 non-null float64\n",
      "bedrooms         21597 non-null int64\n",
      "bathrooms        21597 non-null float64\n",
      "sqft_living      21597 non-null int64\n",
      "sqft_lot         21597 non-null int64\n",
      "floors           21597 non-null float64\n",
      "waterfront       19221 non-null float64\n",
      "view             21534 non-null float64\n",
      "condition        21597 non-null int64\n",
      "grade            21597 non-null int64\n",
      "sqft_above       21597 non-null int64\n",
      "sqft_basement    21597 non-null float64\n",
      "yr_built         21597 non-null int64\n",
      "yr_renovated     17755 non-null float64\n",
      "zipcode          21597 non-null int64\n",
      "lat              21597 non-null float64\n",
      "long             21597 non-null float64\n",
      "sqft_living15    21597 non-null int64\n",
      "sqft_lot15       21597 non-null int64\n",
      "dtypes: float64(9), int64(11), object(1)\n",
      "memory usage: 3.5+ MB\n"
     ]
    }
   ],
   "source": [
    "df.info()"
   ]
  },
  {
   "cell_type": "code",
   "execution_count": 9,
   "metadata": {
    "ExecuteTime": {
     "end_time": "2019-09-10T14:50:33.009021Z",
     "start_time": "2019-09-10T14:50:33.004054Z"
    }
   },
   "outputs": [],
   "source": [
    "#drop the date and id columns\n",
    "df = df.drop(columns = ['id','date'])"
   ]
  },
  {
   "cell_type": "markdown",
   "metadata": {
    "ExecuteTime": {
     "end_time": "2019-08-27T16:16:44.019816Z",
     "start_time": "2019-08-27T16:16:44.015827Z"
    }
   },
   "source": [
    "## Using IterativeImputer to impute missing values\n"
   ]
  },
  {
   "cell_type": "markdown",
   "metadata": {},
   "source": [
    "While I could have gone through and changed any NaN values to 0 or something else on my own I thought for this project it would be more benificial to my learning to use a function that others recommend is better than just filling the median/mean. While I know this may bias my data and in the end the model may be a little off I wanted to try it. \n",
    "\n",
    "IterativeImputer is a multivariate imputer that estimates each feature from all the others. It models each feature with missing values as a functIon of other features in a round-robin fashion. "
   ]
  },
  {
   "cell_type": "code",
   "execution_count": 11,
   "metadata": {
    "ExecuteTime": {
     "end_time": "2019-09-10T14:50:48.356857Z",
     "start_time": "2019-09-10T14:50:48.241167Z"
    }
   },
   "outputs": [
    {
     "data": {
      "text/html": [
       "<div>\n",
       "<style scoped>\n",
       "    .dataframe tbody tr th:only-of-type {\n",
       "        vertical-align: middle;\n",
       "    }\n",
       "\n",
       "    .dataframe tbody tr th {\n",
       "        vertical-align: top;\n",
       "    }\n",
       "\n",
       "    .dataframe thead th {\n",
       "        text-align: right;\n",
       "    }\n",
       "</style>\n",
       "<table border=\"1\" class=\"dataframe\">\n",
       "  <thead>\n",
       "    <tr style=\"text-align: right;\">\n",
       "      <th></th>\n",
       "      <th>price</th>\n",
       "      <th>bedrooms</th>\n",
       "      <th>bathrooms</th>\n",
       "      <th>sqft_living</th>\n",
       "      <th>sqft_lot</th>\n",
       "      <th>floors</th>\n",
       "      <th>waterfront</th>\n",
       "      <th>view</th>\n",
       "      <th>condition</th>\n",
       "      <th>grade</th>\n",
       "      <th>sqft_above</th>\n",
       "      <th>sqft_basement</th>\n",
       "      <th>yr_built</th>\n",
       "      <th>yr_renovated</th>\n",
       "      <th>zipcode</th>\n",
       "      <th>lat</th>\n",
       "      <th>long</th>\n",
       "      <th>sqft_living15</th>\n",
       "      <th>sqft_lot15</th>\n",
       "    </tr>\n",
       "  </thead>\n",
       "  <tbody>\n",
       "    <tr>\n",
       "      <th>0</th>\n",
       "      <td>221900.0</td>\n",
       "      <td>3.0</td>\n",
       "      <td>1.00</td>\n",
       "      <td>1180.0</td>\n",
       "      <td>5650.0</td>\n",
       "      <td>1.0</td>\n",
       "      <td>-0.00443</td>\n",
       "      <td>0.0</td>\n",
       "      <td>3.0</td>\n",
       "      <td>7.0</td>\n",
       "      <td>1180.0</td>\n",
       "      <td>0.0</td>\n",
       "      <td>1955.0</td>\n",
       "      <td>0.000000</td>\n",
       "      <td>98178.0</td>\n",
       "      <td>47.5112</td>\n",
       "      <td>-122.257</td>\n",
       "      <td>1340.0</td>\n",
       "      <td>5650.0</td>\n",
       "    </tr>\n",
       "    <tr>\n",
       "      <th>1</th>\n",
       "      <td>538000.0</td>\n",
       "      <td>3.0</td>\n",
       "      <td>2.25</td>\n",
       "      <td>2570.0</td>\n",
       "      <td>7242.0</td>\n",
       "      <td>2.0</td>\n",
       "      <td>0.00000</td>\n",
       "      <td>0.0</td>\n",
       "      <td>3.0</td>\n",
       "      <td>7.0</td>\n",
       "      <td>2170.0</td>\n",
       "      <td>400.0</td>\n",
       "      <td>1951.0</td>\n",
       "      <td>1991.000000</td>\n",
       "      <td>98125.0</td>\n",
       "      <td>47.7210</td>\n",
       "      <td>-122.319</td>\n",
       "      <td>1690.0</td>\n",
       "      <td>7639.0</td>\n",
       "    </tr>\n",
       "    <tr>\n",
       "      <th>2</th>\n",
       "      <td>180000.0</td>\n",
       "      <td>2.0</td>\n",
       "      <td>1.00</td>\n",
       "      <td>770.0</td>\n",
       "      <td>10000.0</td>\n",
       "      <td>1.0</td>\n",
       "      <td>0.00000</td>\n",
       "      <td>0.0</td>\n",
       "      <td>3.0</td>\n",
       "      <td>6.0</td>\n",
       "      <td>770.0</td>\n",
       "      <td>0.0</td>\n",
       "      <td>1933.0</td>\n",
       "      <td>131.686768</td>\n",
       "      <td>98028.0</td>\n",
       "      <td>47.7379</td>\n",
       "      <td>-122.233</td>\n",
       "      <td>2720.0</td>\n",
       "      <td>8062.0</td>\n",
       "    </tr>\n",
       "    <tr>\n",
       "      <th>3</th>\n",
       "      <td>604000.0</td>\n",
       "      <td>4.0</td>\n",
       "      <td>3.00</td>\n",
       "      <td>1960.0</td>\n",
       "      <td>5000.0</td>\n",
       "      <td>1.0</td>\n",
       "      <td>0.00000</td>\n",
       "      <td>0.0</td>\n",
       "      <td>5.0</td>\n",
       "      <td>7.0</td>\n",
       "      <td>1050.0</td>\n",
       "      <td>910.0</td>\n",
       "      <td>1965.0</td>\n",
       "      <td>0.000000</td>\n",
       "      <td>98136.0</td>\n",
       "      <td>47.5208</td>\n",
       "      <td>-122.393</td>\n",
       "      <td>1360.0</td>\n",
       "      <td>5000.0</td>\n",
       "    </tr>\n",
       "    <tr>\n",
       "      <th>4</th>\n",
       "      <td>510000.0</td>\n",
       "      <td>3.0</td>\n",
       "      <td>2.00</td>\n",
       "      <td>1680.0</td>\n",
       "      <td>8080.0</td>\n",
       "      <td>1.0</td>\n",
       "      <td>0.00000</td>\n",
       "      <td>0.0</td>\n",
       "      <td>3.0</td>\n",
       "      <td>8.0</td>\n",
       "      <td>1680.0</td>\n",
       "      <td>0.0</td>\n",
       "      <td>1987.0</td>\n",
       "      <td>0.000000</td>\n",
       "      <td>98074.0</td>\n",
       "      <td>47.6168</td>\n",
       "      <td>-122.045</td>\n",
       "      <td>1800.0</td>\n",
       "      <td>7503.0</td>\n",
       "    </tr>\n",
       "  </tbody>\n",
       "</table>\n",
       "</div>"
      ],
      "text/plain": [
       "      price  bedrooms  bathrooms  sqft_living  sqft_lot  floors  waterfront  \\\n",
       "0  221900.0       3.0       1.00       1180.0    5650.0     1.0    -0.00443   \n",
       "1  538000.0       3.0       2.25       2570.0    7242.0     2.0     0.00000   \n",
       "2  180000.0       2.0       1.00        770.0   10000.0     1.0     0.00000   \n",
       "3  604000.0       4.0       3.00       1960.0    5000.0     1.0     0.00000   \n",
       "4  510000.0       3.0       2.00       1680.0    8080.0     1.0     0.00000   \n",
       "\n",
       "   view  condition  grade  sqft_above  sqft_basement  yr_built  yr_renovated  \\\n",
       "0   0.0        3.0    7.0      1180.0            0.0    1955.0      0.000000   \n",
       "1   0.0        3.0    7.0      2170.0          400.0    1951.0   1991.000000   \n",
       "2   0.0        3.0    6.0       770.0            0.0    1933.0    131.686768   \n",
       "3   0.0        5.0    7.0      1050.0          910.0    1965.0      0.000000   \n",
       "4   0.0        3.0    8.0      1680.0            0.0    1987.0      0.000000   \n",
       "\n",
       "   zipcode      lat     long  sqft_living15  sqft_lot15  \n",
       "0  98178.0  47.5112 -122.257         1340.0      5650.0  \n",
       "1  98125.0  47.7210 -122.319         1690.0      7639.0  \n",
       "2  98028.0  47.7379 -122.233         2720.0      8062.0  \n",
       "3  98136.0  47.5208 -122.393         1360.0      5000.0  \n",
       "4  98074.0  47.6168 -122.045         1800.0      7503.0  "
      ]
     },
     "execution_count": 11,
     "metadata": {},
     "output_type": "execute_result"
    }
   ],
   "source": [
    "imp = IterativeImputer(max_iter=10, verbose=0)\n",
    "imp.fit(df)\n",
    "imputed_df = imp.transform(df)\n",
    "imputed_df = pd.DataFrame(imputed_df, columns=df.columns)\n",
    "imputed_df.head()"
   ]
  },
  {
   "cell_type": "code",
   "execution_count": 12,
   "metadata": {
    "ExecuteTime": {
     "end_time": "2019-09-10T14:50:49.895828Z",
     "start_time": "2019-09-10T14:50:49.888851Z"
    }
   },
   "outputs": [
    {
     "data": {
      "text/plain": [
       "price            0\n",
       "bedrooms         0\n",
       "bathrooms        0\n",
       "sqft_living      0\n",
       "sqft_lot         0\n",
       "floors           0\n",
       "waterfront       0\n",
       "view             0\n",
       "condition        0\n",
       "grade            0\n",
       "sqft_above       0\n",
       "sqft_basement    0\n",
       "yr_built         0\n",
       "yr_renovated     0\n",
       "zipcode          0\n",
       "lat              0\n",
       "long             0\n",
       "sqft_living15    0\n",
       "sqft_lot15       0\n",
       "dtype: int64"
      ]
     },
     "execution_count": 12,
     "metadata": {},
     "output_type": "execute_result"
    }
   ],
   "source": [
    "imputed_df.isna().sum()"
   ]
  },
  {
   "cell_type": "code",
   "execution_count": 13,
   "metadata": {
    "ExecuteTime": {
     "end_time": "2019-09-10T14:50:52.279703Z",
     "start_time": "2019-09-10T14:50:52.225842Z"
    }
   },
   "outputs": [
    {
     "data": {
      "text/html": [
       "<div>\n",
       "<style scoped>\n",
       "    .dataframe tbody tr th:only-of-type {\n",
       "        vertical-align: middle;\n",
       "    }\n",
       "\n",
       "    .dataframe tbody tr th {\n",
       "        vertical-align: top;\n",
       "    }\n",
       "\n",
       "    .dataframe thead th {\n",
       "        text-align: right;\n",
       "    }\n",
       "</style>\n",
       "<table border=\"1\" class=\"dataframe\">\n",
       "  <thead>\n",
       "    <tr style=\"text-align: right;\">\n",
       "      <th></th>\n",
       "      <th>price</th>\n",
       "      <th>bedrooms</th>\n",
       "      <th>bathrooms</th>\n",
       "      <th>sqft_living</th>\n",
       "      <th>sqft_lot</th>\n",
       "      <th>floors</th>\n",
       "      <th>waterfront</th>\n",
       "      <th>view</th>\n",
       "      <th>condition</th>\n",
       "      <th>grade</th>\n",
       "      <th>sqft_above</th>\n",
       "      <th>sqft_basement</th>\n",
       "      <th>yr_built</th>\n",
       "      <th>yr_renovated</th>\n",
       "      <th>zipcode</th>\n",
       "      <th>lat</th>\n",
       "      <th>long</th>\n",
       "      <th>sqft_living15</th>\n",
       "      <th>sqft_lot15</th>\n",
       "    </tr>\n",
       "  </thead>\n",
       "  <tbody>\n",
       "    <tr>\n",
       "      <th>count</th>\n",
       "      <td>2.159700e+04</td>\n",
       "      <td>21597.000000</td>\n",
       "      <td>21597.000000</td>\n",
       "      <td>21597.000000</td>\n",
       "      <td>2.159700e+04</td>\n",
       "      <td>21597.000000</td>\n",
       "      <td>21597.000000</td>\n",
       "      <td>21597.000000</td>\n",
       "      <td>21597.000000</td>\n",
       "      <td>21597.000000</td>\n",
       "      <td>21597.000000</td>\n",
       "      <td>21597.000000</td>\n",
       "      <td>21597.000000</td>\n",
       "      <td>21597.000000</td>\n",
       "      <td>21597.000000</td>\n",
       "      <td>21597.000000</td>\n",
       "      <td>21597.000000</td>\n",
       "      <td>21597.000000</td>\n",
       "      <td>21597.000000</td>\n",
       "    </tr>\n",
       "    <tr>\n",
       "      <th>mean</th>\n",
       "      <td>5.402966e+05</td>\n",
       "      <td>3.373200</td>\n",
       "      <td>2.115826</td>\n",
       "      <td>2080.321850</td>\n",
       "      <td>1.509941e+04</td>\n",
       "      <td>1.494096</td>\n",
       "      <td>0.007640</td>\n",
       "      <td>0.234330</td>\n",
       "      <td>3.409825</td>\n",
       "      <td>7.657915</td>\n",
       "      <td>1788.596842</td>\n",
       "      <td>285.716581</td>\n",
       "      <td>1970.999676</td>\n",
       "      <td>83.784332</td>\n",
       "      <td>98077.951845</td>\n",
       "      <td>47.560093</td>\n",
       "      <td>-122.213982</td>\n",
       "      <td>1986.620318</td>\n",
       "      <td>12758.283512</td>\n",
       "    </tr>\n",
       "    <tr>\n",
       "      <th>std</th>\n",
       "      <td>3.673681e+05</td>\n",
       "      <td>0.926299</td>\n",
       "      <td>0.768984</td>\n",
       "      <td>918.106125</td>\n",
       "      <td>4.141264e+04</td>\n",
       "      <td>0.539683</td>\n",
       "      <td>0.082933</td>\n",
       "      <td>0.765843</td>\n",
       "      <td>0.650546</td>\n",
       "      <td>1.173200</td>\n",
       "      <td>827.759761</td>\n",
       "      <td>439.819830</td>\n",
       "      <td>29.375234</td>\n",
       "      <td>367.769172</td>\n",
       "      <td>53.513072</td>\n",
       "      <td>0.138552</td>\n",
       "      <td>0.140724</td>\n",
       "      <td>685.230472</td>\n",
       "      <td>27274.441950</td>\n",
       "    </tr>\n",
       "    <tr>\n",
       "      <th>min</th>\n",
       "      <td>7.800000e+04</td>\n",
       "      <td>1.000000</td>\n",
       "      <td>0.500000</td>\n",
       "      <td>370.000000</td>\n",
       "      <td>5.200000e+02</td>\n",
       "      <td>1.000000</td>\n",
       "      <td>-0.083039</td>\n",
       "      <td>-0.190361</td>\n",
       "      <td>1.000000</td>\n",
       "      <td>3.000000</td>\n",
       "      <td>370.000000</td>\n",
       "      <td>0.000000</td>\n",
       "      <td>1900.000000</td>\n",
       "      <td>-267.361064</td>\n",
       "      <td>98001.000000</td>\n",
       "      <td>47.155900</td>\n",
       "      <td>-122.519000</td>\n",
       "      <td>399.000000</td>\n",
       "      <td>651.000000</td>\n",
       "    </tr>\n",
       "    <tr>\n",
       "      <th>25%</th>\n",
       "      <td>3.220000e+05</td>\n",
       "      <td>3.000000</td>\n",
       "      <td>1.750000</td>\n",
       "      <td>1430.000000</td>\n",
       "      <td>5.040000e+03</td>\n",
       "      <td>1.000000</td>\n",
       "      <td>0.000000</td>\n",
       "      <td>0.000000</td>\n",
       "      <td>3.000000</td>\n",
       "      <td>7.000000</td>\n",
       "      <td>1190.000000</td>\n",
       "      <td>0.000000</td>\n",
       "      <td>1951.000000</td>\n",
       "      <td>0.000000</td>\n",
       "      <td>98033.000000</td>\n",
       "      <td>47.471100</td>\n",
       "      <td>-122.328000</td>\n",
       "      <td>1490.000000</td>\n",
       "      <td>5100.000000</td>\n",
       "    </tr>\n",
       "    <tr>\n",
       "      <th>50%</th>\n",
       "      <td>4.500000e+05</td>\n",
       "      <td>3.000000</td>\n",
       "      <td>2.250000</td>\n",
       "      <td>1910.000000</td>\n",
       "      <td>7.618000e+03</td>\n",
       "      <td>1.500000</td>\n",
       "      <td>0.000000</td>\n",
       "      <td>0.000000</td>\n",
       "      <td>3.000000</td>\n",
       "      <td>7.000000</td>\n",
       "      <td>1560.000000</td>\n",
       "      <td>0.000000</td>\n",
       "      <td>1975.000000</td>\n",
       "      <td>0.000000</td>\n",
       "      <td>98065.000000</td>\n",
       "      <td>47.571800</td>\n",
       "      <td>-122.231000</td>\n",
       "      <td>1840.000000</td>\n",
       "      <td>7620.000000</td>\n",
       "    </tr>\n",
       "    <tr>\n",
       "      <th>75%</th>\n",
       "      <td>6.450000e+05</td>\n",
       "      <td>4.000000</td>\n",
       "      <td>2.500000</td>\n",
       "      <td>2550.000000</td>\n",
       "      <td>1.068500e+04</td>\n",
       "      <td>2.000000</td>\n",
       "      <td>0.000000</td>\n",
       "      <td>0.000000</td>\n",
       "      <td>4.000000</td>\n",
       "      <td>8.000000</td>\n",
       "      <td>2210.000000</td>\n",
       "      <td>550.000000</td>\n",
       "      <td>1997.000000</td>\n",
       "      <td>0.000000</td>\n",
       "      <td>98118.000000</td>\n",
       "      <td>47.678000</td>\n",
       "      <td>-122.125000</td>\n",
       "      <td>2360.000000</td>\n",
       "      <td>10083.000000</td>\n",
       "    </tr>\n",
       "    <tr>\n",
       "      <th>max</th>\n",
       "      <td>7.700000e+06</td>\n",
       "      <td>33.000000</td>\n",
       "      <td>8.000000</td>\n",
       "      <td>13540.000000</td>\n",
       "      <td>1.651359e+06</td>\n",
       "      <td>3.500000</td>\n",
       "      <td>1.000000</td>\n",
       "      <td>6.109648</td>\n",
       "      <td>5.000000</td>\n",
       "      <td>13.000000</td>\n",
       "      <td>9410.000000</td>\n",
       "      <td>4820.000000</td>\n",
       "      <td>2015.000000</td>\n",
       "      <td>2015.000000</td>\n",
       "      <td>98199.000000</td>\n",
       "      <td>47.777600</td>\n",
       "      <td>-121.315000</td>\n",
       "      <td>6210.000000</td>\n",
       "      <td>871200.000000</td>\n",
       "    </tr>\n",
       "  </tbody>\n",
       "</table>\n",
       "</div>"
      ],
      "text/plain": [
       "              price      bedrooms     bathrooms   sqft_living      sqft_lot  \\\n",
       "count  2.159700e+04  21597.000000  21597.000000  21597.000000  2.159700e+04   \n",
       "mean   5.402966e+05      3.373200      2.115826   2080.321850  1.509941e+04   \n",
       "std    3.673681e+05      0.926299      0.768984    918.106125  4.141264e+04   \n",
       "min    7.800000e+04      1.000000      0.500000    370.000000  5.200000e+02   \n",
       "25%    3.220000e+05      3.000000      1.750000   1430.000000  5.040000e+03   \n",
       "50%    4.500000e+05      3.000000      2.250000   1910.000000  7.618000e+03   \n",
       "75%    6.450000e+05      4.000000      2.500000   2550.000000  1.068500e+04   \n",
       "max    7.700000e+06     33.000000      8.000000  13540.000000  1.651359e+06   \n",
       "\n",
       "             floors    waterfront          view     condition         grade  \\\n",
       "count  21597.000000  21597.000000  21597.000000  21597.000000  21597.000000   \n",
       "mean       1.494096      0.007640      0.234330      3.409825      7.657915   \n",
       "std        0.539683      0.082933      0.765843      0.650546      1.173200   \n",
       "min        1.000000     -0.083039     -0.190361      1.000000      3.000000   \n",
       "25%        1.000000      0.000000      0.000000      3.000000      7.000000   \n",
       "50%        1.500000      0.000000      0.000000      3.000000      7.000000   \n",
       "75%        2.000000      0.000000      0.000000      4.000000      8.000000   \n",
       "max        3.500000      1.000000      6.109648      5.000000     13.000000   \n",
       "\n",
       "         sqft_above  sqft_basement      yr_built  yr_renovated       zipcode  \\\n",
       "count  21597.000000   21597.000000  21597.000000  21597.000000  21597.000000   \n",
       "mean    1788.596842     285.716581   1970.999676     83.784332  98077.951845   \n",
       "std      827.759761     439.819830     29.375234    367.769172     53.513072   \n",
       "min      370.000000       0.000000   1900.000000   -267.361064  98001.000000   \n",
       "25%     1190.000000       0.000000   1951.000000      0.000000  98033.000000   \n",
       "50%     1560.000000       0.000000   1975.000000      0.000000  98065.000000   \n",
       "75%     2210.000000     550.000000   1997.000000      0.000000  98118.000000   \n",
       "max     9410.000000    4820.000000   2015.000000   2015.000000  98199.000000   \n",
       "\n",
       "                lat          long  sqft_living15     sqft_lot15  \n",
       "count  21597.000000  21597.000000   21597.000000   21597.000000  \n",
       "mean      47.560093   -122.213982    1986.620318   12758.283512  \n",
       "std        0.138552      0.140724     685.230472   27274.441950  \n",
       "min       47.155900   -122.519000     399.000000     651.000000  \n",
       "25%       47.471100   -122.328000    1490.000000    5100.000000  \n",
       "50%       47.571800   -122.231000    1840.000000    7620.000000  \n",
       "75%       47.678000   -122.125000    2360.000000   10083.000000  \n",
       "max       47.777600   -121.315000    6210.000000  871200.000000  "
      ]
     },
     "execution_count": 13,
     "metadata": {},
     "output_type": "execute_result"
    }
   ],
   "source": [
    "imputed_df.describe()"
   ]
  },
  {
   "cell_type": "code",
   "execution_count": 14,
   "metadata": {
    "ExecuteTime": {
     "end_time": "2019-09-10T14:50:53.880451Z",
     "start_time": "2019-09-10T14:50:53.825626Z"
    }
   },
   "outputs": [
    {
     "data": {
      "text/html": [
       "<div>\n",
       "<style scoped>\n",
       "    .dataframe tbody tr th:only-of-type {\n",
       "        vertical-align: middle;\n",
       "    }\n",
       "\n",
       "    .dataframe tbody tr th {\n",
       "        vertical-align: top;\n",
       "    }\n",
       "\n",
       "    .dataframe thead th {\n",
       "        text-align: right;\n",
       "    }\n",
       "</style>\n",
       "<table border=\"1\" class=\"dataframe\">\n",
       "  <thead>\n",
       "    <tr style=\"text-align: right;\">\n",
       "      <th></th>\n",
       "      <th>price</th>\n",
       "      <th>bedrooms</th>\n",
       "      <th>bathrooms</th>\n",
       "      <th>sqft_living</th>\n",
       "      <th>sqft_lot</th>\n",
       "      <th>floors</th>\n",
       "      <th>waterfront</th>\n",
       "      <th>view</th>\n",
       "      <th>condition</th>\n",
       "      <th>grade</th>\n",
       "      <th>sqft_above</th>\n",
       "      <th>sqft_basement</th>\n",
       "      <th>yr_built</th>\n",
       "      <th>yr_renovated</th>\n",
       "      <th>zipcode</th>\n",
       "      <th>lat</th>\n",
       "      <th>long</th>\n",
       "      <th>sqft_living15</th>\n",
       "      <th>sqft_lot15</th>\n",
       "    </tr>\n",
       "  </thead>\n",
       "  <tbody>\n",
       "    <tr>\n",
       "      <th>count</th>\n",
       "      <td>2.159700e+04</td>\n",
       "      <td>21597.000000</td>\n",
       "      <td>21597.000000</td>\n",
       "      <td>21597.000000</td>\n",
       "      <td>2.159700e+04</td>\n",
       "      <td>21597.000000</td>\n",
       "      <td>19221.000000</td>\n",
       "      <td>21534.000000</td>\n",
       "      <td>21597.000000</td>\n",
       "      <td>21597.000000</td>\n",
       "      <td>21597.000000</td>\n",
       "      <td>21597.000000</td>\n",
       "      <td>21597.000000</td>\n",
       "      <td>17755.000000</td>\n",
       "      <td>21597.000000</td>\n",
       "      <td>21597.000000</td>\n",
       "      <td>21597.000000</td>\n",
       "      <td>21597.000000</td>\n",
       "      <td>21597.000000</td>\n",
       "    </tr>\n",
       "    <tr>\n",
       "      <th>mean</th>\n",
       "      <td>5.402966e+05</td>\n",
       "      <td>3.373200</td>\n",
       "      <td>2.115826</td>\n",
       "      <td>2080.321850</td>\n",
       "      <td>1.509941e+04</td>\n",
       "      <td>1.494096</td>\n",
       "      <td>0.007596</td>\n",
       "      <td>0.233863</td>\n",
       "      <td>3.409825</td>\n",
       "      <td>7.657915</td>\n",
       "      <td>1788.596842</td>\n",
       "      <td>285.716581</td>\n",
       "      <td>1970.999676</td>\n",
       "      <td>83.636778</td>\n",
       "      <td>98077.951845</td>\n",
       "      <td>47.560093</td>\n",
       "      <td>-122.213982</td>\n",
       "      <td>1986.620318</td>\n",
       "      <td>12758.283512</td>\n",
       "    </tr>\n",
       "    <tr>\n",
       "      <th>std</th>\n",
       "      <td>3.673681e+05</td>\n",
       "      <td>0.926299</td>\n",
       "      <td>0.768984</td>\n",
       "      <td>918.106125</td>\n",
       "      <td>4.141264e+04</td>\n",
       "      <td>0.539683</td>\n",
       "      <td>0.086825</td>\n",
       "      <td>0.765686</td>\n",
       "      <td>0.650546</td>\n",
       "      <td>1.173200</td>\n",
       "      <td>827.759761</td>\n",
       "      <td>439.819830</td>\n",
       "      <td>29.375234</td>\n",
       "      <td>399.946414</td>\n",
       "      <td>53.513072</td>\n",
       "      <td>0.138552</td>\n",
       "      <td>0.140724</td>\n",
       "      <td>685.230472</td>\n",
       "      <td>27274.441950</td>\n",
       "    </tr>\n",
       "    <tr>\n",
       "      <th>min</th>\n",
       "      <td>7.800000e+04</td>\n",
       "      <td>1.000000</td>\n",
       "      <td>0.500000</td>\n",
       "      <td>370.000000</td>\n",
       "      <td>5.200000e+02</td>\n",
       "      <td>1.000000</td>\n",
       "      <td>0.000000</td>\n",
       "      <td>0.000000</td>\n",
       "      <td>1.000000</td>\n",
       "      <td>3.000000</td>\n",
       "      <td>370.000000</td>\n",
       "      <td>0.000000</td>\n",
       "      <td>1900.000000</td>\n",
       "      <td>0.000000</td>\n",
       "      <td>98001.000000</td>\n",
       "      <td>47.155900</td>\n",
       "      <td>-122.519000</td>\n",
       "      <td>399.000000</td>\n",
       "      <td>651.000000</td>\n",
       "    </tr>\n",
       "    <tr>\n",
       "      <th>25%</th>\n",
       "      <td>3.220000e+05</td>\n",
       "      <td>3.000000</td>\n",
       "      <td>1.750000</td>\n",
       "      <td>1430.000000</td>\n",
       "      <td>5.040000e+03</td>\n",
       "      <td>1.000000</td>\n",
       "      <td>0.000000</td>\n",
       "      <td>0.000000</td>\n",
       "      <td>3.000000</td>\n",
       "      <td>7.000000</td>\n",
       "      <td>1190.000000</td>\n",
       "      <td>0.000000</td>\n",
       "      <td>1951.000000</td>\n",
       "      <td>0.000000</td>\n",
       "      <td>98033.000000</td>\n",
       "      <td>47.471100</td>\n",
       "      <td>-122.328000</td>\n",
       "      <td>1490.000000</td>\n",
       "      <td>5100.000000</td>\n",
       "    </tr>\n",
       "    <tr>\n",
       "      <th>50%</th>\n",
       "      <td>4.500000e+05</td>\n",
       "      <td>3.000000</td>\n",
       "      <td>2.250000</td>\n",
       "      <td>1910.000000</td>\n",
       "      <td>7.618000e+03</td>\n",
       "      <td>1.500000</td>\n",
       "      <td>0.000000</td>\n",
       "      <td>0.000000</td>\n",
       "      <td>3.000000</td>\n",
       "      <td>7.000000</td>\n",
       "      <td>1560.000000</td>\n",
       "      <td>0.000000</td>\n",
       "      <td>1975.000000</td>\n",
       "      <td>0.000000</td>\n",
       "      <td>98065.000000</td>\n",
       "      <td>47.571800</td>\n",
       "      <td>-122.231000</td>\n",
       "      <td>1840.000000</td>\n",
       "      <td>7620.000000</td>\n",
       "    </tr>\n",
       "    <tr>\n",
       "      <th>75%</th>\n",
       "      <td>6.450000e+05</td>\n",
       "      <td>4.000000</td>\n",
       "      <td>2.500000</td>\n",
       "      <td>2550.000000</td>\n",
       "      <td>1.068500e+04</td>\n",
       "      <td>2.000000</td>\n",
       "      <td>0.000000</td>\n",
       "      <td>0.000000</td>\n",
       "      <td>4.000000</td>\n",
       "      <td>8.000000</td>\n",
       "      <td>2210.000000</td>\n",
       "      <td>550.000000</td>\n",
       "      <td>1997.000000</td>\n",
       "      <td>0.000000</td>\n",
       "      <td>98118.000000</td>\n",
       "      <td>47.678000</td>\n",
       "      <td>-122.125000</td>\n",
       "      <td>2360.000000</td>\n",
       "      <td>10083.000000</td>\n",
       "    </tr>\n",
       "    <tr>\n",
       "      <th>max</th>\n",
       "      <td>7.700000e+06</td>\n",
       "      <td>33.000000</td>\n",
       "      <td>8.000000</td>\n",
       "      <td>13540.000000</td>\n",
       "      <td>1.651359e+06</td>\n",
       "      <td>3.500000</td>\n",
       "      <td>1.000000</td>\n",
       "      <td>4.000000</td>\n",
       "      <td>5.000000</td>\n",
       "      <td>13.000000</td>\n",
       "      <td>9410.000000</td>\n",
       "      <td>4820.000000</td>\n",
       "      <td>2015.000000</td>\n",
       "      <td>2015.000000</td>\n",
       "      <td>98199.000000</td>\n",
       "      <td>47.777600</td>\n",
       "      <td>-121.315000</td>\n",
       "      <td>6210.000000</td>\n",
       "      <td>871200.000000</td>\n",
       "    </tr>\n",
       "  </tbody>\n",
       "</table>\n",
       "</div>"
      ],
      "text/plain": [
       "              price      bedrooms     bathrooms   sqft_living      sqft_lot  \\\n",
       "count  2.159700e+04  21597.000000  21597.000000  21597.000000  2.159700e+04   \n",
       "mean   5.402966e+05      3.373200      2.115826   2080.321850  1.509941e+04   \n",
       "std    3.673681e+05      0.926299      0.768984    918.106125  4.141264e+04   \n",
       "min    7.800000e+04      1.000000      0.500000    370.000000  5.200000e+02   \n",
       "25%    3.220000e+05      3.000000      1.750000   1430.000000  5.040000e+03   \n",
       "50%    4.500000e+05      3.000000      2.250000   1910.000000  7.618000e+03   \n",
       "75%    6.450000e+05      4.000000      2.500000   2550.000000  1.068500e+04   \n",
       "max    7.700000e+06     33.000000      8.000000  13540.000000  1.651359e+06   \n",
       "\n",
       "             floors    waterfront          view     condition         grade  \\\n",
       "count  21597.000000  19221.000000  21534.000000  21597.000000  21597.000000   \n",
       "mean       1.494096      0.007596      0.233863      3.409825      7.657915   \n",
       "std        0.539683      0.086825      0.765686      0.650546      1.173200   \n",
       "min        1.000000      0.000000      0.000000      1.000000      3.000000   \n",
       "25%        1.000000      0.000000      0.000000      3.000000      7.000000   \n",
       "50%        1.500000      0.000000      0.000000      3.000000      7.000000   \n",
       "75%        2.000000      0.000000      0.000000      4.000000      8.000000   \n",
       "max        3.500000      1.000000      4.000000      5.000000     13.000000   \n",
       "\n",
       "         sqft_above  sqft_basement      yr_built  yr_renovated       zipcode  \\\n",
       "count  21597.000000   21597.000000  21597.000000  17755.000000  21597.000000   \n",
       "mean    1788.596842     285.716581   1970.999676     83.636778  98077.951845   \n",
       "std      827.759761     439.819830     29.375234    399.946414     53.513072   \n",
       "min      370.000000       0.000000   1900.000000      0.000000  98001.000000   \n",
       "25%     1190.000000       0.000000   1951.000000      0.000000  98033.000000   \n",
       "50%     1560.000000       0.000000   1975.000000      0.000000  98065.000000   \n",
       "75%     2210.000000     550.000000   1997.000000      0.000000  98118.000000   \n",
       "max     9410.000000    4820.000000   2015.000000   2015.000000  98199.000000   \n",
       "\n",
       "                lat          long  sqft_living15     sqft_lot15  \n",
       "count  21597.000000  21597.000000   21597.000000   21597.000000  \n",
       "mean      47.560093   -122.213982    1986.620318   12758.283512  \n",
       "std        0.138552      0.140724     685.230472   27274.441950  \n",
       "min       47.155900   -122.519000     399.000000     651.000000  \n",
       "25%       47.471100   -122.328000    1490.000000    5100.000000  \n",
       "50%       47.571800   -122.231000    1840.000000    7620.000000  \n",
       "75%       47.678000   -122.125000    2360.000000   10083.000000  \n",
       "max       47.777600   -121.315000    6210.000000  871200.000000  "
      ]
     },
     "execution_count": 14,
     "metadata": {},
     "output_type": "execute_result"
    }
   ],
   "source": [
    "df.describe()"
   ]
  },
  {
   "cell_type": "code",
   "execution_count": 15,
   "metadata": {
    "ExecuteTime": {
     "end_time": "2019-09-10T14:51:12.449379Z",
     "start_time": "2019-09-10T14:51:12.439372Z"
    }
   },
   "outputs": [
    {
     "name": "stdout",
     "output_type": "stream",
     "text": [
      "<class 'pandas.core.frame.DataFrame'>\n",
      "RangeIndex: 21597 entries, 0 to 21596\n",
      "Data columns (total 19 columns):\n",
      "price            21597 non-null float64\n",
      "bedrooms         21597 non-null float64\n",
      "bathrooms        21597 non-null float64\n",
      "sqft_living      21597 non-null float64\n",
      "sqft_lot         21597 non-null float64\n",
      "floors           21597 non-null float64\n",
      "waterfront       21597 non-null float64\n",
      "view             21597 non-null float64\n",
      "condition        21597 non-null float64\n",
      "grade            21597 non-null float64\n",
      "sqft_above       21597 non-null float64\n",
      "sqft_basement    21597 non-null float64\n",
      "yr_built         21597 non-null float64\n",
      "yr_renovated     21597 non-null float64\n",
      "zipcode          21597 non-null float64\n",
      "lat              21597 non-null float64\n",
      "long             21597 non-null float64\n",
      "sqft_living15    21597 non-null float64\n",
      "sqft_lot15       21597 non-null float64\n",
      "dtypes: float64(19)\n",
      "memory usage: 3.1 MB\n"
     ]
    }
   ],
   "source": [
    "imputed_df.info()"
   ]
  },
  {
   "cell_type": "markdown",
   "metadata": {},
   "source": [
    "### Set all values of waterfront that are not 1 to 0"
   ]
  },
  {
   "cell_type": "code",
   "execution_count": 16,
   "metadata": {
    "ExecuteTime": {
     "end_time": "2019-09-10T14:51:31.104293Z",
     "start_time": "2019-09-10T14:51:31.098309Z"
    }
   },
   "outputs": [],
   "source": [
    "imputed_df.loc[imputed_df.waterfront < 1, 'waterfront'] = 0"
   ]
  },
  {
   "cell_type": "code",
   "execution_count": 17,
   "metadata": {
    "ExecuteTime": {
     "end_time": "2019-09-10T14:51:32.300886Z",
     "start_time": "2019-09-10T14:51:32.293926Z"
    }
   },
   "outputs": [
    {
     "data": {
      "text/plain": [
       "count    21597.000000\n",
       "mean         0.006760\n",
       "std          0.081944\n",
       "min          0.000000\n",
       "25%          0.000000\n",
       "50%          0.000000\n",
       "75%          0.000000\n",
       "max          1.000000\n",
       "Name: waterfront, dtype: float64"
      ]
     },
     "execution_count": 17,
     "metadata": {},
     "output_type": "execute_result"
    }
   ],
   "source": [
    "imputed_df.waterfront.describe()"
   ]
  },
  {
   "cell_type": "markdown",
   "metadata": {
    "ExecuteTime": {
     "end_time": "2019-08-29T17:17:07.350751Z",
     "start_time": "2019-08-29T17:17:07.347786Z"
    }
   },
   "source": [
    "### Edit yr_renovated so that any values below 1975 are 0 and all other values are 1 for renovated"
   ]
  },
  {
   "cell_type": "markdown",
   "metadata": {},
   "source": [
    "I decided that for renovations, the year isn't as important as maybe rather it had been renovated at all. Another option I tried was setting any yr_renovated that was 0 to the year it was built. However this made yr_renovated and yr_built very colinear so one would have to be removed anyways. "
   ]
  },
  {
   "cell_type": "code",
   "execution_count": 18,
   "metadata": {
    "ExecuteTime": {
     "end_time": "2019-09-10T14:51:35.452851Z",
     "start_time": "2019-09-10T14:51:35.448861Z"
    }
   },
   "outputs": [],
   "source": [
    "imputed_df.yr_renovated = imputed_df.yr_renovated.astype('int64')"
   ]
  },
  {
   "cell_type": "code",
   "execution_count": 19,
   "metadata": {
    "ExecuteTime": {
     "end_time": "2019-09-10T14:51:36.163991Z",
     "start_time": "2019-09-10T14:51:36.155984Z"
    }
   },
   "outputs": [],
   "source": [
    "imputed_df.loc[imputed_df.yr_renovated < 1975, 'yr_renovated'] = 0\n",
    "imputed_df.loc[imputed_df.yr_renovated != 0, 'yr_renovated'] = 1"
   ]
  },
  {
   "cell_type": "code",
   "execution_count": 20,
   "metadata": {
    "ExecuteTime": {
     "end_time": "2019-09-10T14:51:37.441493Z",
     "start_time": "2019-09-10T14:51:37.434484Z"
    }
   },
   "outputs": [
    {
     "data": {
      "text/plain": [
       "count    21597.000000\n",
       "mean         0.030977\n",
       "std          0.173258\n",
       "min          0.000000\n",
       "25%          0.000000\n",
       "50%          0.000000\n",
       "75%          0.000000\n",
       "max          1.000000\n",
       "Name: yr_renovated, dtype: float64"
      ]
     },
     "execution_count": 20,
     "metadata": {},
     "output_type": "execute_result"
    }
   ],
   "source": [
    "imputed_df.yr_renovated.describe()"
   ]
  },
  {
   "cell_type": "markdown",
   "metadata": {
    "ExecuteTime": {
     "end_time": "2019-09-06T17:44:34.416184Z",
     "start_time": "2019-09-06T17:44:34.412195Z"
    }
   },
   "source": [
    "### Set any value of view less than 0 to 0 or greater than 4 to 4"
   ]
  },
  {
   "cell_type": "code",
   "execution_count": 21,
   "metadata": {
    "ExecuteTime": {
     "end_time": "2019-09-10T14:51:41.103923Z",
     "start_time": "2019-09-10T14:51:41.099927Z"
    }
   },
   "outputs": [],
   "source": [
    "#round views\n",
    "imputed_df.view = imputed_df.view.round()"
   ]
  },
  {
   "cell_type": "code",
   "execution_count": 22,
   "metadata": {
    "ExecuteTime": {
     "end_time": "2019-09-10T14:51:42.065405Z",
     "start_time": "2019-09-10T14:51:42.060441Z"
    }
   },
   "outputs": [],
   "source": [
    "#limit view to a max value of 4\n",
    "imputed_df.loc[imputed_df.view > 4, 'view'] = 4"
   ]
  },
  {
   "cell_type": "code",
   "execution_count": 23,
   "metadata": {
    "ExecuteTime": {
     "end_time": "2019-09-10T14:51:42.957865Z",
     "start_time": "2019-09-10T14:51:42.950884Z"
    }
   },
   "outputs": [
    {
     "data": {
      "text/plain": [
       "count    21597.000000\n",
       "mean         0.234060\n",
       "std          0.765403\n",
       "min          0.000000\n",
       "25%          0.000000\n",
       "50%          0.000000\n",
       "75%          0.000000\n",
       "max          4.000000\n",
       "Name: view, dtype: float64"
      ]
     },
     "execution_count": 23,
     "metadata": {},
     "output_type": "execute_result"
    }
   ],
   "source": [
    "imputed_df.view.describe()"
   ]
  },
  {
   "cell_type": "code",
   "execution_count": 24,
   "metadata": {
    "ExecuteTime": {
     "end_time": "2019-09-10T14:51:45.129094Z",
     "start_time": "2019-09-10T14:51:45.124081Z"
    }
   },
   "outputs": [
    {
     "data": {
      "text/plain": [
       "0.0    19470\n",
       "2.0      958\n",
       "3.0      508\n",
       "1.0      343\n",
       "4.0      318\n",
       "Name: view, dtype: int64"
      ]
     },
     "execution_count": 24,
     "metadata": {},
     "output_type": "execute_result"
    }
   ],
   "source": [
    "imputed_df.view.value_counts()"
   ]
  },
  {
   "cell_type": "markdown",
   "metadata": {},
   "source": [
    "### Check sqft_basement"
   ]
  },
  {
   "cell_type": "code",
   "execution_count": 25,
   "metadata": {
    "ExecuteTime": {
     "end_time": "2019-09-10T14:51:46.953012Z",
     "start_time": "2019-09-10T14:51:46.946006Z"
    }
   },
   "outputs": [
    {
     "data": {
      "text/plain": [
       "count    21597.000000\n",
       "mean       285.716581\n",
       "std        439.819830\n",
       "min          0.000000\n",
       "25%          0.000000\n",
       "50%          0.000000\n",
       "75%        550.000000\n",
       "max       4820.000000\n",
       "Name: sqft_basement, dtype: float64"
      ]
     },
     "execution_count": 25,
     "metadata": {},
     "output_type": "execute_result"
    }
   ],
   "source": [
    "imputed_df.sqft_basement.describe()"
   ]
  },
  {
   "cell_type": "code",
   "execution_count": 26,
   "metadata": {
    "ExecuteTime": {
     "end_time": "2019-09-10T14:51:48.036653Z",
     "start_time": "2019-09-10T14:51:48.031666Z"
    }
   },
   "outputs": [],
   "source": [
    "#set any negative values to 0 for no basement\n",
    "imputed_df.loc[imputed_df.sqft_basement < 0, 'sqft_basement'] = 0"
   ]
  },
  {
   "cell_type": "markdown",
   "metadata": {},
   "source": [
    "## Limit price to 1 Million\n"
   ]
  },
  {
   "cell_type": "code",
   "execution_count": 29,
   "metadata": {
    "ExecuteTime": {
     "end_time": "2019-09-10T14:53:47.359332Z",
     "start_time": "2019-09-10T14:53:47.351354Z"
    }
   },
   "outputs": [],
   "source": [
    "imputed_df.drop(imputed_df[imputed_df.price > 1000000].index, inplace = True)"
   ]
  },
  {
   "cell_type": "markdown",
   "metadata": {},
   "source": [
    "I decided to limit the price to 1 million to get rid of a lot of outliers. Depending on who you are modeling for a lot of houses are way out of people's price ranges. Limiting it to 1 million seemed like a fair compromise. "
   ]
  },
  {
   "cell_type": "markdown",
   "metadata": {},
   "source": [
    "## Look at data"
   ]
  },
  {
   "cell_type": "code",
   "execution_count": 30,
   "metadata": {
    "ExecuteTime": {
     "end_time": "2019-09-10T14:53:50.446345Z",
     "start_time": "2019-09-10T14:53:48.596058Z"
    }
   },
   "outputs": [
    {
     "data": {
      "image/png": "[encoded data removed]",
      "text/plain": [
       "<Figure size 864x864 with 20 Axes>"
      ]
     },
     "metadata": {
      "needs_background": "light"
     },
     "output_type": "display_data"
    }
   ],
   "source": [
    "imputed_df.hist(figsize=(12,12));"
   ]
  },
  {
   "cell_type": "markdown",
   "metadata": {},
   "source": [
    "### Look at distribution of prices\n"
   ]
  },
  {
   "cell_type": "code",
   "execution_count": 31,
   "metadata": {
    "ExecuteTime": {
     "end_time": "2019-09-10T14:53:52.829869Z",
     "start_time": "2019-09-10T14:53:52.582394Z"
    }
   },
   "outputs": [
    {
     "data": {
      "image/png": "[encoded data removed]",
      "text/plain": [
       "<Figure size 792x576 with 1 Axes>"
      ]
     },
     "metadata": {},
     "output_type": "display_data"
    }
   ],
   "source": [
    "sns.set(rc={'figure.figsize':(11, 8)})\n",
    "sns.distplot(imputed_df['price'])\n",
    "plt.xlabel('price')\n",
    "plt.ylabel('distribution')\n",
    "plt.title('Univariate distribuition of price')\n",
    "plt.show()"
   ]
  },
  {
   "cell_type": "markdown",
   "metadata": {},
   "source": [
    "As you can see from the above graph. Limiting the price to 1 million normalizes the data better with the left side being heavier still. "
   ]
  },
  {
   "cell_type": "markdown",
   "metadata": {
    "ExecuteTime": {
     "end_time": "2019-09-05T17:51:02.519073Z",
     "start_time": "2019-09-05T17:51:02.512092Z"
    }
   },
   "source": [
    "### Limit Sqft_Lot to and Sqft_Lot15 to 50000 to limit outliers with massive lots but in cheaper areas"
   ]
  },
  {
   "cell_type": "code",
   "execution_count": 32,
   "metadata": {
    "ExecuteTime": {
     "end_time": "2019-09-10T14:54:11.649195Z",
     "start_time": "2019-09-10T14:54:11.644211Z"
    }
   },
   "outputs": [],
   "source": [
    "test_df = imputed_df.copy()"
   ]
  },
  {
   "cell_type": "code",
   "execution_count": 33,
   "metadata": {
    "ExecuteTime": {
     "end_time": "2019-09-10T14:54:12.614489Z",
     "start_time": "2019-09-10T14:54:12.605494Z"
    }
   },
   "outputs": [],
   "source": [
    "imputed_df.drop(imputed_df[imputed_df.sqft_lot > 50000].index, inplace = True)\n",
    "imputed_df.drop(imputed_df[imputed_df.sqft_lot15 > 50000].index, inplace = True)"
   ]
  },
  {
   "cell_type": "code",
   "execution_count": 34,
   "metadata": {
    "ExecuteTime": {
     "end_time": "2019-09-10T14:54:13.508159Z",
     "start_time": "2019-09-10T14:54:13.503176Z"
    }
   },
   "outputs": [],
   "source": [
    "imputed_df.drop(imputed_df[imputed_df.bedrooms > 20].index, inplace = True)"
   ]
  },
  {
   "cell_type": "code",
   "execution_count": 35,
   "metadata": {
    "ExecuteTime": {
     "end_time": "2019-09-10T14:54:14.401772Z",
     "start_time": "2019-09-10T14:54:14.387782Z"
    }
   },
   "outputs": [
    {
     "data": {
      "text/html": [
       "<div>\n",
       "<style scoped>\n",
       "    .dataframe tbody tr th:only-of-type {\n",
       "        vertical-align: middle;\n",
       "    }\n",
       "\n",
       "    .dataframe tbody tr th {\n",
       "        vertical-align: top;\n",
       "    }\n",
       "\n",
       "    .dataframe thead th {\n",
       "        text-align: right;\n",
       "    }\n",
       "</style>\n",
       "<table border=\"1\" class=\"dataframe\">\n",
       "  <thead>\n",
       "    <tr style=\"text-align: right;\">\n",
       "      <th></th>\n",
       "      <th>price</th>\n",
       "      <th>bedrooms</th>\n",
       "      <th>bathrooms</th>\n",
       "      <th>sqft_living</th>\n",
       "      <th>sqft_lot</th>\n",
       "      <th>floors</th>\n",
       "      <th>waterfront</th>\n",
       "      <th>view</th>\n",
       "      <th>condition</th>\n",
       "      <th>grade</th>\n",
       "      <th>sqft_above</th>\n",
       "      <th>sqft_basement</th>\n",
       "      <th>yr_built</th>\n",
       "      <th>yr_renovated</th>\n",
       "      <th>zipcode</th>\n",
       "      <th>lat</th>\n",
       "      <th>long</th>\n",
       "      <th>sqft_living15</th>\n",
       "      <th>sqft_lot15</th>\n",
       "    </tr>\n",
       "  </thead>\n",
       "  <tbody>\n",
       "    <tr>\n",
       "      <th>0</th>\n",
       "      <td>221900.0</td>\n",
       "      <td>3.0</td>\n",
       "      <td>1.00</td>\n",
       "      <td>1180.0</td>\n",
       "      <td>5650.0</td>\n",
       "      <td>1.0</td>\n",
       "      <td>0.0</td>\n",
       "      <td>0.0</td>\n",
       "      <td>3.0</td>\n",
       "      <td>7.0</td>\n",
       "      <td>1180.0</td>\n",
       "      <td>0.0</td>\n",
       "      <td>1955.0</td>\n",
       "      <td>0</td>\n",
       "      <td>98178.0</td>\n",
       "      <td>47.5112</td>\n",
       "      <td>-122.257</td>\n",
       "      <td>1340.0</td>\n",
       "      <td>5650.0</td>\n",
       "    </tr>\n",
       "    <tr>\n",
       "      <th>1</th>\n",
       "      <td>538000.0</td>\n",
       "      <td>3.0</td>\n",
       "      <td>2.25</td>\n",
       "      <td>2570.0</td>\n",
       "      <td>7242.0</td>\n",
       "      <td>2.0</td>\n",
       "      <td>0.0</td>\n",
       "      <td>0.0</td>\n",
       "      <td>3.0</td>\n",
       "      <td>7.0</td>\n",
       "      <td>2170.0</td>\n",
       "      <td>400.0</td>\n",
       "      <td>1951.0</td>\n",
       "      <td>1</td>\n",
       "      <td>98125.0</td>\n",
       "      <td>47.7210</td>\n",
       "      <td>-122.319</td>\n",
       "      <td>1690.0</td>\n",
       "      <td>7639.0</td>\n",
       "    </tr>\n",
       "    <tr>\n",
       "      <th>2</th>\n",
       "      <td>180000.0</td>\n",
       "      <td>2.0</td>\n",
       "      <td>1.00</td>\n",
       "      <td>770.0</td>\n",
       "      <td>10000.0</td>\n",
       "      <td>1.0</td>\n",
       "      <td>0.0</td>\n",
       "      <td>0.0</td>\n",
       "      <td>3.0</td>\n",
       "      <td>6.0</td>\n",
       "      <td>770.0</td>\n",
       "      <td>0.0</td>\n",
       "      <td>1933.0</td>\n",
       "      <td>0</td>\n",
       "      <td>98028.0</td>\n",
       "      <td>47.7379</td>\n",
       "      <td>-122.233</td>\n",
       "      <td>2720.0</td>\n",
       "      <td>8062.0</td>\n",
       "    </tr>\n",
       "    <tr>\n",
       "      <th>3</th>\n",
       "      <td>604000.0</td>\n",
       "      <td>4.0</td>\n",
       "      <td>3.00</td>\n",
       "      <td>1960.0</td>\n",
       "      <td>5000.0</td>\n",
       "      <td>1.0</td>\n",
       "      <td>0.0</td>\n",
       "      <td>0.0</td>\n",
       "      <td>5.0</td>\n",
       "      <td>7.0</td>\n",
       "      <td>1050.0</td>\n",
       "      <td>910.0</td>\n",
       "      <td>1965.0</td>\n",
       "      <td>0</td>\n",
       "      <td>98136.0</td>\n",
       "      <td>47.5208</td>\n",
       "      <td>-122.393</td>\n",
       "      <td>1360.0</td>\n",
       "      <td>5000.0</td>\n",
       "    </tr>\n",
       "    <tr>\n",
       "      <th>4</th>\n",
       "      <td>510000.0</td>\n",
       "      <td>3.0</td>\n",
       "      <td>2.00</td>\n",
       "      <td>1680.0</td>\n",
       "      <td>8080.0</td>\n",
       "      <td>1.0</td>\n",
       "      <td>0.0</td>\n",
       "      <td>0.0</td>\n",
       "      <td>3.0</td>\n",
       "      <td>8.0</td>\n",
       "      <td>1680.0</td>\n",
       "      <td>0.0</td>\n",
       "      <td>1987.0</td>\n",
       "      <td>0</td>\n",
       "      <td>98074.0</td>\n",
       "      <td>47.6168</td>\n",
       "      <td>-122.045</td>\n",
       "      <td>1800.0</td>\n",
       "      <td>7503.0</td>\n",
       "    </tr>\n",
       "  </tbody>\n",
       "</table>\n",
       "</div>"
      ],
      "text/plain": [
       "      price  bedrooms  bathrooms  sqft_living  sqft_lot  floors  waterfront  \\\n",
       "0  221900.0       3.0       1.00       1180.0    5650.0     1.0         0.0   \n",
       "1  538000.0       3.0       2.25       2570.0    7242.0     2.0         0.0   \n",
       "2  180000.0       2.0       1.00        770.0   10000.0     1.0         0.0   \n",
       "3  604000.0       4.0       3.00       1960.0    5000.0     1.0         0.0   \n",
       "4  510000.0       3.0       2.00       1680.0    8080.0     1.0         0.0   \n",
       "\n",
       "   view  condition  grade  sqft_above  sqft_basement  yr_built  yr_renovated  \\\n",
       "0   0.0        3.0    7.0      1180.0            0.0    1955.0             0   \n",
       "1   0.0        3.0    7.0      2170.0          400.0    1951.0             1   \n",
       "2   0.0        3.0    6.0       770.0            0.0    1933.0             0   \n",
       "3   0.0        5.0    7.0      1050.0          910.0    1965.0             0   \n",
       "4   0.0        3.0    8.0      1680.0            0.0    1987.0             0   \n",
       "\n",
       "   zipcode      lat     long  sqft_living15  sqft_lot15  \n",
       "0  98178.0  47.5112 -122.257         1340.0      5650.0  \n",
       "1  98125.0  47.7210 -122.319         1690.0      7639.0  \n",
       "2  98028.0  47.7379 -122.233         2720.0      8062.0  \n",
       "3  98136.0  47.5208 -122.393         1360.0      5000.0  \n",
       "4  98074.0  47.6168 -122.045         1800.0      7503.0  "
      ]
     },
     "execution_count": 35,
     "metadata": {},
     "output_type": "execute_result"
    }
   ],
   "source": [
    "imputed_df.head()"
   ]
  },
  {
   "cell_type": "markdown",
   "metadata": {},
   "source": [
    "### Limit the size of the houses to 6,000 sqft"
   ]
  },
  {
   "cell_type": "code",
   "execution_count": 36,
   "metadata": {
    "ExecuteTime": {
     "end_time": "2019-09-10T14:54:17.018663Z",
     "start_time": "2019-09-10T14:54:17.012655Z"
    }
   },
   "outputs": [],
   "source": [
    "imputed_df.drop(imputed_df[imputed_df.sqft_living > 6000].index, inplace = True)"
   ]
  },
  {
   "cell_type": "markdown",
   "metadata": {},
   "source": [
    "## Using Seaborn Pairplot to see each scatterplot with a regression line"
   ]
  },
  {
   "cell_type": "code",
   "execution_count": 37,
   "metadata": {
    "ExecuteTime": {
     "end_time": "2019-09-10T14:54:34.079000Z",
     "start_time": "2019-09-10T14:54:17.951256Z"
    }
   },
   "outputs": [
    {
     "data": {
      "image/png": "[encoded data removed]",
      "text/plain": [
       "<Figure size 900x180 with 5 Axes>"
      ]
     },
     "metadata": {},
     "output_type": "display_data"
    },
    {
     "data": {
      "image/png": "[encoded data removed]",
      "text/plain": [
       "<Figure size 720x180 with 4 Axes>"
      ]
     },
     "metadata": {},
     "output_type": "display_data"
    },
    {
     "data": {
      "image/png": "[encoded data removed]",
      "text/plain": [
       "<Figure size 720x180 with 4 Axes>"
      ]
     },
     "metadata": {},
     "output_type": "display_data"
    },
    {
     "data": {
      "image/png": "[encoded data removed]",
      "text/plain": [
       "<Figure size 720x180 with 4 Axes>"
      ]
     },
     "metadata": {},
     "output_type": "display_data"
    }
   ],
   "source": [
    "sns.pairplot(imputed_df, x_vars=['bedrooms', 'bathrooms', 'sqft_living', 'sqft_lot', 'floors'], y_vars='price', kind='reg');\n",
    "sns.pairplot(imputed_df, x_vars=['waterfront', 'view', 'condition', 'grade'], y_vars='price', kind='reg');\n",
    "sns.pairplot(imputed_df, x_vars=['sqft_basement', 'yr_built', 'yr_renovated', 'zipcode'], y_vars='price', kind='reg');\n",
    "sns.pairplot(imputed_df, x_vars=['lat', 'long', 'sqft_living15', 'sqft_lot15'], y_vars='price', kind='reg');"
   ]
  },
  {
   "cell_type": "markdown",
   "metadata": {
    "ExecuteTime": {
     "end_time": "2019-09-06T17:53:05.841392Z",
     "start_time": "2019-09-06T17:53:05.836405Z"
    }
   },
   "source": [
    "- There seem to be a few categorical variables\n",
    "    -floors\n",
    "    -waterfront\n",
    "    -view\n",
    "    -condition\n",
    "    -grade\n",
    "    -yr_renovated\n",
    " "
   ]
  },
  {
   "cell_type": "markdown",
   "metadata": {
    "ExecuteTime": {
     "end_time": "2019-08-29T16:46:19.526604Z",
     "start_time": "2019-08-29T16:46:19.524602Z"
    }
   },
   "source": [
    "## A Model Using Raw Features"
   ]
  },
  {
   "cell_type": "code",
   "execution_count": 38,
   "metadata": {
    "ExecuteTime": {
     "end_time": "2019-09-10T14:55:12.567908Z",
     "start_time": "2019-09-10T14:55:12.481167Z"
    }
   },
   "outputs": [
    {
     "data": {
      "text/html": [
       "<table class=\"simpletable\">\n",
       "<caption>OLS Regression Results</caption>\n",
       "<tr>\n",
       "  <th>Dep. Variable:</th>          <td>price</td>      <th>  R-squared:         </th>  <td>   0.698</td>  \n",
       "</tr>\n",
       "<tr>\n",
       "  <th>Model:</th>                   <td>OLS</td>       <th>  Adj. R-squared:    </th>  <td>   0.697</td>  \n",
       "</tr>\n",
       "<tr>\n",
       "  <th>Method:</th>             <td>Least Squares</td>  <th>  F-statistic:       </th>  <td>   2464.</td>  \n",
       "</tr>\n",
       "<tr>\n",
       "  <th>Date:</th>             <td>Tue, 10 Sep 2019</td> <th>  Prob (F-statistic):</th>   <td>  0.00</td>   \n",
       "</tr>\n",
       "<tr>\n",
       "  <th>Time:</th>                 <td>09:55:12</td>     <th>  Log-Likelihood:    </th> <td>-2.5016e+05</td>\n",
       "</tr>\n",
       "<tr>\n",
       "  <th>No. Observations:</th>      <td> 19236</td>      <th>  AIC:               </th>  <td>5.004e+05</td> \n",
       "</tr>\n",
       "<tr>\n",
       "  <th>Df Residuals:</th>          <td> 19217</td>      <th>  BIC:               </th>  <td>5.005e+05</td> \n",
       "</tr>\n",
       "<tr>\n",
       "  <th>Df Model:</th>              <td>    18</td>      <th>                     </th>      <td> </td>     \n",
       "</tr>\n",
       "<tr>\n",
       "  <th>Covariance Type:</th>      <td>nonrobust</td>    <th>                     </th>      <td> </td>     \n",
       "</tr>\n",
       "</table>\n",
       "<table class=\"simpletable\">\n",
       "<tr>\n",
       "        <td></td>           <th>coef</th>     <th>std err</th>      <th>t</th>      <th>P>|t|</th>  <th>[0.025</th>    <th>0.975]</th>  \n",
       "</tr>\n",
       "<tr>\n",
       "  <th>Intercept</th>     <td>-2.024e+06</td> <td> 1.66e+06</td> <td>   -1.220</td> <td> 0.223</td> <td>-5.28e+06</td> <td> 1.23e+06</td>\n",
       "</tr>\n",
       "<tr>\n",
       "  <th>bedrooms</th>      <td>-9258.3396</td> <td> 1163.053</td> <td>   -7.960</td> <td> 0.000</td> <td>-1.15e+04</td> <td>-6978.653</td>\n",
       "</tr>\n",
       "<tr>\n",
       "  <th>bathrooms</th>     <td>  2.05e+04</td> <td> 1927.772</td> <td>   10.636</td> <td> 0.000</td> <td> 1.67e+04</td> <td> 2.43e+04</td>\n",
       "</tr>\n",
       "<tr>\n",
       "  <th>sqft_living</th>   <td>   61.9289</td> <td>   11.091</td> <td>    5.584</td> <td> 0.000</td> <td>   40.190</td> <td>   83.668</td>\n",
       "</tr>\n",
       "<tr>\n",
       "  <th>sqft_lot</th>      <td>   -0.5081</td> <td>    0.230</td> <td>   -2.211</td> <td> 0.027</td> <td>   -0.958</td> <td>   -0.058</td>\n",
       "</tr>\n",
       "<tr>\n",
       "  <th>floors</th>        <td>  2.72e+04</td> <td> 2145.299</td> <td>   12.678</td> <td> 0.000</td> <td>  2.3e+04</td> <td> 3.14e+04</td>\n",
       "</tr>\n",
       "<tr>\n",
       "  <th>waterfront</th>    <td> 1.789e+05</td> <td> 1.82e+04</td> <td>    9.802</td> <td> 0.000</td> <td> 1.43e+05</td> <td> 2.15e+05</td>\n",
       "</tr>\n",
       "<tr>\n",
       "  <th>view</th>          <td> 2.795e+04</td> <td> 1419.561</td> <td>   19.692</td> <td> 0.000</td> <td> 2.52e+04</td> <td> 3.07e+04</td>\n",
       "</tr>\n",
       "<tr>\n",
       "  <th>condition</th>     <td> 2.618e+04</td> <td> 1337.881</td> <td>   19.570</td> <td> 0.000</td> <td> 2.36e+04</td> <td> 2.88e+04</td>\n",
       "</tr>\n",
       "<tr>\n",
       "  <th>grade</th>         <td>  7.11e+04</td> <td> 1292.007</td> <td>   55.031</td> <td> 0.000</td> <td> 6.86e+04</td> <td> 7.36e+04</td>\n",
       "</tr>\n",
       "<tr>\n",
       "  <th>sqft_above</th>    <td>   11.0606</td> <td>   11.065</td> <td>    1.000</td> <td> 0.318</td> <td>  -10.628</td> <td>   32.749</td>\n",
       "</tr>\n",
       "<tr>\n",
       "  <th>sqft_basement</th> <td>    8.3814</td> <td>   10.968</td> <td>    0.764</td> <td> 0.445</td> <td>  -13.117</td> <td>   29.880</td>\n",
       "</tr>\n",
       "<tr>\n",
       "  <th>yr_built</th>      <td>-1833.3907</td> <td>   41.696</td> <td>  -43.971</td> <td> 0.000</td> <td>-1915.118</td> <td>-1751.664</td>\n",
       "</tr>\n",
       "<tr>\n",
       "  <th>yr_renovated</th>  <td> 3.857e+04</td> <td> 5098.620</td> <td>    7.565</td> <td> 0.000</td> <td> 2.86e+04</td> <td> 4.86e+04</td>\n",
       "</tr>\n",
       "<tr>\n",
       "  <th>zipcode</th>       <td> -225.9391</td> <td>   18.610</td> <td>  -12.141</td> <td> 0.000</td> <td> -262.416</td> <td> -189.462</td>\n",
       "</tr>\n",
       "<tr>\n",
       "  <th>lat</th>           <td> 5.453e+05</td> <td> 6025.892</td> <td>   90.491</td> <td> 0.000</td> <td> 5.33e+05</td> <td> 5.57e+05</td>\n",
       "</tr>\n",
       "<tr>\n",
       "  <th>long</th>          <td>-1.169e+04</td> <td> 7685.084</td> <td>   -1.521</td> <td> 0.128</td> <td>-2.68e+04</td> <td> 3371.863</td>\n",
       "</tr>\n",
       "<tr>\n",
       "  <th>sqft_living15</th> <td>   52.9759</td> <td>    2.230</td> <td>   23.755</td> <td> 0.000</td> <td>   48.605</td> <td>   57.347</td>\n",
       "</tr>\n",
       "<tr>\n",
       "  <th>sqft_lot15</th>    <td>   -1.7884</td> <td>    0.256</td> <td>   -6.980</td> <td> 0.000</td> <td>   -2.291</td> <td>   -1.286</td>\n",
       "</tr>\n",
       "</table>\n",
       "<table class=\"simpletable\">\n",
       "<tr>\n",
       "  <th>Omnibus:</th>       <td>1104.047</td> <th>  Durbin-Watson:     </th> <td>   1.970</td>\n",
       "</tr>\n",
       "<tr>\n",
       "  <th>Prob(Omnibus):</th>  <td> 0.000</td>  <th>  Jarque-Bera (JB):  </th> <td>1754.889</td>\n",
       "</tr>\n",
       "<tr>\n",
       "  <th>Skew:</th>           <td> 0.479</td>  <th>  Prob(JB):          </th> <td>    0.00</td>\n",
       "</tr>\n",
       "<tr>\n",
       "  <th>Kurtosis:</th>       <td> 4.128</td>  <th>  Cond. No.          </th> <td>2.12e+08</td>\n",
       "</tr>\n",
       "</table><br/><br/>Warnings:<br/>[1] Standard Errors assume that the covariance matrix of the errors is correctly specified.<br/>[2] The condition number is large, 2.12e+08. This might indicate that there are<br/>strong multicollinearity or other numerical problems."
      ],
      "text/plain": [
       "<class 'statsmodels.iolib.summary.Summary'>\n",
       "\"\"\"\n",
       "                            OLS Regression Results                            \n",
       "==============================================================================\n",
       "Dep. Variable:                  price   R-squared:                       0.698\n",
       "Model:                            OLS   Adj. R-squared:                  0.697\n",
       "Method:                 Least Squares   F-statistic:                     2464.\n",
       "Date:                Tue, 10 Sep 2019   Prob (F-statistic):               0.00\n",
       "Time:                        09:55:12   Log-Likelihood:            -2.5016e+05\n",
       "No. Observations:               19236   AIC:                         5.004e+05\n",
       "Df Residuals:                   19217   BIC:                         5.005e+05\n",
       "Df Model:                          18                                         \n",
       "Covariance Type:            nonrobust                                         \n",
       "=================================================================================\n",
       "                    coef    std err          t      P>|t|      [0.025      0.975]\n",
       "---------------------------------------------------------------------------------\n",
       "Intercept     -2.024e+06   1.66e+06     -1.220      0.223   -5.28e+06    1.23e+06\n",
       "bedrooms      -9258.3396   1163.053     -7.960      0.000   -1.15e+04   -6978.653\n",
       "bathrooms       2.05e+04   1927.772     10.636      0.000    1.67e+04    2.43e+04\n",
       "sqft_living      61.9289     11.091      5.584      0.000      40.190      83.668\n",
       "sqft_lot         -0.5081      0.230     -2.211      0.027      -0.958      -0.058\n",
       "floors          2.72e+04   2145.299     12.678      0.000     2.3e+04    3.14e+04\n",
       "waterfront     1.789e+05   1.82e+04      9.802      0.000    1.43e+05    2.15e+05\n",
       "view           2.795e+04   1419.561     19.692      0.000    2.52e+04    3.07e+04\n",
       "condition      2.618e+04   1337.881     19.570      0.000    2.36e+04    2.88e+04\n",
       "grade           7.11e+04   1292.007     55.031      0.000    6.86e+04    7.36e+04\n",
       "sqft_above       11.0606     11.065      1.000      0.318     -10.628      32.749\n",
       "sqft_basement     8.3814     10.968      0.764      0.445     -13.117      29.880\n",
       "yr_built      -1833.3907     41.696    -43.971      0.000   -1915.118   -1751.664\n",
       "yr_renovated   3.857e+04   5098.620      7.565      0.000    2.86e+04    4.86e+04\n",
       "zipcode        -225.9391     18.610    -12.141      0.000    -262.416    -189.462\n",
       "lat            5.453e+05   6025.892     90.491      0.000    5.33e+05    5.57e+05\n",
       "long          -1.169e+04   7685.084     -1.521      0.128   -2.68e+04    3371.863\n",
       "sqft_living15    52.9759      2.230     23.755      0.000      48.605      57.347\n",
       "sqft_lot15       -1.7884      0.256     -6.980      0.000      -2.291      -1.286\n",
       "==============================================================================\n",
       "Omnibus:                     1104.047   Durbin-Watson:                   1.970\n",
       "Prob(Omnibus):                  0.000   Jarque-Bera (JB):             1754.889\n",
       "Skew:                           0.479   Prob(JB):                         0.00\n",
       "Kurtosis:                       4.128   Cond. No.                     2.12e+08\n",
       "==============================================================================\n",
       "\n",
       "Warnings:\n",
       "[1] Standard Errors assume that the covariance matrix of the errors is correctly specified.\n",
       "[2] The condition number is large, 2.12e+08. This might indicate that there are\n",
       "strong multicollinearity or other numerical problems.\n",
       "\"\"\""
      ]
     },
     "execution_count": 38,
     "metadata": {},
     "output_type": "execute_result"
    }
   ],
   "source": [
    "from statsmodels.formula.api import ols\n",
    "\n",
    "outcome = 'price'\n",
    "predictors = []\n",
    "for col in imputed_df:\n",
    "    if col != 'price':\n",
    "        predictors.append(col)\n",
    "predictors = '+'.join(predictors)\n",
    "\n",
    "formula = outcome + '~' + predictors\n",
    "model = ols(formula=formula, data=imputed_df).fit()\n",
    "model.summary()"
   ]
  },
  {
   "cell_type": "markdown",
   "metadata": {},
   "source": [
    "### Observations\n",
    "The first model here uses all of the features unaltered. This way I would be able to see any change when I run the model later. \n",
    "The model starts off with a relatively high Adjusted R-Squared of 0.7 so it will be interesting to see if it finishes higher or lower. "
   ]
  },
  {
   "cell_type": "markdown",
   "metadata": {
    "ExecuteTime": {
     "end_time": "2019-09-05T16:21:10.922221Z",
     "start_time": "2019-09-05T16:21:10.919220Z"
    }
   },
   "source": [
    "## Test for Colinearity"
   ]
  },
  {
   "cell_type": "code",
   "execution_count": 39,
   "metadata": {
    "ExecuteTime": {
     "end_time": "2019-09-10T14:55:18.975251Z",
     "start_time": "2019-09-10T14:55:17.766308Z"
    }
   },
   "outputs": [
    {
     "data": {
      "image/png": "[encoded data removed]",
      "text/plain": [
       "<Figure size 792x576 with 2 Axes>"
      ]
     },
     "metadata": {},
     "output_type": "display_data"
    }
   ],
   "source": [
    "correlation_matrix = imputed_df.corr().round(2)\n",
    "sns.heatmap(data=correlation_matrix, annot=True, cmap='coolwarm');"
   ]
  },
  {
   "cell_type": "markdown",
   "metadata": {},
   "source": [
    "### Observations of Heat Map\n",
    "It is easy to quickly glance and see what features are going to affect price the most:\n",
    " - grade, bathrooms, sqft_living, latitude, and sqft_living15"
   ]
  },
  {
   "cell_type": "code",
   "execution_count": 40,
   "metadata": {
    "ExecuteTime": {
     "end_time": "2019-09-10T14:55:23.011913Z",
     "start_time": "2019-09-10T14:55:22.974989Z"
    }
   },
   "outputs": [
    {
     "data": {
      "text/html": [
       "<div>\n",
       "<style scoped>\n",
       "    .dataframe tbody tr th:only-of-type {\n",
       "        vertical-align: middle;\n",
       "    }\n",
       "\n",
       "    .dataframe tbody tr th {\n",
       "        vertical-align: top;\n",
       "    }\n",
       "\n",
       "    .dataframe thead th {\n",
       "        text-align: right;\n",
       "    }\n",
       "</style>\n",
       "<table border=\"1\" class=\"dataframe\">\n",
       "  <thead>\n",
       "    <tr style=\"text-align: right;\">\n",
       "      <th></th>\n",
       "      <th>price</th>\n",
       "      <th>bedrooms</th>\n",
       "      <th>bathrooms</th>\n",
       "      <th>sqft_living</th>\n",
       "      <th>sqft_lot</th>\n",
       "      <th>floors</th>\n",
       "      <th>waterfront</th>\n",
       "      <th>view</th>\n",
       "      <th>condition</th>\n",
       "      <th>grade</th>\n",
       "      <th>sqft_above</th>\n",
       "      <th>sqft_basement</th>\n",
       "      <th>yr_built</th>\n",
       "      <th>yr_renovated</th>\n",
       "      <th>zipcode</th>\n",
       "      <th>lat</th>\n",
       "      <th>long</th>\n",
       "      <th>sqft_living15</th>\n",
       "      <th>sqft_lot15</th>\n",
       "    </tr>\n",
       "  </thead>\n",
       "  <tbody>\n",
       "    <tr>\n",
       "      <th>price</th>\n",
       "      <td>True</td>\n",
       "      <td>False</td>\n",
       "      <td>False</td>\n",
       "      <td>False</td>\n",
       "      <td>False</td>\n",
       "      <td>False</td>\n",
       "      <td>False</td>\n",
       "      <td>False</td>\n",
       "      <td>False</td>\n",
       "      <td>False</td>\n",
       "      <td>False</td>\n",
       "      <td>False</td>\n",
       "      <td>False</td>\n",
       "      <td>False</td>\n",
       "      <td>False</td>\n",
       "      <td>False</td>\n",
       "      <td>False</td>\n",
       "      <td>False</td>\n",
       "      <td>False</td>\n",
       "    </tr>\n",
       "    <tr>\n",
       "      <th>bedrooms</th>\n",
       "      <td>False</td>\n",
       "      <td>True</td>\n",
       "      <td>False</td>\n",
       "      <td>False</td>\n",
       "      <td>False</td>\n",
       "      <td>False</td>\n",
       "      <td>False</td>\n",
       "      <td>False</td>\n",
       "      <td>False</td>\n",
       "      <td>False</td>\n",
       "      <td>False</td>\n",
       "      <td>False</td>\n",
       "      <td>False</td>\n",
       "      <td>False</td>\n",
       "      <td>False</td>\n",
       "      <td>False</td>\n",
       "      <td>False</td>\n",
       "      <td>False</td>\n",
       "      <td>False</td>\n",
       "    </tr>\n",
       "    <tr>\n",
       "      <th>bathrooms</th>\n",
       "      <td>False</td>\n",
       "      <td>False</td>\n",
       "      <td>True</td>\n",
       "      <td>False</td>\n",
       "      <td>False</td>\n",
       "      <td>False</td>\n",
       "      <td>False</td>\n",
       "      <td>False</td>\n",
       "      <td>False</td>\n",
       "      <td>False</td>\n",
       "      <td>False</td>\n",
       "      <td>False</td>\n",
       "      <td>False</td>\n",
       "      <td>False</td>\n",
       "      <td>False</td>\n",
       "      <td>False</td>\n",
       "      <td>False</td>\n",
       "      <td>False</td>\n",
       "      <td>False</td>\n",
       "    </tr>\n",
       "    <tr>\n",
       "      <th>sqft_living</th>\n",
       "      <td>False</td>\n",
       "      <td>False</td>\n",
       "      <td>False</td>\n",
       "      <td>True</td>\n",
       "      <td>False</td>\n",
       "      <td>False</td>\n",
       "      <td>False</td>\n",
       "      <td>False</td>\n",
       "      <td>False</td>\n",
       "      <td>False</td>\n",
       "      <td>True</td>\n",
       "      <td>False</td>\n",
       "      <td>False</td>\n",
       "      <td>False</td>\n",
       "      <td>False</td>\n",
       "      <td>False</td>\n",
       "      <td>False</td>\n",
       "      <td>False</td>\n",
       "      <td>False</td>\n",
       "    </tr>\n",
       "    <tr>\n",
       "      <th>sqft_lot</th>\n",
       "      <td>False</td>\n",
       "      <td>False</td>\n",
       "      <td>False</td>\n",
       "      <td>False</td>\n",
       "      <td>True</td>\n",
       "      <td>False</td>\n",
       "      <td>False</td>\n",
       "      <td>False</td>\n",
       "      <td>False</td>\n",
       "      <td>False</td>\n",
       "      <td>False</td>\n",
       "      <td>False</td>\n",
       "      <td>False</td>\n",
       "      <td>False</td>\n",
       "      <td>False</td>\n",
       "      <td>False</td>\n",
       "      <td>False</td>\n",
       "      <td>False</td>\n",
       "      <td>True</td>\n",
       "    </tr>\n",
       "    <tr>\n",
       "      <th>floors</th>\n",
       "      <td>False</td>\n",
       "      <td>False</td>\n",
       "      <td>False</td>\n",
       "      <td>False</td>\n",
       "      <td>False</td>\n",
       "      <td>True</td>\n",
       "      <td>False</td>\n",
       "      <td>False</td>\n",
       "      <td>False</td>\n",
       "      <td>False</td>\n",
       "      <td>False</td>\n",
       "      <td>False</td>\n",
       "      <td>False</td>\n",
       "      <td>False</td>\n",
       "      <td>False</td>\n",
       "      <td>False</td>\n",
       "      <td>False</td>\n",
       "      <td>False</td>\n",
       "      <td>False</td>\n",
       "    </tr>\n",
       "    <tr>\n",
       "      <th>waterfront</th>\n",
       "      <td>False</td>\n",
       "      <td>False</td>\n",
       "      <td>False</td>\n",
       "      <td>False</td>\n",
       "      <td>False</td>\n",
       "      <td>False</td>\n",
       "      <td>True</td>\n",
       "      <td>False</td>\n",
       "      <td>False</td>\n",
       "      <td>False</td>\n",
       "      <td>False</td>\n",
       "      <td>False</td>\n",
       "      <td>False</td>\n",
       "      <td>False</td>\n",
       "      <td>False</td>\n",
       "      <td>False</td>\n",
       "      <td>False</td>\n",
       "      <td>False</td>\n",
       "      <td>False</td>\n",
       "    </tr>\n",
       "    <tr>\n",
       "      <th>view</th>\n",
       "      <td>False</td>\n",
       "      <td>False</td>\n",
       "      <td>False</td>\n",
       "      <td>False</td>\n",
       "      <td>False</td>\n",
       "      <td>False</td>\n",
       "      <td>False</td>\n",
       "      <td>True</td>\n",
       "      <td>False</td>\n",
       "      <td>False</td>\n",
       "      <td>False</td>\n",
       "      <td>False</td>\n",
       "      <td>False</td>\n",
       "      <td>False</td>\n",
       "      <td>False</td>\n",
       "      <td>False</td>\n",
       "      <td>False</td>\n",
       "      <td>False</td>\n",
       "      <td>False</td>\n",
       "    </tr>\n",
       "    <tr>\n",
       "      <th>condition</th>\n",
       "      <td>False</td>\n",
       "      <td>False</td>\n",
       "      <td>False</td>\n",
       "      <td>False</td>\n",
       "      <td>False</td>\n",
       "      <td>False</td>\n",
       "      <td>False</td>\n",
       "      <td>False</td>\n",
       "      <td>True</td>\n",
       "      <td>False</td>\n",
       "      <td>False</td>\n",
       "      <td>False</td>\n",
       "      <td>False</td>\n",
       "      <td>False</td>\n",
       "      <td>False</td>\n",
       "      <td>False</td>\n",
       "      <td>False</td>\n",
       "      <td>False</td>\n",
       "      <td>False</td>\n",
       "    </tr>\n",
       "    <tr>\n",
       "      <th>grade</th>\n",
       "      <td>False</td>\n",
       "      <td>False</td>\n",
       "      <td>False</td>\n",
       "      <td>False</td>\n",
       "      <td>False</td>\n",
       "      <td>False</td>\n",
       "      <td>False</td>\n",
       "      <td>False</td>\n",
       "      <td>False</td>\n",
       "      <td>True</td>\n",
       "      <td>False</td>\n",
       "      <td>False</td>\n",
       "      <td>False</td>\n",
       "      <td>False</td>\n",
       "      <td>False</td>\n",
       "      <td>False</td>\n",
       "      <td>False</td>\n",
       "      <td>False</td>\n",
       "      <td>False</td>\n",
       "    </tr>\n",
       "    <tr>\n",
       "      <th>sqft_above</th>\n",
       "      <td>False</td>\n",
       "      <td>False</td>\n",
       "      <td>False</td>\n",
       "      <td>True</td>\n",
       "      <td>False</td>\n",
       "      <td>False</td>\n",
       "      <td>False</td>\n",
       "      <td>False</td>\n",
       "      <td>False</td>\n",
       "      <td>False</td>\n",
       "      <td>True</td>\n",
       "      <td>False</td>\n",
       "      <td>False</td>\n",
       "      <td>False</td>\n",
       "      <td>False</td>\n",
       "      <td>False</td>\n",
       "      <td>False</td>\n",
       "      <td>False</td>\n",
       "      <td>False</td>\n",
       "    </tr>\n",
       "    <tr>\n",
       "      <th>sqft_basement</th>\n",
       "      <td>False</td>\n",
       "      <td>False</td>\n",
       "      <td>False</td>\n",
       "      <td>False</td>\n",
       "      <td>False</td>\n",
       "      <td>False</td>\n",
       "      <td>False</td>\n",
       "      <td>False</td>\n",
       "      <td>False</td>\n",
       "      <td>False</td>\n",
       "      <td>False</td>\n",
       "      <td>True</td>\n",
       "      <td>False</td>\n",
       "      <td>False</td>\n",
       "      <td>False</td>\n",
       "      <td>False</td>\n",
       "      <td>False</td>\n",
       "      <td>False</td>\n",
       "      <td>False</td>\n",
       "    </tr>\n",
       "    <tr>\n",
       "      <th>yr_built</th>\n",
       "      <td>False</td>\n",
       "      <td>False</td>\n",
       "      <td>False</td>\n",
       "      <td>False</td>\n",
       "      <td>False</td>\n",
       "      <td>False</td>\n",
       "      <td>False</td>\n",
       "      <td>False</td>\n",
       "      <td>False</td>\n",
       "      <td>False</td>\n",
       "      <td>False</td>\n",
       "      <td>False</td>\n",
       "      <td>True</td>\n",
       "      <td>False</td>\n",
       "      <td>False</td>\n",
       "      <td>False</td>\n",
       "      <td>False</td>\n",
       "      <td>False</td>\n",
       "      <td>False</td>\n",
       "    </tr>\n",
       "    <tr>\n",
       "      <th>yr_renovated</th>\n",
       "      <td>False</td>\n",
       "      <td>False</td>\n",
       "      <td>False</td>\n",
       "      <td>False</td>\n",
       "      <td>False</td>\n",
       "      <td>False</td>\n",
       "      <td>False</td>\n",
       "      <td>False</td>\n",
       "      <td>False</td>\n",
       "      <td>False</td>\n",
       "      <td>False</td>\n",
       "      <td>False</td>\n",
       "      <td>False</td>\n",
       "      <td>True</td>\n",
       "      <td>False</td>\n",
       "      <td>False</td>\n",
       "      <td>False</td>\n",
       "      <td>False</td>\n",
       "      <td>False</td>\n",
       "    </tr>\n",
       "    <tr>\n",
       "      <th>zipcode</th>\n",
       "      <td>False</td>\n",
       "      <td>False</td>\n",
       "      <td>False</td>\n",
       "      <td>False</td>\n",
       "      <td>False</td>\n",
       "      <td>False</td>\n",
       "      <td>False</td>\n",
       "      <td>False</td>\n",
       "      <td>False</td>\n",
       "      <td>False</td>\n",
       "      <td>False</td>\n",
       "      <td>False</td>\n",
       "      <td>False</td>\n",
       "      <td>False</td>\n",
       "      <td>True</td>\n",
       "      <td>False</td>\n",
       "      <td>False</td>\n",
       "      <td>False</td>\n",
       "      <td>False</td>\n",
       "    </tr>\n",
       "    <tr>\n",
       "      <th>lat</th>\n",
       "      <td>False</td>\n",
       "      <td>False</td>\n",
       "      <td>False</td>\n",
       "      <td>False</td>\n",
       "      <td>False</td>\n",
       "      <td>False</td>\n",
       "      <td>False</td>\n",
       "      <td>False</td>\n",
       "      <td>False</td>\n",
       "      <td>False</td>\n",
       "      <td>False</td>\n",
       "      <td>False</td>\n",
       "      <td>False</td>\n",
       "      <td>False</td>\n",
       "      <td>False</td>\n",
       "      <td>True</td>\n",
       "      <td>False</td>\n",
       "      <td>False</td>\n",
       "      <td>False</td>\n",
       "    </tr>\n",
       "    <tr>\n",
       "      <th>long</th>\n",
       "      <td>False</td>\n",
       "      <td>False</td>\n",
       "      <td>False</td>\n",
       "      <td>False</td>\n",
       "      <td>False</td>\n",
       "      <td>False</td>\n",
       "      <td>False</td>\n",
       "      <td>False</td>\n",
       "      <td>False</td>\n",
       "      <td>False</td>\n",
       "      <td>False</td>\n",
       "      <td>False</td>\n",
       "      <td>False</td>\n",
       "      <td>False</td>\n",
       "      <td>False</td>\n",
       "      <td>False</td>\n",
       "      <td>True</td>\n",
       "      <td>False</td>\n",
       "      <td>False</td>\n",
       "    </tr>\n",
       "    <tr>\n",
       "      <th>sqft_living15</th>\n",
       "      <td>False</td>\n",
       "      <td>False</td>\n",
       "      <td>False</td>\n",
       "      <td>False</td>\n",
       "      <td>False</td>\n",
       "      <td>False</td>\n",
       "      <td>False</td>\n",
       "      <td>False</td>\n",
       "      <td>False</td>\n",
       "      <td>False</td>\n",
       "      <td>False</td>\n",
       "      <td>False</td>\n",
       "      <td>False</td>\n",
       "      <td>False</td>\n",
       "      <td>False</td>\n",
       "      <td>False</td>\n",
       "      <td>False</td>\n",
       "      <td>True</td>\n",
       "      <td>False</td>\n",
       "    </tr>\n",
       "    <tr>\n",
       "      <th>sqft_lot15</th>\n",
       "      <td>False</td>\n",
       "      <td>False</td>\n",
       "      <td>False</td>\n",
       "      <td>False</td>\n",
       "      <td>True</td>\n",
       "      <td>False</td>\n",
       "      <td>False</td>\n",
       "      <td>False</td>\n",
       "      <td>False</td>\n",
       "      <td>False</td>\n",
       "      <td>False</td>\n",
       "      <td>False</td>\n",
       "      <td>False</td>\n",
       "      <td>False</td>\n",
       "      <td>False</td>\n",
       "      <td>False</td>\n",
       "      <td>False</td>\n",
       "      <td>False</td>\n",
       "      <td>True</td>\n",
       "    </tr>\n",
       "  </tbody>\n",
       "</table>\n",
       "</div>"
      ],
      "text/plain": [
       "               price  bedrooms  bathrooms  sqft_living  sqft_lot  floors  \\\n",
       "price           True     False      False        False     False   False   \n",
       "bedrooms       False      True      False        False     False   False   \n",
       "bathrooms      False     False       True        False     False   False   \n",
       "sqft_living    False     False      False         True     False   False   \n",
       "sqft_lot       False     False      False        False      True   False   \n",
       "floors         False     False      False        False     False    True   \n",
       "waterfront     False     False      False        False     False   False   \n",
       "view           False     False      False        False     False   False   \n",
       "condition      False     False      False        False     False   False   \n",
       "grade          False     False      False        False     False   False   \n",
       "sqft_above     False     False      False         True     False   False   \n",
       "sqft_basement  False     False      False        False     False   False   \n",
       "yr_built       False     False      False        False     False   False   \n",
       "yr_renovated   False     False      False        False     False   False   \n",
       "zipcode        False     False      False        False     False   False   \n",
       "lat            False     False      False        False     False   False   \n",
       "long           False     False      False        False     False   False   \n",
       "sqft_living15  False     False      False        False     False   False   \n",
       "sqft_lot15     False     False      False        False      True   False   \n",
       "\n",
       "               waterfront   view  condition  grade  sqft_above  sqft_basement  \\\n",
       "price               False  False      False  False       False          False   \n",
       "bedrooms            False  False      False  False       False          False   \n",
       "bathrooms           False  False      False  False       False          False   \n",
       "sqft_living         False  False      False  False        True          False   \n",
       "sqft_lot            False  False      False  False       False          False   \n",
       "floors              False  False      False  False       False          False   \n",
       "waterfront           True  False      False  False       False          False   \n",
       "view                False   True      False  False       False          False   \n",
       "condition           False  False       True  False       False          False   \n",
       "grade               False  False      False   True       False          False   \n",
       "sqft_above          False  False      False  False        True          False   \n",
       "sqft_basement       False  False      False  False       False           True   \n",
       "yr_built            False  False      False  False       False          False   \n",
       "yr_renovated        False  False      False  False       False          False   \n",
       "zipcode             False  False      False  False       False          False   \n",
       "lat                 False  False      False  False       False          False   \n",
       "long                False  False      False  False       False          False   \n",
       "sqft_living15       False  False      False  False       False          False   \n",
       "sqft_lot15          False  False      False  False       False          False   \n",
       "\n",
       "               yr_built  yr_renovated  zipcode    lat   long  sqft_living15  \\\n",
       "price             False         False    False  False  False          False   \n",
       "bedrooms          False         False    False  False  False          False   \n",
       "bathrooms         False         False    False  False  False          False   \n",
       "sqft_living       False         False    False  False  False          False   \n",
       "sqft_lot          False         False    False  False  False          False   \n",
       "floors            False         False    False  False  False          False   \n",
       "waterfront        False         False    False  False  False          False   \n",
       "view              False         False    False  False  False          False   \n",
       "condition         False         False    False  False  False          False   \n",
       "grade             False         False    False  False  False          False   \n",
       "sqft_above        False         False    False  False  False          False   \n",
       "sqft_basement     False         False    False  False  False          False   \n",
       "yr_built           True         False    False  False  False          False   \n",
       "yr_renovated      False          True    False  False  False          False   \n",
       "zipcode           False         False     True  False  False          False   \n",
       "lat               False         False    False   True  False          False   \n",
       "long              False         False    False  False   True          False   \n",
       "sqft_living15     False         False    False  False  False           True   \n",
       "sqft_lot15        False         False    False  False  False          False   \n",
       "\n",
       "               sqft_lot15  \n",
       "price               False  \n",
       "bedrooms            False  \n",
       "bathrooms           False  \n",
       "sqft_living         False  \n",
       "sqft_lot             True  \n",
       "floors              False  \n",
       "waterfront          False  \n",
       "view                False  \n",
       "condition           False  \n",
       "grade               False  \n",
       "sqft_above          False  \n",
       "sqft_basement       False  \n",
       "yr_built            False  \n",
       "yr_renovated        False  \n",
       "zipcode             False  \n",
       "lat                 False  \n",
       "long                False  \n",
       "sqft_living15       False  \n",
       "sqft_lot15           True  "
      ]
     },
     "execution_count": 40,
     "metadata": {},
     "output_type": "execute_result"
    }
   ],
   "source": [
    "abs(imputed_df.corr())  > 0.75"
   ]
  },
  {
   "cell_type": "markdown",
   "metadata": {},
   "source": [
    "Sqft_living has a high colinearity with sqft_above. Since they both seem to have the same information I will just drop sqft_above.\n",
    "Sqft_lot has a high colinearity with sqft_lot15. "
   ]
  },
  {
   "cell_type": "code",
   "execution_count": 41,
   "metadata": {
    "ExecuteTime": {
     "end_time": "2019-09-10T14:55:27.243590Z",
     "start_time": "2019-09-10T14:55:27.239596Z"
    }
   },
   "outputs": [],
   "source": [
    "imputed_df = imputed_df.drop(columns = ['sqft_above', 'sqft_lot15'])"
   ]
  },
  {
   "cell_type": "markdown",
   "metadata": {},
   "source": [
    "## Ploting Grade, Sqft_living, Sqft_living15\n"
   ]
  },
  {
   "cell_type": "code",
   "execution_count": 42,
   "metadata": {
    "ExecuteTime": {
     "end_time": "2019-09-10T14:55:35.802911Z",
     "start_time": "2019-09-10T14:55:34.674109Z"
    }
   },
   "outputs": [
    {
     "data": {
      "image/png": "[encoded data removed]",
      "text/plain": [
       "<Figure size 792x576 with 1 Axes>"
      ]
     },
     "metadata": {},
     "output_type": "display_data"
    }
   ],
   "source": [
    "sns.set_context('poster')\n",
    "sns.regplot(x=imputed_df.grade, y=imputed_df.price, data=imputed_df);"
   ]
  },
  {
   "cell_type": "code",
   "execution_count": 43,
   "metadata": {
    "ExecuteTime": {
     "end_time": "2019-09-10T14:55:43.309009Z",
     "start_time": "2019-09-10T14:55:42.211920Z"
    }
   },
   "outputs": [
    {
     "data": {
      "image/png": "[encoded data removed]",
      "text/plain": [
       "<Figure size 792x576 with 1 Axes>"
      ]
     },
     "metadata": {},
     "output_type": "display_data"
    }
   ],
   "source": [
    "sns.regplot(x=imputed_df.sqft_living, y=imputed_df.price, data=imputed_df);"
   ]
  },
  {
   "cell_type": "code",
   "execution_count": 44,
   "metadata": {
    "ExecuteTime": {
     "end_time": "2019-09-10T14:55:46.943055Z",
     "start_time": "2019-09-10T14:55:45.831918Z"
    }
   },
   "outputs": [
    {
     "data": {
      "image/png": "[encoded data removed]",
      "text/plain": [
       "<Figure size 792x576 with 1 Axes>"
      ]
     },
     "metadata": {},
     "output_type": "display_data"
    }
   ],
   "source": [
    "sns.regplot(x=imputed_df.sqft_living15, y=imputed_df.price, data=imputed_df);"
   ]
  },
  {
   "cell_type": "code",
   "execution_count": 45,
   "metadata": {
    "ExecuteTime": {
     "end_time": "2019-09-10T14:55:48.877560Z",
     "start_time": "2019-09-10T14:55:48.873544Z"
    }
   },
   "outputs": [],
   "source": [
    "sns.set_context('paper')"
   ]
  },
  {
   "cell_type": "markdown",
   "metadata": {},
   "source": [
    "### Why plot these 3?\n",
    "\n",
    "From the heat map and colinearity visual you can see that these three features have the highest colinearity with price. I wanted to have a better visual with these three since I think they will be more important than other features."
   ]
  },
  {
   "cell_type": "markdown",
   "metadata": {},
   "source": [
    "## Deal with Categorical Variables"
   ]
  },
  {
   "cell_type": "markdown",
   "metadata": {
    "ExecuteTime": {
     "end_time": "2019-09-06T18:07:36.954047Z",
     "start_time": "2019-09-06T18:07:36.951078Z"
    }
   },
   "source": [
    "### For categorical variables, if they are floats they will produce an odd column name\n",
    "\n",
    "- View, waterfront, and condition are all integer values so I will change their datatype to int\n",
    "\n",
    "- For floors, I will just drop and run the data"
   ]
  },
  {
   "cell_type": "code",
   "execution_count": 46,
   "metadata": {
    "ExecuteTime": {
     "end_time": "2019-09-10T14:56:38.545986Z",
     "start_time": "2019-09-10T14:56:38.537011Z"
    }
   },
   "outputs": [
    {
     "name": "stdout",
     "output_type": "stream",
     "text": [
      "<class 'pandas.core.frame.DataFrame'>\n",
      "Int64Index: 19236 entries, 0 to 21596\n",
      "Data columns (total 17 columns):\n",
      "price            19236 non-null float64\n",
      "bedrooms         19236 non-null float64\n",
      "bathrooms        19236 non-null float64\n",
      "sqft_living      19236 non-null float64\n",
      "sqft_lot         19236 non-null float64\n",
      "floors           19236 non-null float64\n",
      "waterfront       19236 non-null float64\n",
      "view             19236 non-null float64\n",
      "condition        19236 non-null float64\n",
      "grade            19236 non-null float64\n",
      "sqft_basement    19236 non-null float64\n",
      "yr_built         19236 non-null float64\n",
      "yr_renovated     19236 non-null int64\n",
      "zipcode          19236 non-null float64\n",
      "lat              19236 non-null float64\n",
      "long             19236 non-null float64\n",
      "sqft_living15    19236 non-null float64\n",
      "dtypes: float64(16), int64(1)\n",
      "memory usage: 2.6 MB\n"
     ]
    }
   ],
   "source": [
    "imputed_df.info()"
   ]
  },
  {
   "cell_type": "code",
   "execution_count": 47,
   "metadata": {
    "ExecuteTime": {
     "end_time": "2019-09-10T14:56:39.564285Z",
     "start_time": "2019-09-10T14:56:39.560272Z"
    }
   },
   "outputs": [],
   "source": [
    "#change condition to int64\n",
    "imputed_df.condition = imputed_df.condition.astype('int64')"
   ]
  },
  {
   "cell_type": "code",
   "execution_count": 48,
   "metadata": {
    "ExecuteTime": {
     "end_time": "2019-09-10T14:56:40.575431Z",
     "start_time": "2019-09-10T14:56:40.571419Z"
    }
   },
   "outputs": [],
   "source": [
    "#change view to int64\n",
    "imputed_df.view = imputed_df.view.astype('int64')"
   ]
  },
  {
   "cell_type": "code",
   "execution_count": 49,
   "metadata": {
    "ExecuteTime": {
     "end_time": "2019-09-10T14:56:41.545970Z",
     "start_time": "2019-09-10T14:56:41.542006Z"
    }
   },
   "outputs": [],
   "source": [
    "#change bedrooms to int64\n",
    "imputed_df.bedrooms = imputed_df.bedrooms.astype('int64')"
   ]
  },
  {
   "cell_type": "code",
   "execution_count": 50,
   "metadata": {
    "ExecuteTime": {
     "end_time": "2019-09-10T14:56:42.521609Z",
     "start_time": "2019-09-10T14:56:42.516604Z"
    }
   },
   "outputs": [],
   "source": [
    "#I rounded floors to get rid of the float values instead of losing the extra floor.\n",
    "imputed_df.floors = imputed_df.floors.round()\n",
    "imputed_df.floors = imputed_df.floors.astype('int64')"
   ]
  },
  {
   "cell_type": "code",
   "execution_count": 51,
   "metadata": {
    "ExecuteTime": {
     "end_time": "2019-09-10T14:56:43.508904Z",
     "start_time": "2019-09-10T14:56:43.504915Z"
    }
   },
   "outputs": [],
   "source": [
    "#change grade to int64\n",
    "imputed_df.grade = imputed_df.grade.astype('int64')"
   ]
  },
  {
   "cell_type": "code",
   "execution_count": 52,
   "metadata": {
    "ExecuteTime": {
     "end_time": "2019-09-10T14:56:44.521203Z",
     "start_time": "2019-09-10T14:56:44.510209Z"
    }
   },
   "outputs": [
    {
     "name": "stdout",
     "output_type": "stream",
     "text": [
      "<class 'pandas.core.frame.DataFrame'>\n",
      "Int64Index: 19236 entries, 0 to 21596\n",
      "Data columns (total 17 columns):\n",
      "price            19236 non-null float64\n",
      "bedrooms         19236 non-null int64\n",
      "bathrooms        19236 non-null float64\n",
      "sqft_living      19236 non-null float64\n",
      "sqft_lot         19236 non-null float64\n",
      "floors           19236 non-null int64\n",
      "waterfront       19236 non-null float64\n",
      "view             19236 non-null int64\n",
      "condition        19236 non-null int64\n",
      "grade            19236 non-null int64\n",
      "sqft_basement    19236 non-null float64\n",
      "yr_built         19236 non-null float64\n",
      "yr_renovated     19236 non-null int64\n",
      "zipcode          19236 non-null float64\n",
      "lat              19236 non-null float64\n",
      "long             19236 non-null float64\n",
      "sqft_living15    19236 non-null float64\n",
      "dtypes: float64(11), int64(6)\n",
      "memory usage: 2.6 MB\n"
     ]
    }
   ],
   "source": [
    "imputed_df.info()"
   ]
  },
  {
   "cell_type": "code",
   "execution_count": 53,
   "metadata": {
    "ExecuteTime": {
     "end_time": "2019-09-10T14:56:45.495111Z",
     "start_time": "2019-09-10T14:56:45.484141Z"
    }
   },
   "outputs": [],
   "source": [
    "floor_dummies = pd.get_dummies(imputed_df['floors'], prefix='flr', \n",
    "                                   drop_first=True)\n",
    "view_dummies = pd.get_dummies(imputed_df['view'], prefix='view', \n",
    "                                   drop_first=True)\n",
    "grade_dummies =  pd.get_dummies(imputed_df['grade'], prefix='grade', \n",
    "                                 drop_first=True)\n",
    "condition_dummies = pd.get_dummies(imputed_df['condition'], prefix='cond', \n",
    "                                   drop_first=True)\n",
    "bedroom_dummies = pd.get_dummies(imputed_df['bedrooms'], prefix='bdrm', \n",
    "                                   drop_first=True)\n",
    "\n",
    "# I went back to just having the dataframe called df for simplicity going on\n",
    "df = imputed_df.copy()"
   ]
  },
  {
   "cell_type": "code",
   "execution_count": 54,
   "metadata": {
    "ExecuteTime": {
     "end_time": "2019-09-10T14:56:46.767014Z",
     "start_time": "2019-09-10T14:56:46.761999Z"
    }
   },
   "outputs": [],
   "source": [
    "#Remove old variables columns\n",
    "df = df.drop(['bedrooms', 'floors', 'view', 'grade',\n",
    "                     'condition'], axis=1)"
   ]
  },
  {
   "cell_type": "code",
   "execution_count": 55,
   "metadata": {
    "ExecuteTime": {
     "end_time": "2019-09-10T14:56:47.987926Z",
     "start_time": "2019-09-10T14:56:47.982940Z"
    }
   },
   "outputs": [],
   "source": [
    "#Add new dummy columns\n",
    "df = pd.concat([df, floor_dummies, bedroom_dummies, \n",
    "               view_dummies, condition_dummies, grade_dummies], axis=1)"
   ]
  },
  {
   "cell_type": "code",
   "execution_count": 56,
   "metadata": {
    "ExecuteTime": {
     "end_time": "2019-09-10T14:56:49.317226Z",
     "start_time": "2019-09-10T14:56:49.296281Z"
    }
   },
   "outputs": [
    {
     "name": "stdout",
     "output_type": "stream",
     "text": [
      "<class 'pandas.core.frame.DataFrame'>\n",
      "Int64Index: 19236 entries, 0 to 21596\n",
      "Data columns (total 42 columns):\n",
      "price            19236 non-null float64\n",
      "bathrooms        19236 non-null float64\n",
      "sqft_living      19236 non-null float64\n",
      "sqft_lot         19236 non-null float64\n",
      "waterfront       19236 non-null float64\n",
      "sqft_basement    19236 non-null float64\n",
      "yr_built         19236 non-null float64\n",
      "yr_renovated     19236 non-null int64\n",
      "zipcode          19236 non-null float64\n",
      "lat              19236 non-null float64\n",
      "long             19236 non-null float64\n",
      "sqft_living15    19236 non-null float64\n",
      "flr_2            19236 non-null uint8\n",
      "flr_3            19236 non-null uint8\n",
      "flr_4            19236 non-null uint8\n",
      "bdrm_2           19236 non-null uint8\n",
      "bdrm_3           19236 non-null uint8\n",
      "bdrm_4           19236 non-null uint8\n",
      "bdrm_5           19236 non-null uint8\n",
      "bdrm_6           19236 non-null uint8\n",
      "bdrm_7           19236 non-null uint8\n",
      "bdrm_8           19236 non-null uint8\n",
      "bdrm_9           19236 non-null uint8\n",
      "bdrm_10          19236 non-null uint8\n",
      "bdrm_11          19236 non-null uint8\n",
      "view_1           19236 non-null uint8\n",
      "view_2           19236 non-null uint8\n",
      "view_3           19236 non-null uint8\n",
      "view_4           19236 non-null uint8\n",
      "cond_2           19236 non-null uint8\n",
      "cond_3           19236 non-null uint8\n",
      "cond_4           19236 non-null uint8\n",
      "cond_5           19236 non-null uint8\n",
      "grade_4          19236 non-null uint8\n",
      "grade_5          19236 non-null uint8\n",
      "grade_6          19236 non-null uint8\n",
      "grade_7          19236 non-null uint8\n",
      "grade_8          19236 non-null uint8\n",
      "grade_9          19236 non-null uint8\n",
      "grade_10         19236 non-null uint8\n",
      "grade_11         19236 non-null uint8\n",
      "grade_12         19236 non-null uint8\n",
      "dtypes: float64(11), int64(1), uint8(30)\n",
      "memory usage: 2.5 MB\n"
     ]
    }
   ],
   "source": [
    "df.info()"
   ]
  },
  {
   "cell_type": "markdown",
   "metadata": {},
   "source": [
    "## Apply Log Transform to Non-Normal Features\n"
   ]
  },
  {
   "cell_type": "markdown",
   "metadata": {},
   "source": [
    "Log transforms can further normalize the data as can be seen by the following graphs"
   ]
  },
  {
   "cell_type": "code",
   "execution_count": 57,
   "metadata": {
    "ExecuteTime": {
     "end_time": "2019-09-10T14:56:53.182412Z",
     "start_time": "2019-09-10T14:56:53.104534Z"
    }
   },
   "outputs": [],
   "source": [
    "to_log = ['sqft_living', 'sqft_lot', 'yr_built',\n",
    "              'sqft_living15']\n",
    "df_log = pd.DataFrame([])\n",
    "for feat in to_log:\n",
    "    df[feat] = df[feat].map(lambda x: np.log(x) if x > 1 else 0)\n",
    "    df_log[feat] = df[feat]"
   ]
  },
  {
   "cell_type": "code",
   "execution_count": 58,
   "metadata": {
    "ExecuteTime": {
     "end_time": "2019-09-10T14:56:56.746917Z",
     "start_time": "2019-09-10T14:56:55.980395Z"
    }
   },
   "outputs": [
    {
     "data": {
      "image/png": "[encoded data removed]",
      "text/plain": [
       "<Figure size 720x720 with 4 Axes>"
      ]
     },
     "metadata": {},
     "output_type": "display_data"
    }
   ],
   "source": [
    "df_log.hist(figsize=(10,10));"
   ]
  },
  {
   "cell_type": "markdown",
   "metadata": {
    "ExecuteTime": {
     "end_time": "2019-09-04T15:33:06.404676Z",
     "start_time": "2019-09-04T15:33:06.401684Z"
    }
   },
   "source": [
    "## Apply Min-Max Scaling"
   ]
  },
  {
   "cell_type": "markdown",
   "metadata": {},
   "source": [
    "Min-max scaling puts all values between 0 and 1 to more easily compare without units"
   ]
  },
  {
   "cell_type": "code",
   "execution_count": 59,
   "metadata": {
    "ExecuteTime": {
     "end_time": "2019-09-10T14:56:59.044498Z",
     "start_time": "2019-09-10T14:56:58.986628Z"
    }
   },
   "outputs": [],
   "source": [
    "to_scale = ['sqft_living', 'sqft_lot', 'sqft_basement', 'yr_built',\n",
    "              'bathrooms', 'sqft_living15', 'lat', 'long', 'zipcode']\n",
    "    \n",
    "df_scaled = pd.DataFrame([])\n",
    "for feat in to_scale:\n",
    "    scaled = df[feat]\n",
    "    df[feat] = (scaled-min(scaled))/(max(scaled)-min(scaled))\n",
    "    df_scaled[feat] = df[feat]"
   ]
  },
  {
   "cell_type": "code",
   "execution_count": 60,
   "metadata": {
    "ExecuteTime": {
     "end_time": "2019-09-10T14:57:02.427886Z",
     "start_time": "2019-09-10T14:57:00.952799Z"
    }
   },
   "outputs": [
    {
     "data": {
      "image/png": "[encoded data removed]",
      "text/plain": [
       "<Figure size 720x720 with 9 Axes>"
      ]
     },
     "metadata": {},
     "output_type": "display_data"
    }
   ],
   "source": [
    "df_scaled.hist(figsize=(10,10));"
   ]
  },
  {
   "cell_type": "code",
   "execution_count": 61,
   "metadata": {
    "ExecuteTime": {
     "end_time": "2019-09-10T14:57:03.915036Z",
     "start_time": "2019-09-10T14:57:03.901068Z"
    }
   },
   "outputs": [
    {
     "data": {
      "text/html": [
       "<div>\n",
       "<style scoped>\n",
       "    .dataframe tbody tr th:only-of-type {\n",
       "        vertical-align: middle;\n",
       "    }\n",
       "\n",
       "    .dataframe tbody tr th {\n",
       "        vertical-align: top;\n",
       "    }\n",
       "\n",
       "    .dataframe thead th {\n",
       "        text-align: right;\n",
       "    }\n",
       "</style>\n",
       "<table border=\"1\" class=\"dataframe\">\n",
       "  <thead>\n",
       "    <tr style=\"text-align: right;\">\n",
       "      <th></th>\n",
       "      <th>price</th>\n",
       "      <th>bathrooms</th>\n",
       "      <th>sqft_living</th>\n",
       "      <th>sqft_lot</th>\n",
       "      <th>waterfront</th>\n",
       "      <th>sqft_basement</th>\n",
       "      <th>yr_built</th>\n",
       "      <th>yr_renovated</th>\n",
       "      <th>zipcode</th>\n",
       "      <th>lat</th>\n",
       "      <th>...</th>\n",
       "      <th>cond_5</th>\n",
       "      <th>grade_4</th>\n",
       "      <th>grade_5</th>\n",
       "      <th>grade_6</th>\n",
       "      <th>grade_7</th>\n",
       "      <th>grade_8</th>\n",
       "      <th>grade_9</th>\n",
       "      <th>grade_10</th>\n",
       "      <th>grade_11</th>\n",
       "      <th>grade_12</th>\n",
       "    </tr>\n",
       "  </thead>\n",
       "  <tbody>\n",
       "    <tr>\n",
       "      <th>0</th>\n",
       "      <td>221900.0</td>\n",
       "      <td>0.071429</td>\n",
       "      <td>0.420884</td>\n",
       "      <td>0.522637</td>\n",
       "      <td>0.0</td>\n",
       "      <td>0.000000</td>\n",
       "      <td>0.485598</td>\n",
       "      <td>0</td>\n",
       "      <td>0.893939</td>\n",
       "      <td>0.571498</td>\n",
       "      <td>...</td>\n",
       "      <td>0</td>\n",
       "      <td>0</td>\n",
       "      <td>0</td>\n",
       "      <td>0</td>\n",
       "      <td>1</td>\n",
       "      <td>0</td>\n",
       "      <td>0</td>\n",
       "      <td>0</td>\n",
       "      <td>0</td>\n",
       "      <td>0</td>\n",
       "    </tr>\n",
       "    <tr>\n",
       "      <th>1</th>\n",
       "      <td>538000.0</td>\n",
       "      <td>0.250000</td>\n",
       "      <td>0.703365</td>\n",
       "      <td>0.577022</td>\n",
       "      <td>0.0</td>\n",
       "      <td>0.173913</td>\n",
       "      <td>0.450745</td>\n",
       "      <td>1</td>\n",
       "      <td>0.626263</td>\n",
       "      <td>0.908959</td>\n",
       "      <td>...</td>\n",
       "      <td>0</td>\n",
       "      <td>0</td>\n",
       "      <td>0</td>\n",
       "      <td>0</td>\n",
       "      <td>1</td>\n",
       "      <td>0</td>\n",
       "      <td>0</td>\n",
       "      <td>0</td>\n",
       "      <td>0</td>\n",
       "      <td>0</td>\n",
       "    </tr>\n",
       "    <tr>\n",
       "      <th>2</th>\n",
       "      <td>180000.0</td>\n",
       "      <td>0.071429</td>\n",
       "      <td>0.265968</td>\n",
       "      <td>0.647717</td>\n",
       "      <td>0.0</td>\n",
       "      <td>0.000000</td>\n",
       "      <td>0.293018</td>\n",
       "      <td>0</td>\n",
       "      <td>0.136364</td>\n",
       "      <td>0.936143</td>\n",
       "      <td>...</td>\n",
       "      <td>0</td>\n",
       "      <td>0</td>\n",
       "      <td>0</td>\n",
       "      <td>1</td>\n",
       "      <td>0</td>\n",
       "      <td>0</td>\n",
       "      <td>0</td>\n",
       "      <td>0</td>\n",
       "      <td>0</td>\n",
       "      <td>0</td>\n",
       "    </tr>\n",
       "    <tr>\n",
       "      <th>3</th>\n",
       "      <td>604000.0</td>\n",
       "      <td>0.357143</td>\n",
       "      <td>0.605032</td>\n",
       "      <td>0.495862</td>\n",
       "      <td>0.0</td>\n",
       "      <td>0.395652</td>\n",
       "      <td>0.572419</td>\n",
       "      <td>0</td>\n",
       "      <td>0.681818</td>\n",
       "      <td>0.586939</td>\n",
       "      <td>...</td>\n",
       "      <td>1</td>\n",
       "      <td>0</td>\n",
       "      <td>0</td>\n",
       "      <td>0</td>\n",
       "      <td>1</td>\n",
       "      <td>0</td>\n",
       "      <td>0</td>\n",
       "      <td>0</td>\n",
       "      <td>0</td>\n",
       "      <td>0</td>\n",
       "    </tr>\n",
       "    <tr>\n",
       "      <th>4</th>\n",
       "      <td>510000.0</td>\n",
       "      <td>0.214286</td>\n",
       "      <td>0.549090</td>\n",
       "      <td>0.601011</td>\n",
       "      <td>0.0</td>\n",
       "      <td>0.000000</td>\n",
       "      <td>0.761879</td>\n",
       "      <td>0</td>\n",
       "      <td>0.368687</td>\n",
       "      <td>0.741354</td>\n",
       "      <td>...</td>\n",
       "      <td>0</td>\n",
       "      <td>0</td>\n",
       "      <td>0</td>\n",
       "      <td>0</td>\n",
       "      <td>0</td>\n",
       "      <td>1</td>\n",
       "      <td>0</td>\n",
       "      <td>0</td>\n",
       "      <td>0</td>\n",
       "      <td>0</td>\n",
       "    </tr>\n",
       "  </tbody>\n",
       "</table>\n",
       "<p>5 rows × 42 columns</p>\n",
       "</div>"
      ],
      "text/plain": [
       "      price  bathrooms  sqft_living  sqft_lot  waterfront  sqft_basement  \\\n",
       "0  221900.0   0.071429     0.420884  0.522637         0.0       0.000000   \n",
       "1  538000.0   0.250000     0.703365  0.577022         0.0       0.173913   \n",
       "2  180000.0   0.071429     0.265968  0.647717         0.0       0.000000   \n",
       "3  604000.0   0.357143     0.605032  0.495862         0.0       0.395652   \n",
       "4  510000.0   0.214286     0.549090  0.601011         0.0       0.000000   \n",
       "\n",
       "   yr_built  yr_renovated   zipcode       lat  ...  cond_5  grade_4  grade_5  \\\n",
       "0  0.485598             0  0.893939  0.571498  ...       0        0        0   \n",
       "1  0.450745             1  0.626263  0.908959  ...       0        0        0   \n",
       "2  0.293018             0  0.136364  0.936143  ...       0        0        0   \n",
       "3  0.572419             0  0.681818  0.586939  ...       1        0        0   \n",
       "4  0.761879             0  0.368687  0.741354  ...       0        0        0   \n",
       "\n",
       "   grade_6  grade_7  grade_8  grade_9  grade_10  grade_11  grade_12  \n",
       "0        0        1        0        0         0         0         0  \n",
       "1        0        1        0        0         0         0         0  \n",
       "2        1        0        0        0         0         0         0  \n",
       "3        0        1        0        0         0         0         0  \n",
       "4        0        0        1        0         0         0         0  \n",
       "\n",
       "[5 rows x 42 columns]"
      ]
     },
     "execution_count": 61,
     "metadata": {},
     "output_type": "execute_result"
    }
   ],
   "source": [
    "df.head()"
   ]
  },
  {
   "cell_type": "code",
   "execution_count": 62,
   "metadata": {
    "ExecuteTime": {
     "end_time": "2019-09-10T14:57:05.495537Z",
     "start_time": "2019-09-10T14:57:05.392069Z"
    }
   },
   "outputs": [
    {
     "data": {
      "text/html": [
       "<div>\n",
       "<style scoped>\n",
       "    .dataframe tbody tr th:only-of-type {\n",
       "        vertical-align: middle;\n",
       "    }\n",
       "\n",
       "    .dataframe tbody tr th {\n",
       "        vertical-align: top;\n",
       "    }\n",
       "\n",
       "    .dataframe thead th {\n",
       "        text-align: right;\n",
       "    }\n",
       "</style>\n",
       "<table border=\"1\" class=\"dataframe\">\n",
       "  <thead>\n",
       "    <tr style=\"text-align: right;\">\n",
       "      <th></th>\n",
       "      <th>price</th>\n",
       "      <th>bathrooms</th>\n",
       "      <th>sqft_living</th>\n",
       "      <th>sqft_lot</th>\n",
       "      <th>waterfront</th>\n",
       "      <th>sqft_basement</th>\n",
       "      <th>yr_built</th>\n",
       "      <th>yr_renovated</th>\n",
       "      <th>zipcode</th>\n",
       "      <th>lat</th>\n",
       "      <th>...</th>\n",
       "      <th>cond_5</th>\n",
       "      <th>grade_4</th>\n",
       "      <th>grade_5</th>\n",
       "      <th>grade_6</th>\n",
       "      <th>grade_7</th>\n",
       "      <th>grade_8</th>\n",
       "      <th>grade_9</th>\n",
       "      <th>grade_10</th>\n",
       "      <th>grade_11</th>\n",
       "      <th>grade_12</th>\n",
       "    </tr>\n",
       "  </thead>\n",
       "  <tbody>\n",
       "    <tr>\n",
       "      <th>count</th>\n",
       "      <td>19236.000000</td>\n",
       "      <td>19236.000000</td>\n",
       "      <td>19236.000000</td>\n",
       "      <td>19236.000000</td>\n",
       "      <td>19236.000000</td>\n",
       "      <td>19236.000000</td>\n",
       "      <td>19236.000000</td>\n",
       "      <td>19236.000000</td>\n",
       "      <td>19236.000000</td>\n",
       "      <td>19236.000000</td>\n",
       "      <td>...</td>\n",
       "      <td>19236.000000</td>\n",
       "      <td>19236.000000</td>\n",
       "      <td>19236.000000</td>\n",
       "      <td>19236.000000</td>\n",
       "      <td>19236.000000</td>\n",
       "      <td>19236.000000</td>\n",
       "      <td>19236.000000</td>\n",
       "      <td>19236.000000</td>\n",
       "      <td>19236.000000</td>\n",
       "      <td>19236.000000</td>\n",
       "    </tr>\n",
       "    <tr>\n",
       "      <th>mean</th>\n",
       "      <td>464062.796683</td>\n",
       "      <td>0.218517</td>\n",
       "      <td>0.573039</td>\n",
       "      <td>0.566156</td>\n",
       "      <td>0.001975</td>\n",
       "      <td>0.111476</td>\n",
       "      <td>0.617070</td>\n",
       "      <td>0.026045</td>\n",
       "      <td>0.399294</td>\n",
       "      <td>0.647865</td>\n",
       "      <td>...</td>\n",
       "      <td>0.076211</td>\n",
       "      <td>0.001300</td>\n",
       "      <td>0.011437</td>\n",
       "      <td>0.101944</td>\n",
       "      <td>0.450925</td>\n",
       "      <td>0.292836</td>\n",
       "      <td>0.106155</td>\n",
       "      <td>0.031244</td>\n",
       "      <td>0.004055</td>\n",
       "      <td>0.000052</td>\n",
       "    </tr>\n",
       "    <tr>\n",
       "      <th>std</th>\n",
       "      <td>195628.237476</td>\n",
       "      <td>0.099815</td>\n",
       "      <td>0.140890</td>\n",
       "      <td>0.152702</td>\n",
       "      <td>0.044403</td>\n",
       "      <td>0.172366</td>\n",
       "      <td>0.254486</td>\n",
       "      <td>0.159273</td>\n",
       "      <td>0.271396</td>\n",
       "      <td>0.225202</td>\n",
       "      <td>...</td>\n",
       "      <td>0.265343</td>\n",
       "      <td>0.036028</td>\n",
       "      <td>0.106333</td>\n",
       "      <td>0.302583</td>\n",
       "      <td>0.497599</td>\n",
       "      <td>0.455076</td>\n",
       "      <td>0.308044</td>\n",
       "      <td>0.173980</td>\n",
       "      <td>0.063550</td>\n",
       "      <td>0.007210</td>\n",
       "    </tr>\n",
       "    <tr>\n",
       "      <th>min</th>\n",
       "      <td>78000.000000</td>\n",
       "      <td>0.000000</td>\n",
       "      <td>0.000000</td>\n",
       "      <td>0.000000</td>\n",
       "      <td>0.000000</td>\n",
       "      <td>0.000000</td>\n",
       "      <td>0.000000</td>\n",
       "      <td>0.000000</td>\n",
       "      <td>0.000000</td>\n",
       "      <td>0.000000</td>\n",
       "      <td>...</td>\n",
       "      <td>0.000000</td>\n",
       "      <td>0.000000</td>\n",
       "      <td>0.000000</td>\n",
       "      <td>0.000000</td>\n",
       "      <td>0.000000</td>\n",
       "      <td>0.000000</td>\n",
       "      <td>0.000000</td>\n",
       "      <td>0.000000</td>\n",
       "      <td>0.000000</td>\n",
       "      <td>0.000000</td>\n",
       "    </tr>\n",
       "    <tr>\n",
       "      <th>25%</th>\n",
       "      <td>310000.000000</td>\n",
       "      <td>0.142857</td>\n",
       "      <td>0.477703</td>\n",
       "      <td>0.495862</td>\n",
       "      <td>0.000000</td>\n",
       "      <td>0.000000</td>\n",
       "      <td>0.450745</td>\n",
       "      <td>0.000000</td>\n",
       "      <td>0.161616</td>\n",
       "      <td>0.498472</td>\n",
       "      <td>...</td>\n",
       "      <td>0.000000</td>\n",
       "      <td>0.000000</td>\n",
       "      <td>0.000000</td>\n",
       "      <td>0.000000</td>\n",
       "      <td>0.000000</td>\n",
       "      <td>0.000000</td>\n",
       "      <td>0.000000</td>\n",
       "      <td>0.000000</td>\n",
       "      <td>0.000000</td>\n",
       "      <td>0.000000</td>\n",
       "    </tr>\n",
       "    <tr>\n",
       "      <th>50%</th>\n",
       "      <td>429950.000000</td>\n",
       "      <td>0.214286</td>\n",
       "      <td>0.578138</td>\n",
       "      <td>0.579280</td>\n",
       "      <td>0.000000</td>\n",
       "      <td>0.000000</td>\n",
       "      <td>0.641558</td>\n",
       "      <td>0.000000</td>\n",
       "      <td>0.358586</td>\n",
       "      <td>0.662699</td>\n",
       "      <td>...</td>\n",
       "      <td>0.000000</td>\n",
       "      <td>0.000000</td>\n",
       "      <td>0.000000</td>\n",
       "      <td>0.000000</td>\n",
       "      <td>0.000000</td>\n",
       "      <td>0.000000</td>\n",
       "      <td>0.000000</td>\n",
       "      <td>0.000000</td>\n",
       "      <td>0.000000</td>\n",
       "      <td>0.000000</td>\n",
       "    </tr>\n",
       "    <tr>\n",
       "      <th>75%</th>\n",
       "      <td>588000.000000</td>\n",
       "      <td>0.285714</td>\n",
       "      <td>0.675492</td>\n",
       "      <td>0.642732</td>\n",
       "      <td>0.000000</td>\n",
       "      <td>0.217391</td>\n",
       "      <td>0.838782</td>\n",
       "      <td>0.000000</td>\n",
       "      <td>0.590909</td>\n",
       "      <td>0.844298</td>\n",
       "      <td>...</td>\n",
       "      <td>0.000000</td>\n",
       "      <td>0.000000</td>\n",
       "      <td>0.000000</td>\n",
       "      <td>0.000000</td>\n",
       "      <td>1.000000</td>\n",
       "      <td>1.000000</td>\n",
       "      <td>0.000000</td>\n",
       "      <td>0.000000</td>\n",
       "      <td>0.000000</td>\n",
       "      <td>0.000000</td>\n",
       "    </tr>\n",
       "    <tr>\n",
       "      <th>max</th>\n",
       "      <td>1000000.000000</td>\n",
       "      <td>1.000000</td>\n",
       "      <td>1.000000</td>\n",
       "      <td>1.000000</td>\n",
       "      <td>1.000000</td>\n",
       "      <td>1.000000</td>\n",
       "      <td>1.000000</td>\n",
       "      <td>1.000000</td>\n",
       "      <td>1.000000</td>\n",
       "      <td>1.000000</td>\n",
       "      <td>...</td>\n",
       "      <td>1.000000</td>\n",
       "      <td>1.000000</td>\n",
       "      <td>1.000000</td>\n",
       "      <td>1.000000</td>\n",
       "      <td>1.000000</td>\n",
       "      <td>1.000000</td>\n",
       "      <td>1.000000</td>\n",
       "      <td>1.000000</td>\n",
       "      <td>1.000000</td>\n",
       "      <td>1.000000</td>\n",
       "    </tr>\n",
       "  </tbody>\n",
       "</table>\n",
       "<p>8 rows × 42 columns</p>\n",
       "</div>"
      ],
      "text/plain": [
       "                price     bathrooms   sqft_living      sqft_lot    waterfront  \\\n",
       "count    19236.000000  19236.000000  19236.000000  19236.000000  19236.000000   \n",
       "mean    464062.796683      0.218517      0.573039      0.566156      0.001975   \n",
       "std     195628.237476      0.099815      0.140890      0.152702      0.044403   \n",
       "min      78000.000000      0.000000      0.000000      0.000000      0.000000   \n",
       "25%     310000.000000      0.142857      0.477703      0.495862      0.000000   \n",
       "50%     429950.000000      0.214286      0.578138      0.579280      0.000000   \n",
       "75%     588000.000000      0.285714      0.675492      0.642732      0.000000   \n",
       "max    1000000.000000      1.000000      1.000000      1.000000      1.000000   \n",
       "\n",
       "       sqft_basement      yr_built  yr_renovated       zipcode           lat  \\\n",
       "count   19236.000000  19236.000000  19236.000000  19236.000000  19236.000000   \n",
       "mean        0.111476      0.617070      0.026045      0.399294      0.647865   \n",
       "std         0.172366      0.254486      0.159273      0.271396      0.225202   \n",
       "min         0.000000      0.000000      0.000000      0.000000      0.000000   \n",
       "25%         0.000000      0.450745      0.000000      0.161616      0.498472   \n",
       "50%         0.000000      0.641558      0.000000      0.358586      0.662699   \n",
       "75%         0.217391      0.838782      0.000000      0.590909      0.844298   \n",
       "max         1.000000      1.000000      1.000000      1.000000      1.000000   \n",
       "\n",
       "       ...        cond_5       grade_4       grade_5       grade_6  \\\n",
       "count  ...  19236.000000  19236.000000  19236.000000  19236.000000   \n",
       "mean   ...      0.076211      0.001300      0.011437      0.101944   \n",
       "std    ...      0.265343      0.036028      0.106333      0.302583   \n",
       "min    ...      0.000000      0.000000      0.000000      0.000000   \n",
       "25%    ...      0.000000      0.000000      0.000000      0.000000   \n",
       "50%    ...      0.000000      0.000000      0.000000      0.000000   \n",
       "75%    ...      0.000000      0.000000      0.000000      0.000000   \n",
       "max    ...      1.000000      1.000000      1.000000      1.000000   \n",
       "\n",
       "            grade_7       grade_8       grade_9      grade_10      grade_11  \\\n",
       "count  19236.000000  19236.000000  19236.000000  19236.000000  19236.000000   \n",
       "mean       0.450925      0.292836      0.106155      0.031244      0.004055   \n",
       "std        0.497599      0.455076      0.308044      0.173980      0.063550   \n",
       "min        0.000000      0.000000      0.000000      0.000000      0.000000   \n",
       "25%        0.000000      0.000000      0.000000      0.000000      0.000000   \n",
       "50%        0.000000      0.000000      0.000000      0.000000      0.000000   \n",
       "75%        1.000000      1.000000      0.000000      0.000000      0.000000   \n",
       "max        1.000000      1.000000      1.000000      1.000000      1.000000   \n",
       "\n",
       "           grade_12  \n",
       "count  19236.000000  \n",
       "mean       0.000052  \n",
       "std        0.007210  \n",
       "min        0.000000  \n",
       "25%        0.000000  \n",
       "50%        0.000000  \n",
       "75%        0.000000  \n",
       "max        1.000000  \n",
       "\n",
       "[8 rows x 42 columns]"
      ]
     },
     "execution_count": 62,
     "metadata": {},
     "output_type": "execute_result"
    }
   ],
   "source": [
    "df.describe()"
   ]
  },
  {
   "cell_type": "markdown",
   "metadata": {},
   "source": [
    "# Run Model"
   ]
  },
  {
   "cell_type": "code",
   "execution_count": 63,
   "metadata": {
    "ExecuteTime": {
     "end_time": "2019-09-10T14:57:15.449918Z",
     "start_time": "2019-09-10T14:57:15.444927Z"
    }
   },
   "outputs": [],
   "source": [
    "outcome = 'price'\n",
    "predictors = df.drop('price', axis=1)\n",
    "pred_sum = \"+\".join(predictors.columns)\n",
    "formula = outcome + '~' + pred_sum"
   ]
  },
  {
   "cell_type": "code",
   "execution_count": 64,
   "metadata": {
    "ExecuteTime": {
     "end_time": "2019-09-10T14:57:17.269558Z",
     "start_time": "2019-09-10T14:57:17.140902Z"
    }
   },
   "outputs": [],
   "source": [
    "model = ols(formula=formula, data=df).fit()"
   ]
  },
  {
   "cell_type": "code",
   "execution_count": 65,
   "metadata": {
    "ExecuteTime": {
     "end_time": "2019-09-10T14:57:18.996339Z",
     "start_time": "2019-09-10T14:57:18.964452Z"
    }
   },
   "outputs": [
    {
     "data": {
      "text/html": [
       "<table class=\"simpletable\">\n",
       "<caption>OLS Regression Results</caption>\n",
       "<tr>\n",
       "  <th>Dep. Variable:</th>          <td>price</td>      <th>  R-squared:         </th>  <td>   0.702</td>  \n",
       "</tr>\n",
       "<tr>\n",
       "  <th>Model:</th>                   <td>OLS</td>       <th>  Adj. R-squared:    </th>  <td>   0.701</td>  \n",
       "</tr>\n",
       "<tr>\n",
       "  <th>Method:</th>             <td>Least Squares</td>  <th>  F-statistic:       </th>  <td>   1102.</td>  \n",
       "</tr>\n",
       "<tr>\n",
       "  <th>Date:</th>             <td>Tue, 10 Sep 2019</td> <th>  Prob (F-statistic):</th>   <td>  0.00</td>   \n",
       "</tr>\n",
       "<tr>\n",
       "  <th>Time:</th>                 <td>09:57:18</td>     <th>  Log-Likelihood:    </th> <td>-2.5002e+05</td>\n",
       "</tr>\n",
       "<tr>\n",
       "  <th>No. Observations:</th>      <td> 19236</td>      <th>  AIC:               </th>  <td>5.001e+05</td> \n",
       "</tr>\n",
       "<tr>\n",
       "  <th>Df Residuals:</th>          <td> 19194</td>      <th>  BIC:               </th>  <td>5.005e+05</td> \n",
       "</tr>\n",
       "<tr>\n",
       "  <th>Df Model:</th>              <td>    41</td>      <th>                     </th>      <td> </td>     \n",
       "</tr>\n",
       "<tr>\n",
       "  <th>Covariance Type:</th>      <td>nonrobust</td>    <th>                     </th>      <td> </td>     \n",
       "</tr>\n",
       "</table>\n",
       "<table class=\"simpletable\">\n",
       "<tr>\n",
       "        <td></td>           <th>coef</th>     <th>std err</th>      <th>t</th>      <th>P>|t|</th>  <th>[0.025</th>    <th>0.975]</th>  \n",
       "</tr>\n",
       "<tr>\n",
       "  <th>Intercept</th>     <td> 1.005e+05</td> <td> 1.09e+05</td> <td>    0.920</td> <td> 0.358</td> <td>-1.14e+05</td> <td> 3.15e+05</td>\n",
       "</tr>\n",
       "<tr>\n",
       "  <th>bathrooms</th>     <td> 1.318e+05</td> <td> 1.36e+04</td> <td>    9.691</td> <td> 0.000</td> <td> 1.05e+05</td> <td> 1.58e+05</td>\n",
       "</tr>\n",
       "<tr>\n",
       "  <th>sqft_living</th>   <td> 4.121e+05</td> <td> 1.35e+04</td> <td>   30.630</td> <td> 0.000</td> <td> 3.86e+05</td> <td> 4.38e+05</td>\n",
       "</tr>\n",
       "<tr>\n",
       "  <th>sqft_lot</th>      <td>-1.497e+05</td> <td> 7093.696</td> <td>  -21.104</td> <td> 0.000</td> <td>-1.64e+05</td> <td>-1.36e+05</td>\n",
       "</tr>\n",
       "<tr>\n",
       "  <th>waterfront</th>    <td> 1.607e+05</td> <td> 1.98e+04</td> <td>    8.119</td> <td> 0.000</td> <td> 1.22e+05</td> <td> 1.99e+05</td>\n",
       "</tr>\n",
       "<tr>\n",
       "  <th>sqft_basement</th> <td>-1.952e+04</td> <td> 6464.752</td> <td>   -3.020</td> <td> 0.003</td> <td>-3.22e+04</td> <td>-6850.388</td>\n",
       "</tr>\n",
       "<tr>\n",
       "  <th>yr_built</th>      <td>-2.072e+05</td> <td> 4915.960</td> <td>  -42.144</td> <td> 0.000</td> <td>-2.17e+05</td> <td>-1.98e+05</td>\n",
       "</tr>\n",
       "<tr>\n",
       "  <th>yr_renovated</th>  <td> 4.089e+04</td> <td> 5087.116</td> <td>    8.038</td> <td> 0.000</td> <td> 3.09e+04</td> <td> 5.09e+04</td>\n",
       "</tr>\n",
       "<tr>\n",
       "  <th>zipcode</th>       <td>-4.832e+04</td> <td> 3702.900</td> <td>  -13.050</td> <td> 0.000</td> <td>-5.56e+04</td> <td>-4.11e+04</td>\n",
       "</tr>\n",
       "<tr>\n",
       "  <th>lat</th>           <td> 3.351e+05</td> <td> 3779.017</td> <td>   88.670</td> <td> 0.000</td> <td> 3.28e+05</td> <td> 3.42e+05</td>\n",
       "</tr>\n",
       "<tr>\n",
       "  <th>long</th>          <td> -152.9872</td> <td> 9237.047</td> <td>   -0.017</td> <td> 0.987</td> <td>-1.83e+04</td> <td>  1.8e+04</td>\n",
       "</tr>\n",
       "<tr>\n",
       "  <th>sqft_living15</th> <td> 2.275e+05</td> <td>    1e+04</td> <td>   22.719</td> <td> 0.000</td> <td> 2.08e+05</td> <td> 2.47e+05</td>\n",
       "</tr>\n",
       "<tr>\n",
       "  <th>flr_2</th>         <td> 9856.1288</td> <td> 2305.220</td> <td>    4.276</td> <td> 0.000</td> <td> 5337.696</td> <td> 1.44e+04</td>\n",
       "</tr>\n",
       "<tr>\n",
       "  <th>flr_3</th>         <td> 1.604e+04</td> <td> 5655.776</td> <td>    2.836</td> <td> 0.005</td> <td> 4956.574</td> <td> 2.71e+04</td>\n",
       "</tr>\n",
       "<tr>\n",
       "  <th>flr_4</th>         <td> 2.566e+04</td> <td> 4.38e+04</td> <td>    0.585</td> <td> 0.558</td> <td>-6.02e+04</td> <td> 1.12e+05</td>\n",
       "</tr>\n",
       "<tr>\n",
       "  <th>bdrm_2</th>        <td> -221.6332</td> <td> 8494.776</td> <td>   -0.026</td> <td> 0.979</td> <td>-1.69e+04</td> <td> 1.64e+04</td>\n",
       "</tr>\n",
       "<tr>\n",
       "  <th>bdrm_3</th>        <td>-1.858e+04</td> <td> 8570.873</td> <td>   -2.168</td> <td> 0.030</td> <td>-3.54e+04</td> <td>-1783.550</td>\n",
       "</tr>\n",
       "<tr>\n",
       "  <th>bdrm_4</th>        <td>-2.256e+04</td> <td> 8825.885</td> <td>   -2.556</td> <td> 0.011</td> <td>-3.99e+04</td> <td>-5260.505</td>\n",
       "</tr>\n",
       "<tr>\n",
       "  <th>bdrm_5</th>        <td>-2.439e+04</td> <td> 9365.613</td> <td>   -2.605</td> <td> 0.009</td> <td>-4.28e+04</td> <td>-6035.971</td>\n",
       "</tr>\n",
       "<tr>\n",
       "  <th>bdrm_6</th>        <td>-2.335e+04</td> <td> 1.17e+04</td> <td>   -1.997</td> <td> 0.046</td> <td>-4.63e+04</td> <td> -434.383</td>\n",
       "</tr>\n",
       "<tr>\n",
       "  <th>bdrm_7</th>        <td> -3.93e+04</td> <td> 2.19e+04</td> <td>   -1.791</td> <td> 0.073</td> <td>-8.23e+04</td> <td> 3700.181</td>\n",
       "</tr>\n",
       "<tr>\n",
       "  <th>bdrm_8</th>        <td>-1.208e+04</td> <td> 3.69e+04</td> <td>   -0.327</td> <td> 0.743</td> <td>-8.44e+04</td> <td> 6.02e+04</td>\n",
       "</tr>\n",
       "<tr>\n",
       "  <th>bdrm_9</th>        <td> -386.7134</td> <td> 5.45e+04</td> <td>   -0.007</td> <td> 0.994</td> <td>-1.07e+05</td> <td> 1.06e+05</td>\n",
       "</tr>\n",
       "<tr>\n",
       "  <th>bdrm_10</th>       <td> 2970.5553</td> <td> 7.62e+04</td> <td>    0.039</td> <td> 0.969</td> <td>-1.46e+05</td> <td> 1.52e+05</td>\n",
       "</tr>\n",
       "<tr>\n",
       "  <th>bdrm_11</th>       <td>-1.137e+05</td> <td> 1.07e+05</td> <td>   -1.058</td> <td> 0.290</td> <td>-3.24e+05</td> <td> 9.69e+04</td>\n",
       "</tr>\n",
       "<tr>\n",
       "  <th>view_1</th>        <td>  7.14e+04</td> <td> 6764.881</td> <td>   10.555</td> <td> 0.000</td> <td> 5.81e+04</td> <td> 8.47e+04</td>\n",
       "</tr>\n",
       "<tr>\n",
       "  <th>view_2</th>        <td> 5.961e+04</td> <td> 4234.803</td> <td>   14.075</td> <td> 0.000</td> <td> 5.13e+04</td> <td> 6.79e+04</td>\n",
       "</tr>\n",
       "<tr>\n",
       "  <th>view_3</th>        <td> 6.543e+04</td> <td> 6605.354</td> <td>    9.906</td> <td> 0.000</td> <td> 5.25e+04</td> <td> 7.84e+04</td>\n",
       "</tr>\n",
       "<tr>\n",
       "  <th>view_4</th>        <td> 1.401e+05</td> <td> 1.15e+04</td> <td>   12.183</td> <td> 0.000</td> <td> 1.18e+05</td> <td> 1.63e+05</td>\n",
       "</tr>\n",
       "<tr>\n",
       "  <th>cond_2</th>        <td> 5.363e+04</td> <td> 2.32e+04</td> <td>    2.307</td> <td> 0.021</td> <td> 8061.274</td> <td> 9.92e+04</td>\n",
       "</tr>\n",
       "<tr>\n",
       "  <th>cond_3</th>        <td> 7.061e+04</td> <td> 2.16e+04</td> <td>    3.268</td> <td> 0.001</td> <td> 2.83e+04</td> <td> 1.13e+05</td>\n",
       "</tr>\n",
       "<tr>\n",
       "  <th>cond_4</th>        <td> 9.679e+04</td> <td> 2.16e+04</td> <td>    4.479</td> <td> 0.000</td> <td> 5.44e+04</td> <td> 1.39e+05</td>\n",
       "</tr>\n",
       "<tr>\n",
       "  <th>cond_5</th>        <td> 1.229e+05</td> <td> 2.17e+04</td> <td>    5.654</td> <td> 0.000</td> <td> 8.03e+04</td> <td> 1.66e+05</td>\n",
       "</tr>\n",
       "<tr>\n",
       "  <th>grade_4</th>       <td>-1.819e+05</td> <td> 1.09e+05</td> <td>   -1.665</td> <td> 0.096</td> <td>-3.96e+05</td> <td> 3.22e+04</td>\n",
       "</tr>\n",
       "<tr>\n",
       "  <th>grade_5</th>       <td>-2.031e+05</td> <td> 1.07e+05</td> <td>   -1.889</td> <td> 0.059</td> <td>-4.14e+05</td> <td> 7595.698</td>\n",
       "</tr>\n",
       "<tr>\n",
       "  <th>grade_6</th>       <td>-1.794e+05</td> <td> 1.07e+05</td> <td>   -1.671</td> <td> 0.095</td> <td> -3.9e+05</td> <td> 3.11e+04</td>\n",
       "</tr>\n",
       "<tr>\n",
       "  <th>grade_7</th>       <td>-1.339e+05</td> <td> 1.07e+05</td> <td>   -1.247</td> <td> 0.212</td> <td>-3.44e+05</td> <td> 7.66e+04</td>\n",
       "</tr>\n",
       "<tr>\n",
       "  <th>grade_8</th>       <td>-6.265e+04</td> <td> 1.07e+05</td> <td>   -0.583</td> <td> 0.560</td> <td>-2.73e+05</td> <td> 1.48e+05</td>\n",
       "</tr>\n",
       "<tr>\n",
       "  <th>grade_9</th>       <td> 4.548e+04</td> <td> 1.07e+05</td> <td>    0.423</td> <td> 0.672</td> <td>-1.65e+05</td> <td> 2.56e+05</td>\n",
       "</tr>\n",
       "<tr>\n",
       "  <th>grade_10</th>      <td> 1.216e+05</td> <td> 1.08e+05</td> <td>    1.130</td> <td> 0.258</td> <td>-8.93e+04</td> <td> 3.32e+05</td>\n",
       "</tr>\n",
       "<tr>\n",
       "  <th>grade_11</th>      <td> 1.814e+05</td> <td> 1.08e+05</td> <td>    1.677</td> <td> 0.094</td> <td>-3.06e+04</td> <td> 3.93e+05</td>\n",
       "</tr>\n",
       "<tr>\n",
       "  <th>grade_12</th>      <td> 2.796e+05</td> <td> 1.52e+05</td> <td>    1.843</td> <td> 0.065</td> <td>-1.78e+04</td> <td> 5.77e+05</td>\n",
       "</tr>\n",
       "</table>\n",
       "<table class=\"simpletable\">\n",
       "<tr>\n",
       "  <th>Omnibus:</th>       <td>1085.758</td> <th>  Durbin-Watson:     </th> <td>   1.969</td>\n",
       "</tr>\n",
       "<tr>\n",
       "  <th>Prob(Omnibus):</th>  <td> 0.000</td>  <th>  Jarque-Bera (JB):  </th> <td>1743.484</td>\n",
       "</tr>\n",
       "<tr>\n",
       "  <th>Skew:</th>           <td> 0.470</td>  <th>  Prob(JB):          </th> <td>    0.00</td>\n",
       "</tr>\n",
       "<tr>\n",
       "  <th>Kurtosis:</th>       <td> 4.137</td>  <th>  Cond. No.          </th> <td>    938.</td>\n",
       "</tr>\n",
       "</table><br/><br/>Warnings:<br/>[1] Standard Errors assume that the covariance matrix of the errors is correctly specified."
      ],
      "text/plain": [
       "<class 'statsmodels.iolib.summary.Summary'>\n",
       "\"\"\"\n",
       "                            OLS Regression Results                            \n",
       "==============================================================================\n",
       "Dep. Variable:                  price   R-squared:                       0.702\n",
       "Model:                            OLS   Adj. R-squared:                  0.701\n",
       "Method:                 Least Squares   F-statistic:                     1102.\n",
       "Date:                Tue, 10 Sep 2019   Prob (F-statistic):               0.00\n",
       "Time:                        09:57:18   Log-Likelihood:            -2.5002e+05\n",
       "No. Observations:               19236   AIC:                         5.001e+05\n",
       "Df Residuals:                   19194   BIC:                         5.005e+05\n",
       "Df Model:                          41                                         \n",
       "Covariance Type:            nonrobust                                         \n",
       "=================================================================================\n",
       "                    coef    std err          t      P>|t|      [0.025      0.975]\n",
       "---------------------------------------------------------------------------------\n",
       "Intercept      1.005e+05   1.09e+05      0.920      0.358   -1.14e+05    3.15e+05\n",
       "bathrooms      1.318e+05   1.36e+04      9.691      0.000    1.05e+05    1.58e+05\n",
       "sqft_living    4.121e+05   1.35e+04     30.630      0.000    3.86e+05    4.38e+05\n",
       "sqft_lot      -1.497e+05   7093.696    -21.104      0.000   -1.64e+05   -1.36e+05\n",
       "waterfront     1.607e+05   1.98e+04      8.119      0.000    1.22e+05    1.99e+05\n",
       "sqft_basement -1.952e+04   6464.752     -3.020      0.003   -3.22e+04   -6850.388\n",
       "yr_built      -2.072e+05   4915.960    -42.144      0.000   -2.17e+05   -1.98e+05\n",
       "yr_renovated   4.089e+04   5087.116      8.038      0.000    3.09e+04    5.09e+04\n",
       "zipcode       -4.832e+04   3702.900    -13.050      0.000   -5.56e+04   -4.11e+04\n",
       "lat            3.351e+05   3779.017     88.670      0.000    3.28e+05    3.42e+05\n",
       "long           -152.9872   9237.047     -0.017      0.987   -1.83e+04     1.8e+04\n",
       "sqft_living15  2.275e+05      1e+04     22.719      0.000    2.08e+05    2.47e+05\n",
       "flr_2          9856.1288   2305.220      4.276      0.000    5337.696    1.44e+04\n",
       "flr_3          1.604e+04   5655.776      2.836      0.005    4956.574    2.71e+04\n",
       "flr_4          2.566e+04   4.38e+04      0.585      0.558   -6.02e+04    1.12e+05\n",
       "bdrm_2         -221.6332   8494.776     -0.026      0.979   -1.69e+04    1.64e+04\n",
       "bdrm_3        -1.858e+04   8570.873     -2.168      0.030   -3.54e+04   -1783.550\n",
       "bdrm_4        -2.256e+04   8825.885     -2.556      0.011   -3.99e+04   -5260.505\n",
       "bdrm_5        -2.439e+04   9365.613     -2.605      0.009   -4.28e+04   -6035.971\n",
       "bdrm_6        -2.335e+04   1.17e+04     -1.997      0.046   -4.63e+04    -434.383\n",
       "bdrm_7         -3.93e+04   2.19e+04     -1.791      0.073   -8.23e+04    3700.181\n",
       "bdrm_8        -1.208e+04   3.69e+04     -0.327      0.743   -8.44e+04    6.02e+04\n",
       "bdrm_9         -386.7134   5.45e+04     -0.007      0.994   -1.07e+05    1.06e+05\n",
       "bdrm_10        2970.5553   7.62e+04      0.039      0.969   -1.46e+05    1.52e+05\n",
       "bdrm_11       -1.137e+05   1.07e+05     -1.058      0.290   -3.24e+05    9.69e+04\n",
       "view_1          7.14e+04   6764.881     10.555      0.000    5.81e+04    8.47e+04\n",
       "view_2         5.961e+04   4234.803     14.075      0.000    5.13e+04    6.79e+04\n",
       "view_3         6.543e+04   6605.354      9.906      0.000    5.25e+04    7.84e+04\n",
       "view_4         1.401e+05   1.15e+04     12.183      0.000    1.18e+05    1.63e+05\n",
       "cond_2         5.363e+04   2.32e+04      2.307      0.021    8061.274    9.92e+04\n",
       "cond_3         7.061e+04   2.16e+04      3.268      0.001    2.83e+04    1.13e+05\n",
       "cond_4         9.679e+04   2.16e+04      4.479      0.000    5.44e+04    1.39e+05\n",
       "cond_5         1.229e+05   2.17e+04      5.654      0.000    8.03e+04    1.66e+05\n",
       "grade_4       -1.819e+05   1.09e+05     -1.665      0.096   -3.96e+05    3.22e+04\n",
       "grade_5       -2.031e+05   1.07e+05     -1.889      0.059   -4.14e+05    7595.698\n",
       "grade_6       -1.794e+05   1.07e+05     -1.671      0.095    -3.9e+05    3.11e+04\n",
       "grade_7       -1.339e+05   1.07e+05     -1.247      0.212   -3.44e+05    7.66e+04\n",
       "grade_8       -6.265e+04   1.07e+05     -0.583      0.560   -2.73e+05    1.48e+05\n",
       "grade_9        4.548e+04   1.07e+05      0.423      0.672   -1.65e+05    2.56e+05\n",
       "grade_10       1.216e+05   1.08e+05      1.130      0.258   -8.93e+04    3.32e+05\n",
       "grade_11       1.814e+05   1.08e+05      1.677      0.094   -3.06e+04    3.93e+05\n",
       "grade_12       2.796e+05   1.52e+05      1.843      0.065   -1.78e+04    5.77e+05\n",
       "==============================================================================\n",
       "Omnibus:                     1085.758   Durbin-Watson:                   1.969\n",
       "Prob(Omnibus):                  0.000   Jarque-Bera (JB):             1743.484\n",
       "Skew:                           0.470   Prob(JB):                         0.00\n",
       "Kurtosis:                       4.137   Cond. No.                         938.\n",
       "==============================================================================\n",
       "\n",
       "Warnings:\n",
       "[1] Standard Errors assume that the covariance matrix of the errors is correctly specified.\n",
       "\"\"\""
      ]
     },
     "execution_count": 65,
     "metadata": {},
     "output_type": "execute_result"
    }
   ],
   "source": [
    "model.summary()"
   ]
  },
  {
   "cell_type": "markdown",
   "metadata": {},
   "source": [
    "### Observations of newest model\n",
    "1. Adjusted R-Squared went up\n",
    "2. Skew and Kurtosis both marginally went down"
   ]
  },
  {
   "cell_type": "markdown",
   "metadata": {
    "ExecuteTime": {
     "end_time": "2019-09-05T16:44:25.371248Z",
     "start_time": "2019-09-05T16:44:23.961Z"
    }
   },
   "source": [
    "## Feature Scaling"
   ]
  },
  {
   "cell_type": "markdown",
   "metadata": {
    "ExecuteTime": {
     "end_time": "2019-09-05T16:44:45.160555Z",
     "start_time": "2019-09-05T16:44:45.157561Z"
    }
   },
   "source": [
    "### Stepwise Selection"
   ]
  },
  {
   "cell_type": "markdown",
   "metadata": {},
   "source": [
    "The following function will limit any feature so that they will all be below the 0.05 p-value threshold."
   ]
  },
  {
   "cell_type": "code",
   "execution_count": 66,
   "metadata": {
    "ExecuteTime": {
     "end_time": "2019-09-10T14:58:56.242994Z",
     "start_time": "2019-09-10T14:58:56.235013Z"
    }
   },
   "outputs": [],
   "source": [
    "def stepwise_selection(X, y, \n",
    "                       initial_list=[], \n",
    "                       threshold_in=0.01, \n",
    "                       threshold_out = 0.05, \n",
    "                       verbose=True):\n",
    "    \"\"\" Perform a forward-backward feature selection \n",
    "    based on p-value from statsmodels.api.OLS\n",
    "    Arguments:\n",
    "        X - pandas.DataFrame with candidate features\n",
    "        y - list-like with the target\n",
    "        initial_list - list of features to start with (column names of X)\n",
    "        threshold_in - include a feature if its p-value < threshold_in\n",
    "        threshold_out - exclude a feature if its p-value > threshold_out\n",
    "        verbose - whether to print the sequence of inclusions and exclusions\n",
    "    Returns: list of selected features \n",
    "    Always set threshold_in < threshold_out to avoid infinite looping.\n",
    "    See https://en.wikipedia.org/wiki/Stepwise_regression for the details\n",
    "    \"\"\"\n",
    "    included = list(initial_list)\n",
    "    while True:\n",
    "        changed=False\n",
    "        # forward step\n",
    "        excluded = list(set(X.columns)-set(included))\n",
    "        new_pval = pd.Series(index=excluded)\n",
    "        for new_column in excluded:\n",
    "            model = sm.OLS(y, sm.add_constant(pd.DataFrame(X[included+[new_column]]))).fit()\n",
    "            new_pval[new_column] = model.pvalues[new_column]\n",
    "        best_pval = new_pval.min()\n",
    "        if best_pval < threshold_in:\n",
    "            best_feature = new_pval.idxmin()\n",
    "            included.append(best_feature)\n",
    "            changed=True\n",
    "            if verbose:\n",
    "                print('Add  {:30} with p-value {:.6}'.format(best_feature, best_pval))\n",
    "\n",
    "        # backward step\n",
    "        model = sm.OLS(y, sm.add_constant(pd.DataFrame(X[included]))).fit()\n",
    "        # use all coefs except intercept\n",
    "        pvalues = model.pvalues.iloc[1:]\n",
    "        worst_pval = pvalues.max() # null if pvalues is empty\n",
    "        if worst_pval > threshold_out:\n",
    "            changed=True\n",
    "            worst_feature = pvalues.argmax()\n",
    "            included.remove(worst_feature)\n",
    "            if verbose:\n",
    "                print('Drop {:30} with p-value {:.6}'.format(worst_feature, worst_pval))\n",
    "        if not changed:\n",
    "            break\n",
    "    return included"
   ]
  },
  {
   "cell_type": "code",
   "execution_count": 67,
   "metadata": {
    "ExecuteTime": {
     "end_time": "2019-09-10T14:59:11.925377Z",
     "start_time": "2019-09-10T14:58:57.946589Z"
    }
   },
   "outputs": [
    {
     "name": "stdout",
     "output_type": "stream",
     "text": [
      "Add  grade_10                       with p-value 0.0\n"
     ]
    },
    {
     "name": "stderr",
     "output_type": "stream",
     "text": [
      "C:\\Users\\Andy\\Anaconda3\\lib\\site-packages\\numpy\\core\\fromnumeric.py:2389: FutureWarning: Method .ptp is deprecated and will be removed in a future version. Use numpy.ptp instead.\n",
      "  return ptp(axis=axis, out=out, **kwargs)\n"
     ]
    },
    {
     "name": "stdout",
     "output_type": "stream",
     "text": [
      "Add  grade_7                        with p-value 0.0\n",
      "Add  sqft_living                    with p-value 0.0\n",
      "Add  lat                            with p-value 0.0\n",
      "Add  grade_9                        with p-value 3.06325e-212\n",
      "Add  yr_built                       with p-value 3.82574e-253\n",
      "Add  grade_6                        with p-value 7.68885e-282\n",
      "Add  sqft_living15                  with p-value 6.42065e-106\n",
      "Add  sqft_lot                       with p-value 3.15639e-155\n",
      "Add  grade_11                       with p-value 7.01464e-75\n",
      "Add  grade_8                        with p-value 2.28301e-69\n",
      "Drop grade_6                        with p-value 0.220878\n"
     ]
    },
    {
     "name": "stderr",
     "output_type": "stream",
     "text": [
      "C:\\Users\\Andy\\Anaconda3\\lib\\site-packages\\ipykernel_launcher.py:43: FutureWarning: \n",
      "The current behaviour of 'Series.argmax' is deprecated, use 'idxmax'\n",
      "instead.\n",
      "The behavior of 'argmax' will be corrected to return the positional\n",
      "maximum in the future. For now, use 'series.values.argmax' or\n",
      "'np.argmax(np.array(values))' to get the position of the maximum\n",
      "row.\n"
     ]
    },
    {
     "name": "stdout",
     "output_type": "stream",
     "text": [
      "Add  view_4                         with p-value 4.96246e-59\n",
      "Add  cond_3                         with p-value 7.4971e-57\n",
      "Add  bathrooms                      with p-value 1.95849e-33\n",
      "Add  view_2                         with p-value 2.87534e-31\n",
      "Add  zipcode                        with p-value 2.69366e-35\n",
      "Add  view_1                         with p-value 1.95309e-22\n",
      "Add  view_3                         with p-value 6.19156e-24\n",
      "Add  waterfront                     with p-value 2.55919e-18\n",
      "Add  cond_5                         with p-value 6.8018e-16\n",
      "Add  yr_renovated                   with p-value 8.81298e-17\n",
      "Add  bdrm_2                         with p-value 4.0316e-10\n",
      "Add  sqft_basement                  with p-value 1.14174e-09\n",
      "Add  cond_4                         with p-value 7.54551e-10\n",
      "Add  grade_12                       with p-value 1.64122e-05\n",
      "Add  flr_2                          with p-value 0.000836478\n",
      "Add  grade_5                        with p-value 0.00215344\n",
      "Add  flr_3                          with p-value 0.00425392\n",
      "resulting features:\n",
      "['grade_10', 'grade_7', 'sqft_living', 'lat', 'grade_9', 'yr_built', 'sqft_living15', 'sqft_lot', 'grade_11', 'grade_8', 'view_4', 'cond_3', 'bathrooms', 'view_2', 'zipcode', 'view_1', 'view_3', 'waterfront', 'cond_5', 'yr_renovated', 'bdrm_2', 'sqft_basement', 'cond_4', 'grade_12', 'flr_2', 'grade_5', 'flr_3']\n"
     ]
    }
   ],
   "source": [
    "result = stepwise_selection(predictors, df[\"price\"], verbose = True)\n",
    "print('resulting features:')\n",
    "print(result)"
   ]
  },
  {
   "cell_type": "code",
   "execution_count": 68,
   "metadata": {
    "ExecuteTime": {
     "end_time": "2019-09-10T14:59:13.727851Z",
     "start_time": "2019-09-10T14:59:13.619571Z"
    }
   },
   "outputs": [
    {
     "data": {
      "text/html": [
       "<table class=\"simpletable\">\n",
       "<caption>OLS Regression Results</caption>\n",
       "<tr>\n",
       "  <th>Dep. Variable:</th>          <td>price</td>      <th>  R-squared:         </th>  <td>   0.702</td>  \n",
       "</tr>\n",
       "<tr>\n",
       "  <th>Model:</th>                   <td>OLS</td>       <th>  Adj. R-squared:    </th>  <td>   0.701</td>  \n",
       "</tr>\n",
       "<tr>\n",
       "  <th>Method:</th>             <td>Least Squares</td>  <th>  F-statistic:       </th>  <td>   1672.</td>  \n",
       "</tr>\n",
       "<tr>\n",
       "  <th>Date:</th>             <td>Tue, 10 Sep 2019</td> <th>  Prob (F-statistic):</th>   <td>  0.00</td>   \n",
       "</tr>\n",
       "<tr>\n",
       "  <th>Time:</th>                 <td>09:59:13</td>     <th>  Log-Likelihood:    </th> <td>-2.5003e+05</td>\n",
       "</tr>\n",
       "<tr>\n",
       "  <th>No. Observations:</th>      <td> 19236</td>      <th>  AIC:               </th>  <td>5.001e+05</td> \n",
       "</tr>\n",
       "<tr>\n",
       "  <th>Df Residuals:</th>          <td> 19208</td>      <th>  BIC:               </th>  <td>5.003e+05</td> \n",
       "</tr>\n",
       "<tr>\n",
       "  <th>Df Model:</th>              <td>    27</td>      <th>                     </th>      <td> </td>     \n",
       "</tr>\n",
       "<tr>\n",
       "  <th>Covariance Type:</th>      <td>nonrobust</td>    <th>                     </th>      <td> </td>     \n",
       "</tr>\n",
       "</table>\n",
       "<table class=\"simpletable\">\n",
       "<tr>\n",
       "        <td></td>           <th>coef</th>     <th>std err</th>      <th>t</th>      <th>P>|t|</th>  <th>[0.025</th>    <th>0.975]</th>  \n",
       "</tr>\n",
       "<tr>\n",
       "  <th>Intercept</th>     <td>-4.493e+04</td> <td> 1.08e+04</td> <td>   -4.177</td> <td> 0.000</td> <td> -6.6e+04</td> <td>-2.38e+04</td>\n",
       "</tr>\n",
       "<tr>\n",
       "  <th>grade_10</th>      <td> 3.027e+05</td> <td> 6260.206</td> <td>   48.359</td> <td> 0.000</td> <td>  2.9e+05</td> <td> 3.15e+05</td>\n",
       "</tr>\n",
       "<tr>\n",
       "  <th>grade_7</th>       <td> 4.556e+04</td> <td> 2975.507</td> <td>   15.311</td> <td> 0.000</td> <td> 3.97e+04</td> <td> 5.14e+04</td>\n",
       "</tr>\n",
       "<tr>\n",
       "  <th>sqft_living</th>   <td> 3.979e+05</td> <td> 1.26e+04</td> <td>   31.528</td> <td> 0.000</td> <td> 3.73e+05</td> <td> 4.23e+05</td>\n",
       "</tr>\n",
       "<tr>\n",
       "  <th>lat</th>           <td> 3.351e+05</td> <td> 3757.088</td> <td>   89.187</td> <td> 0.000</td> <td> 3.28e+05</td> <td> 3.42e+05</td>\n",
       "</tr>\n",
       "<tr>\n",
       "  <th>grade_9</th>       <td> 2.259e+05</td> <td> 4678.184</td> <td>   48.295</td> <td> 0.000</td> <td> 2.17e+05</td> <td> 2.35e+05</td>\n",
       "</tr>\n",
       "<tr>\n",
       "  <th>yr_built</th>      <td>-2.064e+05</td> <td> 4703.667</td> <td>  -43.890</td> <td> 0.000</td> <td>-2.16e+05</td> <td>-1.97e+05</td>\n",
       "</tr>\n",
       "<tr>\n",
       "  <th>sqft_living15</th> <td> 2.285e+05</td> <td> 9913.678</td> <td>   23.047</td> <td> 0.000</td> <td> 2.09e+05</td> <td> 2.48e+05</td>\n",
       "</tr>\n",
       "<tr>\n",
       "  <th>sqft_lot</th>      <td>-1.504e+05</td> <td> 6938.418</td> <td>  -21.670</td> <td> 0.000</td> <td>-1.64e+05</td> <td>-1.37e+05</td>\n",
       "</tr>\n",
       "<tr>\n",
       "  <th>grade_11</th>      <td> 3.627e+05</td> <td> 1.31e+04</td> <td>   27.709</td> <td> 0.000</td> <td> 3.37e+05</td> <td> 3.88e+05</td>\n",
       "</tr>\n",
       "<tr>\n",
       "  <th>grade_8</th>       <td> 1.174e+05</td> <td> 3643.578</td> <td>   32.218</td> <td> 0.000</td> <td>  1.1e+05</td> <td> 1.25e+05</td>\n",
       "</tr>\n",
       "<tr>\n",
       "  <th>view_4</th>        <td> 1.404e+05</td> <td> 1.15e+04</td> <td>   12.220</td> <td> 0.000</td> <td> 1.18e+05</td> <td> 1.63e+05</td>\n",
       "</tr>\n",
       "<tr>\n",
       "  <th>cond_3</th>        <td> 2.432e+04</td> <td> 8363.304</td> <td>    2.907</td> <td> 0.004</td> <td> 7922.208</td> <td> 4.07e+04</td>\n",
       "</tr>\n",
       "<tr>\n",
       "  <th>bathrooms</th>     <td> 1.293e+05</td> <td> 1.34e+04</td> <td>    9.668</td> <td> 0.000</td> <td> 1.03e+05</td> <td> 1.56e+05</td>\n",
       "</tr>\n",
       "<tr>\n",
       "  <th>view_2</th>        <td> 5.998e+04</td> <td> 4231.380</td> <td>   14.174</td> <td> 0.000</td> <td> 5.17e+04</td> <td> 6.83e+04</td>\n",
       "</tr>\n",
       "<tr>\n",
       "  <th>zipcode</th>       <td>-4.831e+04</td> <td> 3377.661</td> <td>  -14.302</td> <td> 0.000</td> <td>-5.49e+04</td> <td>-4.17e+04</td>\n",
       "</tr>\n",
       "<tr>\n",
       "  <th>view_1</th>        <td> 7.149e+04</td> <td> 6754.407</td> <td>   10.584</td> <td> 0.000</td> <td> 5.82e+04</td> <td> 8.47e+04</td>\n",
       "</tr>\n",
       "<tr>\n",
       "  <th>view_3</th>        <td> 6.616e+04</td> <td> 6598.420</td> <td>   10.027</td> <td> 0.000</td> <td> 5.32e+04</td> <td> 7.91e+04</td>\n",
       "</tr>\n",
       "<tr>\n",
       "  <th>waterfront</th>    <td> 1.605e+05</td> <td> 1.98e+04</td> <td>    8.114</td> <td> 0.000</td> <td> 1.22e+05</td> <td> 1.99e+05</td>\n",
       "</tr>\n",
       "<tr>\n",
       "  <th>cond_5</th>        <td> 7.656e+04</td> <td> 8730.451</td> <td>    8.769</td> <td> 0.000</td> <td> 5.94e+04</td> <td> 9.37e+04</td>\n",
       "</tr>\n",
       "<tr>\n",
       "  <th>yr_renovated</th>  <td> 4.119e+04</td> <td> 5074.592</td> <td>    8.117</td> <td> 0.000</td> <td> 3.12e+04</td> <td> 5.11e+04</td>\n",
       "</tr>\n",
       "<tr>\n",
       "  <th>bdrm_2</th>        <td> 1.755e+04</td> <td> 2624.834</td> <td>    6.685</td> <td> 0.000</td> <td> 1.24e+04</td> <td> 2.27e+04</td>\n",
       "</tr>\n",
       "<tr>\n",
       "  <th>sqft_basement</th> <td>-1.885e+04</td> <td> 6382.683</td> <td>   -2.954</td> <td> 0.003</td> <td>-3.14e+04</td> <td>-6343.210</td>\n",
       "</tr>\n",
       "<tr>\n",
       "  <th>cond_4</th>        <td> 5.039e+04</td> <td> 8394.563</td> <td>    6.003</td> <td> 0.000</td> <td> 3.39e+04</td> <td> 6.68e+04</td>\n",
       "</tr>\n",
       "<tr>\n",
       "  <th>grade_12</th>      <td> 4.625e+05</td> <td> 1.07e+05</td> <td>    4.318</td> <td> 0.000</td> <td> 2.53e+05</td> <td> 6.73e+05</td>\n",
       "</tr>\n",
       "<tr>\n",
       "  <th>flr_2</th>         <td> 9756.3352</td> <td> 2292.472</td> <td>    4.256</td> <td> 0.000</td> <td> 5262.890</td> <td> 1.42e+04</td>\n",
       "</tr>\n",
       "<tr>\n",
       "  <th>grade_5</th>       <td>-2.395e+04</td> <td> 7668.415</td> <td>   -3.124</td> <td> 0.002</td> <td> -3.9e+04</td> <td>-8923.994</td>\n",
       "</tr>\n",
       "<tr>\n",
       "  <th>flr_3</th>         <td> 1.609e+04</td> <td> 5627.983</td> <td>    2.859</td> <td> 0.004</td> <td> 5059.250</td> <td> 2.71e+04</td>\n",
       "</tr>\n",
       "</table>\n",
       "<table class=\"simpletable\">\n",
       "<tr>\n",
       "  <th>Omnibus:</th>       <td>1086.364</td> <th>  Durbin-Watson:     </th> <td>   1.969</td>\n",
       "</tr>\n",
       "<tr>\n",
       "  <th>Prob(Omnibus):</th>  <td> 0.000</td>  <th>  Jarque-Bera (JB):  </th> <td>1745.159</td>\n",
       "</tr>\n",
       "<tr>\n",
       "  <th>Skew:</th>           <td> 0.470</td>  <th>  Prob(JB):          </th> <td>    0.00</td>\n",
       "</tr>\n",
       "<tr>\n",
       "  <th>Kurtosis:</th>       <td> 4.138</td>  <th>  Cond. No.          </th> <td>    281.</td>\n",
       "</tr>\n",
       "</table><br/><br/>Warnings:<br/>[1] Standard Errors assume that the covariance matrix of the errors is correctly specified."
      ],
      "text/plain": [
       "<class 'statsmodels.iolib.summary.Summary'>\n",
       "\"\"\"\n",
       "                            OLS Regression Results                            \n",
       "==============================================================================\n",
       "Dep. Variable:                  price   R-squared:                       0.702\n",
       "Model:                            OLS   Adj. R-squared:                  0.701\n",
       "Method:                 Least Squares   F-statistic:                     1672.\n",
       "Date:                Tue, 10 Sep 2019   Prob (F-statistic):               0.00\n",
       "Time:                        09:59:13   Log-Likelihood:            -2.5003e+05\n",
       "No. Observations:               19236   AIC:                         5.001e+05\n",
       "Df Residuals:                   19208   BIC:                         5.003e+05\n",
       "Df Model:                          27                                         \n",
       "Covariance Type:            nonrobust                                         \n",
       "=================================================================================\n",
       "                    coef    std err          t      P>|t|      [0.025      0.975]\n",
       "---------------------------------------------------------------------------------\n",
       "Intercept     -4.493e+04   1.08e+04     -4.177      0.000    -6.6e+04   -2.38e+04\n",
       "grade_10       3.027e+05   6260.206     48.359      0.000     2.9e+05    3.15e+05\n",
       "grade_7        4.556e+04   2975.507     15.311      0.000    3.97e+04    5.14e+04\n",
       "sqft_living    3.979e+05   1.26e+04     31.528      0.000    3.73e+05    4.23e+05\n",
       "lat            3.351e+05   3757.088     89.187      0.000    3.28e+05    3.42e+05\n",
       "grade_9        2.259e+05   4678.184     48.295      0.000    2.17e+05    2.35e+05\n",
       "yr_built      -2.064e+05   4703.667    -43.890      0.000   -2.16e+05   -1.97e+05\n",
       "sqft_living15  2.285e+05   9913.678     23.047      0.000    2.09e+05    2.48e+05\n",
       "sqft_lot      -1.504e+05   6938.418    -21.670      0.000   -1.64e+05   -1.37e+05\n",
       "grade_11       3.627e+05   1.31e+04     27.709      0.000    3.37e+05    3.88e+05\n",
       "grade_8        1.174e+05   3643.578     32.218      0.000     1.1e+05    1.25e+05\n",
       "view_4         1.404e+05   1.15e+04     12.220      0.000    1.18e+05    1.63e+05\n",
       "cond_3         2.432e+04   8363.304      2.907      0.004    7922.208    4.07e+04\n",
       "bathrooms      1.293e+05   1.34e+04      9.668      0.000    1.03e+05    1.56e+05\n",
       "view_2         5.998e+04   4231.380     14.174      0.000    5.17e+04    6.83e+04\n",
       "zipcode       -4.831e+04   3377.661    -14.302      0.000   -5.49e+04   -4.17e+04\n",
       "view_1         7.149e+04   6754.407     10.584      0.000    5.82e+04    8.47e+04\n",
       "view_3         6.616e+04   6598.420     10.027      0.000    5.32e+04    7.91e+04\n",
       "waterfront     1.605e+05   1.98e+04      8.114      0.000    1.22e+05    1.99e+05\n",
       "cond_5         7.656e+04   8730.451      8.769      0.000    5.94e+04    9.37e+04\n",
       "yr_renovated   4.119e+04   5074.592      8.117      0.000    3.12e+04    5.11e+04\n",
       "bdrm_2         1.755e+04   2624.834      6.685      0.000    1.24e+04    2.27e+04\n",
       "sqft_basement -1.885e+04   6382.683     -2.954      0.003   -3.14e+04   -6343.210\n",
       "cond_4         5.039e+04   8394.563      6.003      0.000    3.39e+04    6.68e+04\n",
       "grade_12       4.625e+05   1.07e+05      4.318      0.000    2.53e+05    6.73e+05\n",
       "flr_2          9756.3352   2292.472      4.256      0.000    5262.890    1.42e+04\n",
       "grade_5       -2.395e+04   7668.415     -3.124      0.002    -3.9e+04   -8923.994\n",
       "flr_3          1.609e+04   5627.983      2.859      0.004    5059.250    2.71e+04\n",
       "==============================================================================\n",
       "Omnibus:                     1086.364   Durbin-Watson:                   1.969\n",
       "Prob(Omnibus):                  0.000   Jarque-Bera (JB):             1745.159\n",
       "Skew:                           0.470   Prob(JB):                         0.00\n",
       "Kurtosis:                       4.138   Cond. No.                         281.\n",
       "==============================================================================\n",
       "\n",
       "Warnings:\n",
       "[1] Standard Errors assume that the covariance matrix of the errors is correctly specified.\n",
       "\"\"\""
      ]
     },
     "execution_count": 68,
     "metadata": {},
     "output_type": "execute_result"
    }
   ],
   "source": [
    "outcome = 'price'\n",
    "predictors = result\n",
    "pred_sum = \"+\".join(predictors)\n",
    "formula = outcome + '~' + pred_sum\n",
    "\n",
    "model = ols(formula=formula, data=df).fit()\n",
    "\n",
    "model.summary()"
   ]
  },
  {
   "cell_type": "markdown",
   "metadata": {},
   "source": [
    "## Model Observations:\n",
    "1. The intercept went down\n",
    "2. Adjusted R-squared, kurtosis, and skew did not really change\n",
    "3. Overall not a big change from the model with all of the features"
   ]
  },
  {
   "cell_type": "markdown",
   "metadata": {},
   "source": [
    "# Model Validation\n"
   ]
  },
  {
   "cell_type": "code",
   "execution_count": 69,
   "metadata": {
    "ExecuteTime": {
     "end_time": "2019-09-10T14:59:17.757158Z",
     "start_time": "2019-09-10T14:59:17.751196Z"
    }
   },
   "outputs": [],
   "source": [
    "y = df[['price']]\n",
    "X = df[result]"
   ]
  },
  {
   "cell_type": "code",
   "execution_count": 70,
   "metadata": {
    "ExecuteTime": {
     "end_time": "2019-09-10T14:59:19.544714Z",
     "start_time": "2019-09-10T14:59:19.537714Z"
    }
   },
   "outputs": [],
   "source": [
    "#split test size by 80/20\n",
    "from sklearn.model_selection import train_test_split\n",
    "X_train, X_test, y_train, y_test = train_test_split(X, y, test_size = 0.2)"
   ]
  },
  {
   "cell_type": "code",
   "execution_count": 71,
   "metadata": {
    "ExecuteTime": {
     "end_time": "2019-09-10T14:59:21.831318Z",
     "start_time": "2019-09-10T14:59:21.827329Z"
    }
   },
   "outputs": [
    {
     "name": "stdout",
     "output_type": "stream",
     "text": [
      "15388 3848 15388 3848\n"
     ]
    }
   ],
   "source": [
    "print(len(X_train), len(X_test), len(y_train), len(y_test))"
   ]
  },
  {
   "cell_type": "code",
   "execution_count": 72,
   "metadata": {
    "ExecuteTime": {
     "end_time": "2019-09-10T14:59:24.105347Z",
     "start_time": "2019-09-10T14:59:24.090388Z"
    }
   },
   "outputs": [
    {
     "name": "stdout",
     "output_type": "stream",
     "text": [
      "[-55043.64226965]\n",
      "[[ 3.05956669e+05  4.53869815e+04  4.05142294e+05  3.30614129e+05\n",
      "   2.28727111e+05 -2.06384829e+05  2.25527801e+05 -1.51969854e+05\n",
      "   3.55631245e+05  1.17477335e+05  1.40200023e+05  3.79684426e+04\n",
      "   1.16345985e+05  5.38185819e+04 -4.61535802e+04  7.62418584e+04\n",
      "   6.25338843e+04  1.51353018e+05  8.94861023e+04  3.53394978e+04\n",
      "   1.88077219e+04 -1.71492201e+04  6.30707153e+04 -1.60071068e-10\n",
      "   9.12713225e+03 -1.68602791e+04  1.76392425e+04]]\n"
     ]
    },
    {
     "data": {
      "text/plain": [
       "<zip at 0x28e14878808>"
      ]
     },
     "execution_count": 72,
     "metadata": {},
     "output_type": "execute_result"
    }
   ],
   "source": [
    "linreg = LinearRegression()\n",
    "linreg.fit(X_train, y_train)\n",
    "\n",
    "print(linreg.intercept_)\n",
    "\n",
    "print(linreg.coef_)\n",
    "\n",
    "zip(X.columns, linreg.coef_)"
   ]
  },
  {
   "cell_type": "code",
   "execution_count": 73,
   "metadata": {
    "ExecuteTime": {
     "end_time": "2019-09-10T15:00:11.675054Z",
     "start_time": "2019-09-10T15:00:11.666107Z"
    }
   },
   "outputs": [],
   "source": [
    "y_hat_train = linreg.predict(X_train)\n",
    "y_hat_test = linreg.predict(X_test)"
   ]
  },
  {
   "cell_type": "code",
   "execution_count": 74,
   "metadata": {
    "ExecuteTime": {
     "end_time": "2019-09-10T15:00:14.098168Z",
     "start_time": "2019-09-10T15:00:14.089167Z"
    }
   },
   "outputs": [
    {
     "name": "stdout",
     "output_type": "stream",
     "text": [
      "               price\n",
      "18645  -53696.740745\n",
      "18368   -2458.138123\n",
      "3971   143346.778576\n",
      "20419   67697.864603\n",
      "11363    1970.448116\n",
      "4562    24784.681829\n",
      "6311   -28880.241036\n",
      "16751   53297.647426\n",
      "8450    86433.551481\n",
      "14116  -15611.927558\n",
      "7308    57347.150256\n",
      "15163   67199.533397\n",
      "3153  -288433.236297\n",
      "13294   14086.139218\n",
      "16988 -188451.810387\n",
      "16064   59930.082732\n",
      "10940  -76516.170326\n",
      "20188   41149.655414\n",
      "17437   62254.082365\n",
      "3693  -137566.499275\n",
      "12341  -31187.012801\n",
      "18170   -8231.171268\n",
      "8747    43100.336743\n",
      "4771    93586.371766\n",
      "5520   -26493.308790\n",
      "14708 -101102.361952\n",
      "5590   -34770.624948\n",
      "21039   50065.272721\n",
      "14750   33755.750028\n",
      "8889    71523.723912\n",
      "...              ...\n",
      "4353  -282856.436975\n",
      "3428    44504.625290\n",
      "1506   184463.204116\n",
      "14198   -3717.241093\n",
      "8908   129661.642518\n",
      "8195   145476.186518\n",
      "10702   -4671.392075\n",
      "12860   89975.588040\n",
      "7516     3089.190992\n",
      "3016   -60113.110770\n",
      "16247  -41748.236333\n",
      "13731  243246.521474\n",
      "3542   143407.276385\n",
      "14596   27557.862880\n",
      "2842    28389.142932\n",
      "13668  -69757.575645\n",
      "6515    70126.206022\n",
      "16180  -53570.161737\n",
      "18199  -47454.860379\n",
      "17946    5944.053198\n",
      "11405   19260.086797\n",
      "4239   -35254.425761\n",
      "10103  -49325.243291\n",
      "13260 -134141.926282\n",
      "10428  -75770.388941\n",
      "8272    71482.099397\n",
      "16783  -26234.508872\n",
      "6407   -16445.215903\n",
      "16075  -78241.552505\n",
      "16749 -185182.036160\n",
      "\n",
      "[15388 rows x 1 columns]\n",
      "               price\n",
      "4527   -18847.233467\n",
      "15464  178858.843122\n",
      "17580 -244138.233489\n",
      "543    -37265.781383\n",
      "20020   22023.967764\n",
      "14054    4302.622345\n",
      "19289  -24987.471886\n",
      "4057   -20778.340829\n",
      "10899   20374.749657\n",
      "17468   17424.115150\n",
      "381    -57769.500394\n",
      "10580   46716.269021\n",
      "5010     1585.419536\n",
      "15248   50113.026447\n",
      "12710   -1140.597451\n",
      "8769   -29910.589524\n",
      "2232   -82116.685541\n",
      "6654   108172.558416\n",
      "10057   50624.117990\n",
      "4045  -301830.563481\n",
      "14239  -20531.766724\n",
      "9011   -33241.089925\n",
      "9083   171741.979956\n",
      "1558    13015.177081\n",
      "15744 -373619.353281\n",
      "11070  186456.865614\n",
      "18017  -16753.614475\n",
      "20284  132597.685795\n",
      "16356  -35712.651620\n",
      "1770   156132.776262\n",
      "...              ...\n",
      "17719   -6370.772881\n",
      "1401     1052.494648\n",
      "9678    34181.140201\n",
      "8100   -18049.757240\n",
      "7788   -37219.399397\n",
      "5420   -67334.109753\n",
      "6159   104960.181341\n",
      "16626  -62612.321871\n",
      "5103    -1520.314371\n",
      "15347   19124.141130\n",
      "5787  -179929.221465\n",
      "4534   -56809.627166\n",
      "13465  -81050.104468\n",
      "3481    96753.712847\n",
      "17242  -25172.116549\n",
      "14312   21652.823944\n",
      "9004  -191964.313863\n",
      "8847   142092.579614\n",
      "1998    11212.024550\n",
      "16485   15156.684820\n",
      "6087   -73094.189468\n",
      "14408   37488.548001\n",
      "7      -94000.564843\n",
      "1404    41767.929831\n",
      "19440   21626.215972\n",
      "16605  -74991.937216\n",
      "1817   -25192.008224\n",
      "6755    -9094.662897\n",
      "12849  -13559.631213\n",
      "1493   160782.114998\n",
      "\n",
      "[3848 rows x 1 columns]\n"
     ]
    }
   ],
   "source": [
    "train_residuals = y_hat_train - y_train\n",
    "print(train_residuals)\n",
    "test_residuals = y_hat_test - y_test\n",
    "print(test_residuals)"
   ]
  },
  {
   "cell_type": "code",
   "execution_count": 75,
   "metadata": {
    "ExecuteTime": {
     "end_time": "2019-09-10T15:00:16.486017Z",
     "start_time": "2019-09-10T15:00:16.480033Z"
    }
   },
   "outputs": [
    {
     "name": "stdout",
     "output_type": "stream",
     "text": [
      "Train Mean Squarred Error: 11331796285.224173\n",
      "Test Mean Squarred Error: 11869425149.876762\n"
     ]
    }
   ],
   "source": [
    "train_mse = mean_squared_error(y_train, y_hat_train)\n",
    "test_mse = mean_squared_error(y_test, y_hat_test)\n",
    "print('Train Mean Squarred Error:', train_mse)\n",
    "print('Test Mean Squarred Error:', test_mse)"
   ]
  },
  {
   "cell_type": "markdown",
   "metadata": {},
   "source": [
    "# Conclusions\n",
    "\n",
    "This does not feel like the best model for the data set. However this was the lowest MSE I found for both the Train and Test data sets. Perhaps there is a combination of features that could lower the error. Limiting the price further may make the model predict better too. However I wanted to use as much of the data as I could for this project and only remove features with high colinearities between each other. I probably could have binned more features or reworked categorical variables but I felt I had put enough hours into playing with other parts. \n",
    "\n",
    "The IterativeImputer may also have played a role in such a high MSE. It was a challenge to make it fit with the data. I was given negative numbers and decimals in places I did not want them. There may be a better way to approach IterativeImputer but I wanted something that would further my knowledge of python and statistics instead of just filling in 0's or random numbers, etc. I feel like it worked out for the most part even if I had to manually fix a few things here and there. Overall I learned something and I think that is the goal in the end. \n",
    "\n",
    "Grade, sqft_living, and sqft_living15 had the highest coefficients in the models. From what I can deduce they will have the highest impact on the final selling point of a house. While zipcodes in their raw form would have the least impact. Given unlimited time it would be nice to group houses by zipcode and see the variations between zip codes. Another interesting feature may have been different political zones to see if there is gerrymandering or other things like that. Maybe another project some day. "
   ]
  }
 ],
 "metadata": {
  "kernelspec": {
   "display_name": "Python 3",
   "language": "python",
   "name": "python3"
  },
  "language_info": {
   "codemirror_mode": {
    "name": "ipython",
    "version": 3
   },
   "file_extension": ".py",
   "mimetype": "text/x-python",
   "name": "python",
   "nbconvert_exporter": "python",
   "pygments_lexer": "ipython3",
   "version": "3.7.3"
  },
  "toc": {
   "base_numbering": 1,
   "nav_menu": {},
   "number_sections": true,
   "sideBar": true,
   "skip_h1_title": false,
   "title_cell": "Table of Contents",
   "title_sidebar": "Contents",
   "toc_cell": false,
   "toc_position": {},
   "toc_section_display": true,
   "toc_window_display": false
  },
  "varInspector": {
   "cols": {
    "lenName": 16,
    "lenType": 16,
    "lenVar": 40
   },
   "kernels_config": {
    "python": {
     "delete_cmd_postfix": "",
     "delete_cmd_prefix": "del ",
     "library": "var_list.py",
     "varRefreshCmd": "print(var_dic_list())"
    },
    "r": {
     "delete_cmd_postfix": ") ",
     "delete_cmd_prefix": "rm(",
     "library": "var_list.r",
     "varRefreshCmd": "cat(var_dic_list()) "
    }
   },
   "types_to_exclude": [
    "module",
    "function",
    "builtin_function_or_method",
    "instance",
    "_Feature"
   ],
   "window_display": false
  }
 },
 "nbformat": 4,
 "nbformat_minor": 2
}
